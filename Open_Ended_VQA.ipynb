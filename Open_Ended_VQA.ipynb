{
  "cells": [
    {
      "cell_type": "code",
      "execution_count": null,
      "metadata": {
        "id": "EQp14w_1KcMt"
      },
      "outputs": [],
      "source": [
        "!pip install transformers evaluate peft"
      ]
    },
    {
      "cell_type": "code",
      "execution_count": 2,
      "metadata": {
        "colab": {
          "base_uri": "https://localhost:8080/"
        },
        "id": "sQilw-jNnz7U",
        "outputId": "411d69f7-3a8e-48b2-c08d-5cf5281a6a80"
      },
      "outputs": [
        {
          "name": "stdout",
          "output_type": "stream",
          "text": [
            "Mounted at /content/drive\n"
          ]
        }
      ],
      "source": [
        "from google.colab import drive\n",
        "drive.mount('/content/drive')"
      ]
    },
    {
      "cell_type": "code",
      "execution_count": 3,
      "metadata": {
        "id": "S_l52meDEGzP"
      },
      "outputs": [],
      "source": [
        "import os\n",
        "import pandas as pd\n",
        "import torch\n",
        "from torch.utils.data import Dataset, DataLoader\n",
        "from PIL import Image\n",
        "from transformers import CLIPImageProcessor, GPT2Tokenizer\n",
        "import torch.nn as nn\n",
        "from transformers import CLIPProcessor, CLIPModel, GPT2LMHeadModel, GPT2Tokenizer\n",
        "from transformers import AutoTokenizer\n",
        "from typing import Tuple\n",
        "import torch.optim as optim\n",
        "from torch.nn import functional as nnf\n",
        "from tqdm import tqdm\n",
        "from sklearn.metrics import accuracy_score,roc_auc_score\n",
        "from nltk.translate.bleu_score import sentence_bleu\n",
        "import pdb\n",
        "from evaluate import load\n",
        "import collections\n",
        "from torch.cuda.amp import autocast\n",
        "import numpy as np\n",
        "from nltk.tokenize import TreebankWordTokenizer\n",
        "from peft import (\n",
        "    get_peft_model,\n",
        "    LoraConfig,\n",
        "    PrefixTuningConfig,\n",
        "    PromptEncoderConfig,\n",
        "    PromptTuningConfig,\n",
        "    TaskType,\n",
        ")"
      ]
    },
    {
      "attachments": {},
      "cell_type": "markdown",
      "metadata": {
        "id": "KnzLqto-jtX2"
      },
      "source": [
        "## VQA-RAD-Dataset"
      ]
    },
    {
      "cell_type": "code",
      "execution_count": 4,
      "metadata": {
        "id": "HuD2JYWRjoI9"
      },
      "outputs": [],
      "source": [
        "class VQARADDataset(Dataset):\n",
        "    def __init__(self, csv_file, img_dir, train_setting=True): #  transform=None\n",
        "        \"\"\"\n",
        "        Args:\n",
        "            csv_file (string): Path to the csv file with annotations.\n",
        "            img_dir (string): Directory with all the images.\n",
        "            transform (callable, optional): Optional transform to be applied\n",
        "                on a sample.\n",
        "        \"\"\"\n",
        "        self.vqa_rad_frame = pd.read_csv(csv_file)\n",
        "        self.img_dir = img_dir\n",
        "        self.preprocess = CLIPImageProcessor.from_pretrained('flaviagiammarino/pubmed-clip-vit-base-patch32')\n",
        "        self.gpt2_tokenizer = GPT2Tokenizer.from_pretrained(\"gpt2\")\n",
        "        self.train_setting = train_setting\n",
        "\n",
        "    def __len__(self):\n",
        "        return len(self.vqa_rad_frame)\n",
        "\n",
        "    def __getitem__(self, idx):\n",
        "        img_name = os.path.join(self.img_dir, self.vqa_rad_frame.iloc[idx, 0])\n",
        "        image = Image.open(img_name)\n",
        "        image = self.preprocess(image, return_tensors=\"pt\")\n",
        "        questions = self.vqa_rad_frame.iloc[idx, 2]\n",
        "        answers = self.vqa_rad_frame.iloc[idx, 4]\n",
        "        tokens, mask, q_len  = self.pad_sequences(idx, questions, answers)\n",
        "        tokens = tokens.long()\n",
        "        mask = mask.long()\n",
        "        q_len = q_len\n",
        "        sample = {'image': image['pixel_values'].squeeze(0), 'tokens': tokens, 'mask': mask, 'q_len' : q_len, 'answers' : answers, 'questions' : questions}\n",
        "\n",
        "        return sample\n",
        "\n",
        "    def pad_sequences(self,index, questions, answers):\n",
        "        m = [torch.tensor(self.gpt2_tokenizer.encode('question: ')),torch.tensor(self.gpt2_tokenizer.encode(' context:')),torch.tensor(self.gpt2_tokenizer.encode('answer ')),torch.tensor(self.gpt2_tokenizer.encode('<|endoftext|>'))]\n",
        "        m_mask = [torch.ones(len(self.gpt2_tokenizer.encode('question: '))),torch.ones(len(self.gpt2_tokenizer.encode(' context:'))),torch.ones(len(self.gpt2_tokenizer.encode('answer '))),torch.zeros(len(self.gpt2_tokenizer.encode('<|endoftext|>')))]\n",
        "\n",
        "        if self.train_setting:\n",
        "            q=torch.tensor(self.gpt2_tokenizer.encode(str(questions)))\n",
        "            a=torch.tensor(self.gpt2_tokenizer.encode(str(answers)))\n",
        "            q,q_mask,leftover_tokens = self.make_padding(16,q,question=True)\n",
        "            q_len = m[0].size(0) + q.size(0) + m[1].size(0)\n",
        "            a,a_mask,_ = self.make_padding(6 ,a,leftover_tokens=leftover_tokens)\n",
        "            if len((a==0).nonzero())!=0:\n",
        "                pad_start = (a==0).nonzero()[0]\n",
        "            else:\n",
        "                pad_start=[]\n",
        "            a = torch.cat((a,m[3])) if len(pad_start)==0 else torch.cat((a[:pad_start],m[3],a[pad_start:]))\n",
        "            q = torch.cat((m[0],q,m[1],torch.ones(1),m[2],a))\n",
        "\n",
        "            q_mask = torch.cat((m_mask[0],q_mask,m_mask[1],torch.ones(1),m_mask[2],a_mask,m_mask[3]))\n",
        "\n",
        "            return q,q_mask, q_len\n",
        "        else:\n",
        "            q = torch.tensor(self.gpt2_tokenizer.encode(str(questions)))\n",
        "            q,q_mask,_ = self.make_padding_test_setting(24,q)\n",
        "            q_len = m[0].size(0) + q.size(0) + m[1].size(0)\n",
        "            q = torch.cat((m[0],q,m[1],torch.ones(1),m[2]))\n",
        "\n",
        "            q_mask = torch.cat((m_mask[0],q_mask,m_mask[1],torch.ones(1),m_mask[2]))\n",
        "            return q,q_mask,q_len\n",
        "\n",
        "\n",
        "    def make_padding(self, max_len, tokens, question=False,leftover_tokens=0):\n",
        "        padding = max_len - tokens.size(0)\n",
        "        if padding > 0:\n",
        "            if question:\n",
        "                leftover_tokens = padding\n",
        "                mask = torch.ones(tokens.size(0))\n",
        "            else:\n",
        "                tokens = torch.cat((tokens, torch.zeros(padding+leftover_tokens)))\n",
        "                mask = torch.zeros(max_len+leftover_tokens)\n",
        "\n",
        "        elif padding==0:\n",
        "            if question:\n",
        "                mask = torch.ones(tokens.size(0))\n",
        "            else:\n",
        "                mask = torch.zeros(tokens.size(0)+leftover_tokens)\n",
        "                tokens = torch.cat((tokens,torch.zeros(leftover_tokens)))\n",
        "\n",
        "\n",
        "        elif padding < 0:\n",
        "            if question:\n",
        "                tokens = tokens[:max_len]\n",
        "                mask = torch.ones(max_len)\n",
        "            else:\n",
        "                tokens = torch.cat((tokens[:max_len], torch.zeros(leftover_tokens)))\n",
        "                mask = torch.zeros(max_len+ leftover_tokens)\n",
        "        return tokens, mask, leftover_tokens\n",
        "\n",
        "    def make_padding_test_setting(self, max_len, tokens,do_padding=False):\n",
        "        padding = max_len - tokens.size(0)\n",
        "        padding_len = 0\n",
        "        if padding > 0:\n",
        "            if do_padding:\n",
        "                mask = torch.cat((torch.ones(tokens.size(0)),torch.zeros(padding)))\n",
        "                tokens = torch.cat((tokens,torch.zeros(padding)))\n",
        "                padding_len = padding\n",
        "            else:\n",
        "                mask = torch.ones(tokens.size(0))\n",
        "        elif padding ==0:\n",
        "            mask = torch.ones(max_len)\n",
        "        elif padding < 0:\n",
        "            tokens = tokens[:max_len]\n",
        "            mask = torch.ones(max_len)\n",
        "        return tokens, mask, padding_len\n",
        "\n",
        "\n",
        "def get_loaders(csv_file='/content/drive/MyDrive/Medical_VQA/data/vqa_rad.csv', img_dir='/content/drive/MyDrive/data/img', batch_size=32, split_ratio=(0.8, 0.1, 0.1)):\n",
        "    \"\"\"\n",
        "    Returns training, validation, and test data loaders.\n",
        "    Args:\n",
        "        csv_file (string): Path to the csv file.\n",
        "        img_dir (string): Directory with all the images.\n",
        "        batch_size (int): Batch size for DataLoader.\n",
        "        transform (callable, optional): Optional transform to be applied on image.\n",
        "        split_ratio (tuple): Ratios for train, val, and test split. They should sum to 1.\n",
        "    \"\"\"\n",
        "\n",
        "    assert sum(split_ratio) == 1, \"Split ratios should sum to 1.\"\n",
        "\n",
        "    train_dataset = VQARADDataset(csv_file='/content/drive/MyDrive/data/vqa_rad_train.csv', img_dir=img_dir, train_setting = True)\n",
        "    val_dataset = VQARADDataset(csv_file='/content/drive/MyDrive/data/vqa_rad_valid.csv', img_dir=img_dir, train_setting = False)\n",
        "    test_dataset = VQARADDataset(csv_file='/content/drive/MyDrive/data/vqa_rad_test.csv', img_dir=img_dir, train_setting = False)\n",
        "\n",
        "    train_loader = DataLoader(train_dataset, batch_size=batch_size, shuffle=True)\n",
        "    val_loader = DataLoader(val_dataset, batch_size=batch_size, shuffle=False)\n",
        "    test_loader = DataLoader(test_dataset, batch_size=1, shuffle=False)\n",
        "\n",
        "    return train_loader, val_loader, test_loader"
      ]
    },
    {
      "attachments": {},
      "cell_type": "markdown",
      "metadata": {
        "id": "wDOCVnksZa09"
      },
      "source": [
        "## Mapping"
      ]
    },
    {
      "cell_type": "code",
      "execution_count": 5,
      "metadata": {
        "id": "ZQq0gyscZWE3"
      },
      "outputs": [],
      "source": [
        "class MLP(nn.Module):\n",
        "    def __init__(self, sizes: Tuple[int, ...], bias=True, act=nn.Tanh):\n",
        "        super(MLP, self).__init__()\n",
        "        layers = []\n",
        "        for i in range(len(sizes) - 1):\n",
        "            layers.append(nn.Linear(sizes[i], sizes[i + 1], bias=bias))\n",
        "            if i < len(sizes) - 2:\n",
        "                layers.append(nn.Dropout(p=0.3))\n",
        "                layers.append(act())\n",
        "        self.model = nn.Sequential(*layers)\n",
        "\n",
        "    def forward(self, x: torch.Tensor) -> torch.Tensor:\n",
        "        return self.model(x)"
      ]
    },
    {
      "attachments": {},
      "cell_type": "markdown",
      "metadata": {
        "id": "kIKx6adKj5Q0"
      },
      "source": [
        "## VQA_Model"
      ]
    },
    {
      "cell_type": "code",
      "execution_count": 6,
      "metadata": {
        "id": "CtnP-OSIDKcQ"
      },
      "outputs": [],
      "source": [
        "def get_peft_config(mode):\n",
        "\n",
        "    if mode == \"lora\":\n",
        "      peft_config = LoraConfig(\n",
        "          task_type=TaskType.CAUSAL_LM, inference_mode=False,\n",
        "          r=8,\n",
        "          lora_alpha=32, lora_dropout=0.1\n",
        "        )\n",
        "    elif mode == \"prefix\":\n",
        "        peft_config = PrefixTuningConfig(\n",
        "            task_type=TaskType.CAUSAL_LM,\n",
        "            num_virtual_tokens=32,\n",
        "            encoder_hidden_size=1024,\n",
        "            prefix_projection=True,\n",
        "        )\n",
        "    elif mode == \"ptuning\":\n",
        "        peft_config = PromptEncoderConfig(\n",
        "            task_type=TaskType.CAUSAL_LM,\n",
        "            num_virtual_tokens=32,\n",
        "            encoder_hidden_size=1024,\n",
        "        )\n",
        "    elif mode == \"prompt\":\n",
        "        peft_config = PromptTuningConfig(\n",
        "            task_type=TaskType.CAUSAL_LM,\n",
        "            num_virtual_tokens=32,\n",
        "        )\n",
        "\n",
        "    return peft_config"
      ]
    },
    {
      "cell_type": "code",
      "execution_count": 7,
      "metadata": {
        "id": "8FI0UowvCNY3"
      },
      "outputs": [],
      "source": [
        "class VQAModel(nn.Module):\n",
        "    def __init__(self):\n",
        "        super(VQAModel, self).__init__()\n",
        "\n",
        "        self.clip_model = CLIPModel.from_pretrained(\"flaviagiammarino/pubmed-clip-vit-base-patch32\")\n",
        "        self.clip_processor = CLIPProcessor.from_pretrained(\"flaviagiammarino/pubmed-clip-vit-base-patch32\")\n",
        "        self.gpt2_model = GPT2LMHeadModel.from_pretrained(\"cemilcelik/distilgpt2_pubmed\")\n",
        "        # self.mode = \"lora\" # [\"lora\", \"prefix\", \"ptuning\", \"prompt\"]\n",
        "        # self.peft_config = get_peft_config(self.mode)\n",
        "        # self.gpt2_model = get_peft_model(self.gpt2_model, self.peft_config)\n",
        "        self.tokenizer = GPT2Tokenizer.from_pretrained(\"gpt2\")\n",
        "        self.mapper = MLP(sizes=(512, 768, 768))\n",
        "\n",
        "    def forward(self, images, tokens, mask, q_len):\n",
        "        image_features = self.clip_model.get_image_features(images)\n",
        "        image_features = self.mapper(image_features).view(-1, 1, 768)\n",
        "        embedding = self.gpt2_model.transformer.wte(tokens)\n",
        "\n",
        "        for b in range(embedding.shape[0]):\n",
        "            # insert the visual prefix after the question\n",
        "            embedding[b,q_len[b]:q_len[b]+1,:] = image_features[b]\n",
        "\n",
        "        return self.gpt2_model(inputs_embeds=embedding, attention_mask=mask).logits\n",
        "\n",
        "    def generate(self, images, tokens, mask, q_len):\n",
        "        image_features = self.clip_model.get_image_features(images)\n",
        "        image_features = self.mapper(image_features).view(-1, 1, 768)\n",
        "        embedding_txt = self.gpt2_model.transformer.wte(tokens)\n",
        "        embedding_txt[q_len:q_len+1,:] = image_features\n",
        "        return embedding_txt"
      ]
    },
    {
      "attachments": {},
      "cell_type": "markdown",
      "metadata": {
        "id": "oaSftdj6j982"
      },
      "source": [
        "##Training"
      ]
    },
    {
      "cell_type": "code",
      "execution_count": 8,
      "metadata": {
        "colab": {
          "base_uri": "https://localhost:8080/",
          "height": 1000,
          "referenced_widgets": [
            "298867cc457b4058bef2bd5f20d36753",
            "ae781aca89204c06b1f149e928f06a78",
            "c80d862e1e8d4cb982abad53f442a4e5",
            "375b24bfb68646e2b3c9c38822ba7964",
            "69e6c6394f6e41648e5dbc30133fd27f",
            "74214bc03d4a43b0a531a858a5c75010",
            "4743ec07e7e246ef9024511194d93aec",
            "25b2647c0b864334b3b53ba0a90402ff",
            "88294d5e90a3422095eabf15e09e48ab",
            "36ca33f9baa845a38510f6a7459fa7a4",
            "dbfd16463b53482b97cc281b3fe01b9d",
            "f0785e3a0dff4700a32e1f087e91abc9",
            "6340aa3186f344c9bfc77557ae08fd23",
            "574fef77f01248c0a2a0bca678942d71",
            "5de9cd33157346ac9b1d5618ef48de32",
            "04aa1683d6024a0c86c06d87504a9e0f",
            "660a2d9a526f4ed687e39710b30390d9",
            "b0bcd9024230492f9105aea0eba8ad5c",
            "47803fc5536a44b0b6562f630f6b6ec4",
            "462ccfeec42b4fc99402c7a7c9990d56",
            "7ff21534cc324283b8a5d19569c883a0",
            "c916545d17654b96ac8d72f166cf879f",
            "fe74693abfed45d7a91877630776882a",
            "40afd08cde124898b425fb3e2216563c",
            "38febe23eded446da3a890392704baf3",
            "df7fe2d03a1b46f18295af8e7ca2b1ff",
            "3b9430531ba24275a40a64ba134c2cf4",
            "18aa09f120814ae58f1e308a84f11dac",
            "6a45b4a3512f46b6a605b5d1659194c1",
            "52eb763e1a9a4233aba5191122d8ee22",
            "53afb3ade7f64bfa9d68818fa025e47a",
            "7dfaf8a940c7441f96078752b65dfe2b",
            "be2513f7f22745e285bb4eb643561f62",
            "eca8654e4dd9409694c8d6f746bcbeb3",
            "cf09b28bc55b4ed094995b885466cbf6",
            "e8d9e91f952d47f79fbbd17d30d6d845",
            "42e9805074544a14afc6f373a6e458bc",
            "1c846c069885458ebb0825b6b0dd68ca",
            "8235a1cacd184dd5a3bc9bb11ec432f9",
            "056e61264ef14310ab72896cfb46c0be",
            "14014415b16c43a7bba56ee20122b4df",
            "36dd5978bcad48bc9f8564646ac740a5",
            "4beac69fcc0a444d9ec7e8fda0fafaee",
            "139fdda992f64736a7b39119bb08bc21",
            "6ce187faaf514192b231610f13a45a40",
            "8b7e1a70f085486f898735195ff11fed",
            "84b39d67ff57400990b8cfd22ce7c42c",
            "93b0b16687aa4a208eb6d0797cca72f6",
            "7503d0a5ea484de6b4be71bfec7023ee",
            "b30d09ceead64d9aa72fc1f4b1afd810",
            "ab82bdde0120494bb808b477030fa71a",
            "6e51cb00790e4f1195885e11fe8e87dc",
            "fd64cce7159a4e58ae1b448b7c999584",
            "2f78d84f9b844b5381b8434555f51e6f",
            "1d490f5b90e84c758641770a419f64c9",
            "8dd5dbcdb663439bbdb3e1f012fe9c32",
            "6fd95a58059f468789768999d902f54d",
            "425d58a922584999a4a0f1d9d4ff2c33",
            "126ecc351b934c71aceb4b4469cac5b4",
            "0d2c40e7258c4dd18c705c4266656977",
            "b92404ea84a441deb501fa402ad8edb5",
            "7c7a38beb18c415c926d7e3cb857bf51",
            "ff4fe594902b4e8f8bb9f319e7d7227e",
            "aacfff98136e4b93a28f923d74736450",
            "73a82a058ec64f7ea81e60f950137786",
            "dbc3c85ca4264aa5a606c8856569a8a3",
            "78a009d3e465440381bfbdedeb397ae2",
            "803d4ee46d1442b2ad1e5d89e749796a",
            "038ea5627ffd40a580e25673524f9592",
            "405a7d79bcc043dc8335ae6d5f5686a0",
            "c20168443c2048ed9e2eedb3937b5048",
            "e67050790ddf48519793de7612a4ea3a",
            "20ce169d391a45ce9a447978f6f57388",
            "cb5650b0314d4a9e917fed0a15df707d",
            "523b17ce156e408a9401cfe559ef2a65",
            "928442a4e674448d84e441050c9dd998",
            "b9a8100c9999427a8d2f8c2838037798",
            "e1fd19862749419284cea68ee0ff0fab",
            "97f8416126b5491cae52205049acbb48",
            "0a678417dae1462cb5083e9834d7f939",
            "b0eca420515b41b88ba385eb35ceaa27",
            "3e822e47e3a047c2a48ab1ed8ac9134a",
            "63fc4c8694ff4d47a67b9989e2c4f8da",
            "53cd55f37bc64449a2ae0b50bcf647d3",
            "3228e227cc004a8b984028094eadaef2",
            "46ff1d1a947d4bf982f638f3c85213c3",
            "4b6b69c600584cacad640b3fe8c64535",
            "ea1724f88d6a49f3bae4efbe46176526",
            "aa34abbe8733423397a65d4045efe4b3",
            "9e72ff537f26453fb6b50f5ac81eef4f",
            "5f6862a2e3eb4cc8939a6a04dcb289f4",
            "8efbf0cf12754bdb945197acbf9384f4",
            "44061c8e1ea048f09b59147dba5f4e07",
            "08a06a410e244abb8b50d51007093519",
            "a41f4fef66f6477aa98db3c5be3dbc4a",
            "d28538d7242c4003a2e30b71c36fd6c3",
            "59d790f893a748b297e36fa90601b231",
            "47ec53d096404cd2b9adbe899ca74f1d",
            "0e5796299e3b44bd98801308371d6cfe",
            "02e29771481c4e578ff051e460c06061",
            "1e76c50f892f4e73b30aa9c4ab4bfcb4",
            "d067b672811c40b9a4ab2893f2733bbd",
            "f635d0841597454590ee07d40a881297",
            "b407326a0ccb47a589b83a12273cd5f5",
            "67dd36dcc41f46309969aa6008769bce",
            "642b29dd72aa4642a48d080b6f9d01a0",
            "42914ae5429c42de84975a8f1ebe6112",
            "9c7c8d18c1924330bd0ea2c199c36591",
            "a25a599c18b84de78ff9eb286d9c5b95",
            "86b533becd9348f8ac7f5e3b6362b0af",
            "4c2aec2e96ac42f68100d456626044e4",
            "fb849286895b465891a022d705996da1",
            "d154d4ea71be48f6a09a9c4fb6db3126",
            "0c5ef6a0d6274c518989231d9e53301a",
            "66b6f696ddfd435da4816786ab5b3b29",
            "0d4d77a044c449a5a410cdea2fcce95e",
            "72c8594b44dc4e46be95743f4317c5e9",
            "174b12dece034dd7bc731c18c30c9465",
            "164a79f55d1e409b82d26211f29de3ce",
            "c57ca79471514e27bcd4dc338ab641fc",
            "9442a82dece34dbb983e62e7ee2e3b82",
            "f9e2d9def92e4f3da0d366fb10a97c8e",
            "bab0fc0038874735a82230e5eff3d862",
            "585513e310ce4e4e952d96993de2c3c0",
            "0103219e726349cc8d66ce715d3bcabd",
            "92301ebd6ceb4aebbb957bce01d6c465",
            "f11712190fdb4b93bb1a4b7f50c937c7",
            "fde2c12ced404e40bb0a7d075046a0b1",
            "3baf608f826b4193a00dd99721bdf162",
            "5e530b46d36a4f80905158942e65b44f",
            "83fafadfc41c481bb6929e10b56a1d6b",
            "86e4026532f246828416a7e2f0f4e6f5",
            "38b536e46483499e828cfc8728e9562f",
            "433e46d77a7847fcbf8ca5bcbe55eb8a",
            "e772292ebf7b442696fe1dc7f90d138a",
            "ed3e21e16d2140d38cc909543d59e914",
            "de303c2628df4ce7820dd8fd56343d52",
            "e87d8d1dbdce4d85b5e91a6bc252e5fa",
            "40511f224dbc487ab53944027b4aa9d6",
            "103aeb0ca3ab4766836a584b4be949f4",
            "95caaf34484a4b21949cdd01b56f6859",
            "580f129c4672441a92716c10e63d5591",
            "65fea6979a3a457a8b98afee62aab04d"
          ]
        },
        "id": "vMVnFE6AG33l",
        "outputId": "507202a3-25ad-4dd7-f18f-8ace7bb5de48"
      },
      "outputs": [
        {
          "data": {
            "application/vnd.jupyter.widget-view+json": {
              "model_id": "298867cc457b4058bef2bd5f20d36753",
              "version_major": 2,
              "version_minor": 0
            },
            "text/plain": [
              "Downloading (…)olve/main/vocab.json:   0%|          | 0.00/1.04M [00:00<?, ?B/s]"
            ]
          },
          "metadata": {},
          "output_type": "display_data"
        },
        {
          "data": {
            "application/vnd.jupyter.widget-view+json": {
              "model_id": "f0785e3a0dff4700a32e1f087e91abc9",
              "version_major": 2,
              "version_minor": 0
            },
            "text/plain": [
              "Downloading (…)olve/main/merges.txt:   0%|          | 0.00/456k [00:00<?, ?B/s]"
            ]
          },
          "metadata": {},
          "output_type": "display_data"
        },
        {
          "data": {
            "application/vnd.jupyter.widget-view+json": {
              "model_id": "fe74693abfed45d7a91877630776882a",
              "version_major": 2,
              "version_minor": 0
            },
            "text/plain": [
              "Downloading (…)/main/tokenizer.json:   0%|          | 0.00/1.36M [00:00<?, ?B/s]"
            ]
          },
          "metadata": {},
          "output_type": "display_data"
        },
        {
          "data": {
            "application/vnd.jupyter.widget-view+json": {
              "model_id": "eca8654e4dd9409694c8d6f746bcbeb3",
              "version_major": 2,
              "version_minor": 0
            },
            "text/plain": [
              "Downloading (…)lve/main/config.json:   0%|          | 0.00/665 [00:00<?, ?B/s]"
            ]
          },
          "metadata": {},
          "output_type": "display_data"
        },
        {
          "data": {
            "application/vnd.jupyter.widget-view+json": {
              "model_id": "6ce187faaf514192b231610f13a45a40",
              "version_major": 2,
              "version_minor": 0
            },
            "text/plain": [
              "Downloading (…)rocessor_config.json:   0%|          | 0.00/316 [00:00<?, ?B/s]"
            ]
          },
          "metadata": {},
          "output_type": "display_data"
        },
        {
          "data": {
            "application/vnd.jupyter.widget-view+json": {
              "model_id": "8dd5dbcdb663439bbdb3e1f012fe9c32",
              "version_major": 2,
              "version_minor": 0
            },
            "text/plain": [
              "Downloading (…)lve/main/config.json:   0%|          | 0.00/4.42k [00:00<?, ?B/s]"
            ]
          },
          "metadata": {},
          "output_type": "display_data"
        },
        {
          "data": {
            "application/vnd.jupyter.widget-view+json": {
              "model_id": "78a009d3e465440381bfbdedeb397ae2",
              "version_major": 2,
              "version_minor": 0
            },
            "text/plain": [
              "Downloading pytorch_model.bin:   0%|          | 0.00/605M [00:00<?, ?B/s]"
            ]
          },
          "metadata": {},
          "output_type": "display_data"
        },
        {
          "data": {
            "application/vnd.jupyter.widget-view+json": {
              "model_id": "e1fd19862749419284cea68ee0ff0fab",
              "version_major": 2,
              "version_minor": 0
            },
            "text/plain": [
              "Downloading (…)okenizer_config.json:   0%|          | 0.00/568 [00:00<?, ?B/s]"
            ]
          },
          "metadata": {},
          "output_type": "display_data"
        },
        {
          "name": "stderr",
          "output_type": "stream",
          "text": [
            "'(ReadTimeoutError(\"HTTPSConnectionPool(host='huggingface.co', port=443): Read timed out. (read timeout=10)\"), '(Request ID: 7da93d0d-fd0d-4e6b-a634-6e0e60d27384)')' thrown while requesting HEAD https://huggingface.co/flaviagiammarino/pubmed-clip-vit-base-patch32/resolve/main/vocab.json\n",
            "WARNING:huggingface_hub.utils._http:'(ReadTimeoutError(\"HTTPSConnectionPool(host='huggingface.co', port=443): Read timed out. (read timeout=10)\"), '(Request ID: 7da93d0d-fd0d-4e6b-a634-6e0e60d27384)')' thrown while requesting HEAD https://huggingface.co/flaviagiammarino/pubmed-clip-vit-base-patch32/resolve/main/vocab.json\n"
          ]
        },
        {
          "data": {
            "application/vnd.jupyter.widget-view+json": {
              "model_id": "aa34abbe8733423397a65d4045efe4b3",
              "version_major": 2,
              "version_minor": 0
            },
            "text/plain": [
              "Downloading (…)olve/main/merges.txt:   0%|          | 0.00/525k [00:00<?, ?B/s]"
            ]
          },
          "metadata": {},
          "output_type": "display_data"
        },
        {
          "data": {
            "application/vnd.jupyter.widget-view+json": {
              "model_id": "02e29771481c4e578ff051e460c06061",
              "version_major": 2,
              "version_minor": 0
            },
            "text/plain": [
              "Downloading (…)/main/tokenizer.json:   0%|          | 0.00/2.22M [00:00<?, ?B/s]"
            ]
          },
          "metadata": {},
          "output_type": "display_data"
        },
        {
          "data": {
            "application/vnd.jupyter.widget-view+json": {
              "model_id": "4c2aec2e96ac42f68100d456626044e4",
              "version_major": 2,
              "version_minor": 0
            },
            "text/plain": [
              "Downloading (…)cial_tokens_map.json:   0%|          | 0.00/389 [00:00<?, ?B/s]"
            ]
          },
          "metadata": {},
          "output_type": "display_data"
        },
        {
          "data": {
            "application/vnd.jupyter.widget-view+json": {
              "model_id": "f9e2d9def92e4f3da0d366fb10a97c8e",
              "version_major": 2,
              "version_minor": 0
            },
            "text/plain": [
              "Downloading (…)lve/main/config.json:   0%|          | 0.00/1.01k [00:00<?, ?B/s]"
            ]
          },
          "metadata": {},
          "output_type": "display_data"
        },
        {
          "data": {
            "application/vnd.jupyter.widget-view+json": {
              "model_id": "38b536e46483499e828cfc8728e9562f",
              "version_major": 2,
              "version_minor": 0
            },
            "text/plain": [
              "Downloading pytorch_model.bin:   0%|          | 0.00/334M [00:00<?, ?B/s]"
            ]
          },
          "metadata": {},
          "output_type": "display_data"
        },
        {
          "name": "stdout",
          "output_type": "stream",
          "text": [
            "Epoch 1/10\n"
          ]
        },
        {
          "name": "stderr",
          "output_type": "stream",
          "text": [
            "Training: 100%|██████████| 113/113 [03:53<00:00,  2.07s/it]\n"
          ]
        },
        {
          "name": "stdout",
          "output_type": "stream",
          "text": [
            "Train loss: 3.1863\n",
            "Epoch 2/10\n"
          ]
        },
        {
          "name": "stderr",
          "output_type": "stream",
          "text": [
            "Training: 100%|██████████| 113/113 [01:17<00:00,  1.46it/s]\n"
          ]
        },
        {
          "name": "stdout",
          "output_type": "stream",
          "text": [
            "Train loss: 1.9046\n",
            "Epoch 3/10\n"
          ]
        },
        {
          "name": "stderr",
          "output_type": "stream",
          "text": [
            "Training: 100%|██████████| 113/113 [01:17<00:00,  1.46it/s]\n"
          ]
        },
        {
          "name": "stdout",
          "output_type": "stream",
          "text": [
            "Train loss: 1.7607\n",
            "Epoch 4/10\n"
          ]
        },
        {
          "name": "stderr",
          "output_type": "stream",
          "text": [
            "Training: 100%|██████████| 113/113 [01:16<00:00,  1.48it/s]\n"
          ]
        },
        {
          "name": "stdout",
          "output_type": "stream",
          "text": [
            "Train loss: 1.6763\n",
            "Epoch 5/10\n"
          ]
        },
        {
          "name": "stderr",
          "output_type": "stream",
          "text": [
            "Training: 100%|██████████| 113/113 [01:17<00:00,  1.46it/s]\n"
          ]
        },
        {
          "name": "stdout",
          "output_type": "stream",
          "text": [
            "Train loss: 1.6434\n",
            "Epoch 6/10\n"
          ]
        },
        {
          "name": "stderr",
          "output_type": "stream",
          "text": [
            "Training: 100%|██████████| 113/113 [01:17<00:00,  1.46it/s]\n"
          ]
        },
        {
          "name": "stdout",
          "output_type": "stream",
          "text": [
            "Train loss: 1.6490\n",
            "Epoch 7/10\n"
          ]
        },
        {
          "name": "stderr",
          "output_type": "stream",
          "text": [
            "Training: 100%|██████████| 113/113 [01:16<00:00,  1.47it/s]\n"
          ]
        },
        {
          "name": "stdout",
          "output_type": "stream",
          "text": [
            "Train loss: 1.6059\n",
            "Epoch 8/10\n"
          ]
        },
        {
          "name": "stderr",
          "output_type": "stream",
          "text": [
            "Training: 100%|██████████| 113/113 [01:17<00:00,  1.46it/s]\n"
          ]
        },
        {
          "name": "stdout",
          "output_type": "stream",
          "text": [
            "Train loss: 1.5450\n",
            "Epoch 9/10\n"
          ]
        },
        {
          "name": "stderr",
          "output_type": "stream",
          "text": [
            "Training: 100%|██████████| 113/113 [01:16<00:00,  1.47it/s]\n"
          ]
        },
        {
          "name": "stdout",
          "output_type": "stream",
          "text": [
            "Train loss: 1.5663\n",
            "Epoch 10/10\n"
          ]
        },
        {
          "name": "stderr",
          "output_type": "stream",
          "text": [
            "Training: 100%|██████████| 113/113 [01:17<00:00,  1.46it/s]\n"
          ]
        },
        {
          "name": "stdout",
          "output_type": "stream",
          "text": [
            "Train loss: 1.5624\n",
            "Model saved to /content/drive/MyDrive/data/best_model.pth\n",
            "Training complete.\n"
          ]
        }
      ],
      "source": [
        "tokenizer = GPT2Tokenizer.from_pretrained(\"gpt2\")\n",
        "BATCH_SIZE = 16\n",
        "EPOCHS = 10\n",
        "LEARNING_RATE = 5e-3\n",
        "MODEL_PATH = '/content/drive/MyDrive/data/best_model.pth'\n",
        "\n",
        "device = torch.device('cuda' if torch.cuda.is_available() else 'cpu')\n",
        "train_loader, val_loader, test_loader = get_loaders(batch_size=BATCH_SIZE)\n",
        "model = VQAModel().to(device)\n",
        "optimizer = optim.Adam(model.parameters(), lr=LEARNING_RATE)\n",
        "\n",
        "def train(model, dataloader, optimizer, device):\n",
        "    model.train()\n",
        "    running_loss = 0.0\n",
        "    for batch in tqdm(train_loader, desc=\"Training\"):\n",
        "        images, tokens, mask, q_len = batch['image'], batch['tokens'], batch['mask'], batch['q_len']\n",
        "        images = images.to(device)\n",
        "        tokens = tokens.to(device)\n",
        "        mask = mask.to(device)\n",
        "        q_len = q_len.to(device)\n",
        "        optimizer.zero_grad()\n",
        "        logits = model(images, tokens, mask, q_len)\n",
        "\n",
        "        # shift = 10 if args.setting==\"p_tuning\" or args.setting==\"prompttuning\" else 0\n",
        "        shift = 0\n",
        "        loss = 0\n",
        "        for b in range(logits.size(0)):\n",
        "                        condensed_tokens = tokens[b,q_len[b]+1+1:]\n",
        "                        condensed_logits = logits[b,shift+ q_len[b]+1:-1]\n",
        "\n",
        "                        loss += nnf.cross_entropy(condensed_logits.reshape(-1,logits.shape[-1]), condensed_tokens.flatten(), ignore_index=0)\n",
        "\n",
        "        loss=loss/logits.size(0)\n",
        "        loss.backward()\n",
        "        optimizer.step()\n",
        "        running_loss += loss.item()\n",
        "    avg_loss = running_loss / len(dataloader)\n",
        "    return avg_loss\n",
        "\n",
        "def validate(model, dataloader, device):\n",
        "    model.eval()\n",
        "    running_loss = 0.0\n",
        "    with torch.no_grad():\n",
        "        for batch in tqdm(dataloader, desc=\"Validating\"):\n",
        "          images, tokens, mask, q_len = batch['image'], batch['tokens'], batch['mask'], batch['q_len']\n",
        "          images = images.to(device)\n",
        "          tokens = tokens.to(device)\n",
        "          mask = mask.to(device)\n",
        "          q_len = q_len.to(device)\n",
        "          optimizer.zero_grad()\n",
        "          logits = model(images, tokens, mask, q_len)\n",
        "          # shift = 10 if args.setting==\"p_tuning\" or args.setting==\"prompttuning\" else 0\n",
        "          shift = 0\n",
        "          for b in range(logits.size(0)):\n",
        "                          condensed_tokens = tokens[b,q_len[b]+1+1:]\n",
        "                          condensed_logits = logits[b,shift+ q_len[b]+1:-1]\n",
        "\n",
        "                          loss += nnf.cross_entropy(condensed_logits.reshape(-1,logits.shape[-1]), condensed_tokens.flatten(), ignore_index=0)\n",
        "\n",
        "          loss=loss/logits.size(0)\n",
        "          running_loss += loss.item()\n",
        "\n",
        "    avg_loss = running_loss / len(dataloader)\n",
        "    return avg_loss\n",
        "\n",
        "\n",
        "best_val_loss = float('inf')\n",
        "for epoch in range(EPOCHS):\n",
        "    print(f\"Epoch {epoch+1}/{EPOCHS}\")\n",
        "    train_loss = train(model, train_loader, optimizer, device)\n",
        "    print(f\"Train loss: {train_loss:.4f}\")\n",
        "\n",
        "    # val_loss= validate(model, val_loader, device)\n",
        "    # print(f\"Train loss: {train_loss:.4f}, Val loss: {val_loss:.4f}\")\n",
        "    # if val_loss < best_val_loss:\n",
        "    #     best_val_loss = val_loss\n",
        "\n",
        "torch.save(model.state_dict(), MODEL_PATH)\n",
        "print(f\"Model saved to {MODEL_PATH}\")\n",
        "\n",
        "print(\"Training complete.\")"
      ]
    },
    {
      "attachments": {},
      "cell_type": "markdown",
      "metadata": {
        "id": "vRvb3ZbwDOmy"
      },
      "source": [
        "## Inference and Evaluation"
      ]
    },
    {
      "cell_type": "code",
      "execution_count": 9,
      "metadata": {
        "id": "z8xewH1qN5ld"
      },
      "outputs": [],
      "source": [
        "def treebank_tokenize(s):\n",
        "    return TreebankWordTokenizer().tokenize(s)\n",
        "def generate_beam(\n",
        "    model,\n",
        "    tokenizer,\n",
        "    beam_size: int = 5,\n",
        "    generated=None,\n",
        "    entry_length=65,\n",
        "    temperature=1.0,\n",
        "    stop_token: str = \"<|endoftext|>\",\n",
        "):\n",
        "    model.eval()\n",
        "    stop_token_index = tokenizer.encode(stop_token)[0]\n",
        "    tokens = None\n",
        "    scores = None\n",
        "    device = next(model.parameters()).device\n",
        "    seq_lengths = torch.ones(beam_size, device=device)\n",
        "    is_stopped = torch.zeros(beam_size, device=device, dtype=torch.bool)\n",
        "    with torch.no_grad():\n",
        "        for i in range(entry_length):\n",
        "            outputs = model.gpt2_model(inputs_embeds=generated)\n",
        "            logits = outputs.logits\n",
        "\n",
        "            logits = logits[:, -1, :] / (temperature if temperature > 0 else 1.0)\n",
        "\n",
        "            logits = logits.softmax(-1).log()\n",
        "            # final_logit\n",
        "\n",
        "            if scores is None:\n",
        "                scores, next_tokens = logits.topk(beam_size, -1)\n",
        "                generated = generated.expand(beam_size, *generated.shape[1:])\n",
        "                next_tokens, scores = next_tokens.permute(1, 0), scores.squeeze(0)\n",
        "                if tokens is None:\n",
        "                    tokens = next_tokens\n",
        "                else:\n",
        "                    tokens = tokens.expand(beam_size, *tokens.shape[1:])\n",
        "                    tokens = torch.cat((tokens, next_tokens), dim=1)\n",
        "            else:\n",
        "                logits[is_stopped] = -float(np.inf)\n",
        "                logits[is_stopped, 0] = 0\n",
        "                scores_sum = scores[:, None] + logits\n",
        "                seq_lengths[~is_stopped] += 1\n",
        "                scores_sum_average = scores_sum / seq_lengths[:, None]\n",
        "                scores_sum_average, next_tokens = scores_sum_average.view(-1).topk(\n",
        "                    beam_size, -1\n",
        "                )\n",
        "                next_tokens_source = next_tokens // scores_sum.shape[1]\n",
        "                seq_lengths = seq_lengths[next_tokens_source]\n",
        "                next_tokens = next_tokens % scores_sum.shape[1]\n",
        "                next_tokens = next_tokens.unsqueeze(1)\n",
        "                tokens = tokens[next_tokens_source]\n",
        "                tokens = torch.cat((tokens, next_tokens), dim=1)\n",
        "                generated = generated[next_tokens_source]\n",
        "                scores = scores_sum_average * seq_lengths\n",
        "                is_stopped = is_stopped[next_tokens_source]\n",
        "\n",
        "            next_token_embed = model.gpt2_model.transformer.wte(next_tokens.squeeze()).view(generated.shape[0], 1, -1)\n",
        "\n",
        "            generated = torch.cat((generated, next_token_embed), dim=1)\n",
        "            is_stopped = is_stopped + next_tokens.eq(stop_token_index).squeeze()\n",
        "            if is_stopped.all():\n",
        "                break\n",
        "    scores = scores / seq_lengths\n",
        "    output_list = tokens.cpu().numpy()\n",
        "    output_texts = [\n",
        "        tokenizer.decode(output[: int(length)])\n",
        "        for output, length in zip(output_list, seq_lengths)\n",
        "    ]\n",
        "    order = scores.argsort(descending=True)\n",
        "    output_texts = [output_texts[i] for i in order]\n",
        "    return output_texts"
      ]
    },
    {
      "cell_type": "code",
      "execution_count": 10,
      "metadata": {
        "id": "flQ-_0RMFFWH"
      },
      "outputs": [],
      "source": [
        "def eval_gpt_open_ended(model, dataloader):\n",
        "    model.eval()\n",
        "    model= model.to(device)\n",
        "    tokenizer = GPT2Tokenizer.from_pretrained('gpt2')\n",
        "    bleu_avg1=0.\n",
        "    f1_avg = 0.\n",
        "    acc = 0.\n",
        "    acc_oe = 0.\n",
        "    acc_yn = 0.\n",
        "    c_oe =1e-9\n",
        "    c_yn =1e-9\n",
        "\n",
        "    for batch in tqdm(dataloader, desc=\"Testing\"):\n",
        "      images, tokens, mask, q_len = batch['image'], batch['tokens'], batch['mask'], batch['q_len']\n",
        "      images = images.to(device)\n",
        "      tokens = tokens.to(device)\n",
        "      mask = mask.to(device)\n",
        "      q_len = q_len.to(device)\n",
        "\n",
        "      with autocast(dtype=torch.float16):\n",
        "        with torch.no_grad():\n",
        "            embed = model.generate(images, tokens, mask, q_len)\n",
        "            out_text = generate_beam(model, model.tokenizer,generated=embed,entry_length=30, temperature=1)[0]\n",
        "\n",
        "      out_text = out_text.split(\"<|endoftext|>\")[0]\n",
        "\n",
        "      print('Question: ', batch['questions'])\n",
        "      print('Answer: ', batch['answers'])\n",
        "      print(\"Generated_Answer: \", out_text)\n",
        "\n",
        "      if out_text.lower()==(batch['answers'][0]).lower():\n",
        "        acc+=1\n",
        "      if (batch['answers'][0]).lower()=='yes' or (batch['answers'][0]).lower()=='no':\n",
        "        if out_text.lower()==(batch['answers'][0]).lower():\n",
        "          acc_yn+=1\n",
        "        c_yn+=1\n",
        "\n",
        "\n",
        "        reference = [str((batch['answers'][0]).lower())]\n",
        "        candidate = [out_text]\n",
        "\n",
        "        bleu_1 = sentence_bleu(reference[0], candidate[0], weights=(1, 0, 0, 0))\n",
        "        f1_avg += compute_f1(tokenizer.encode(reference[0]),tokenizer.encode(candidate[0]))\n",
        "        bleu_avg1+=bleu_1\n",
        "\n",
        "    # print('------------')\n",
        "    print(\"BLEU {}\".format(round(bleu_avg1/len(dataloader),3)))\n",
        "    print(\"F1 {}\".format(round(f1_avg/len(dataloader),3)))\n",
        "    print(\"Accuracy {}\".format(round(acc/len(dataloader),3)))\n",
        "    print(\"Accuracy YN{}\".format(round(acc_yn/c_yn,3)))\n",
        "\n",
        "\n",
        "def compute_f1(gold_toks, pred_toks):\n",
        "  common = collections.Counter(gold_toks) & collections.Counter(pred_toks)\n",
        "  num_same = sum(common.values())\n",
        "  if len(gold_toks) == 0 or len(pred_toks) == 0:\n",
        "    return int(gold_toks == pred_toks)\n",
        "  if num_same == 0:\n",
        "    return 0\n",
        "  precision = 1.0 * num_same / len(pred_toks)\n",
        "  recall = 1.0 * num_same / len(gold_toks)\n",
        "  f1 = (2 * precision * recall) / (precision + recall)\n",
        "  return f1"
      ]
    },
    {
      "cell_type": "code",
      "execution_count": 11,
      "metadata": {
        "colab": {
          "base_uri": "https://localhost:8080/"
        },
        "id": "MgzrJTfo2_I9",
        "outputId": "1557807d-daf3-4c2b-c912-da8894427be2"
      },
      "outputs": [
        {
          "name": "stderr",
          "output_type": "stream",
          "text": [
            "Testing:   0%|          | 0/225 [00:00<?, ?it/s]/usr/local/lib/python3.10/dist-packages/nltk/translate/bleu_score.py:552: UserWarning: \n",
            "The hypothesis contains 0 counts of 2-gram overlaps.\n",
            "Therefore the BLEU score evaluates to 0, independently of\n",
            "how many N-gram overlaps of lower order it contains.\n",
            "Consider using lower n-gram order or use SmoothingFunction()\n",
            "  warnings.warn(_msg)\n",
            "/usr/local/lib/python3.10/dist-packages/nltk/translate/bleu_score.py:552: UserWarning: \n",
            "The hypothesis contains 0 counts of 3-gram overlaps.\n",
            "Therefore the BLEU score evaluates to 0, independently of\n",
            "how many N-gram overlaps of lower order it contains.\n",
            "Consider using lower n-gram order or use SmoothingFunction()\n",
            "  warnings.warn(_msg)\n",
            "/usr/local/lib/python3.10/dist-packages/nltk/translate/bleu_score.py:552: UserWarning: \n",
            "The hypothesis contains 0 counts of 4-gram overlaps.\n",
            "Therefore the BLEU score evaluates to 0, independently of\n",
            "how many N-gram overlaps of lower order it contains.\n",
            "Consider using lower n-gram order or use SmoothingFunction()\n",
            "  warnings.warn(_msg)\n",
            "Testing:   0%|          | 1/225 [00:00<01:11,  3.13it/s]"
          ]
        },
        {
          "name": "stdout",
          "output_type": "stream",
          "text": [
            "Question:  ['is this an axial plane']\n",
            "Answer:  ['yes']\n",
            "Generated_Answer:  yes\n"
          ]
        },
        {
          "name": "stderr",
          "output_type": "stream",
          "text": [
            "\rTesting:   1%|          | 2/225 [00:00<01:00,  3.68it/s]"
          ]
        },
        {
          "name": "stdout",
          "output_type": "stream",
          "text": [
            "Question:  ['are 12 ribs present in the image']\n",
            "Answer:  ['yes']\n",
            "Generated_Answer:  yes\n"
          ]
        },
        {
          "name": "stderr",
          "output_type": "stream",
          "text": [
            "Testing:   2%|▏         | 4/225 [00:00<00:49,  4.44it/s]"
          ]
        },
        {
          "name": "stdout",
          "output_type": "stream",
          "text": [
            "Question:  ['is there evidence of any abnormalities of the lung parenchyma']\n",
            "Answer:  ['no']\n",
            "Generated_Answer:  no\n",
            "Question:  ['are there hyper attenuating material along the aortic walls']\n",
            "Answer:  ['yes']\n",
            "Generated_Answer:  no\n"
          ]
        },
        {
          "name": "stderr",
          "output_type": "stream",
          "text": [
            "Testing:   3%|▎         | 6/225 [00:01<00:36,  6.06it/s]"
          ]
        },
        {
          "name": "stdout",
          "output_type": "stream",
          "text": [
            "Question:  ['are there calcifications present on the abdominal aorta']\n",
            "Answer:  ['yes']\n",
            "Generated_Answer:  no\n",
            "Question:  ['does this patient have evidence of pneumoperitoneum']\n",
            "Answer:  ['no']\n",
            "Generated_Answer:  yes\n"
          ]
        },
        {
          "name": "stderr",
          "output_type": "stream",
          "text": [
            "Testing:   4%|▎         | 8/225 [00:01<00:32,  6.68it/s]"
          ]
        },
        {
          "name": "stdout",
          "output_type": "stream",
          "text": [
            "Question:  ['is the cardiac silhouette less than half the diameter of the diaphragm']\n",
            "Answer:  ['yes']\n",
            "Generated_Answer:  no\n",
            "Question:  ['is the cardiac silhouette within normal size limits']\n",
            "Answer:  ['yes']\n",
            "Generated_Answer:  yes\n"
          ]
        },
        {
          "name": "stderr",
          "output_type": "stream",
          "text": [
            "Testing:   4%|▍         | 10/225 [00:01<00:29,  7.38it/s]"
          ]
        },
        {
          "name": "stdout",
          "output_type": "stream",
          "text": [
            "Question:  ['is the cardiac silhouette small/stretched']\n",
            "Answer:  ['yes']\n",
            "Generated_Answer:  no\n",
            "Question:  ['is there enlargement of the pulmonary vasculature']\n",
            "Answer:  ['no']\n",
            "Generated_Answer:  yes\n"
          ]
        },
        {
          "name": "stderr",
          "output_type": "stream",
          "text": [
            "Testing:   5%|▌         | 12/225 [00:01<00:27,  7.71it/s]"
          ]
        },
        {
          "name": "stdout",
          "output_type": "stream",
          "text": [
            "Question:  ['is the cardiac contour normal']\n",
            "Answer:  ['yes']\n",
            "Generated_Answer:  yes\n",
            "Question:  ['is the cardiac silhouette less than half the lateral diameter of the chest wall']\n",
            "Answer:  ['yes']\n",
            "Generated_Answer:  no\n"
          ]
        },
        {
          "name": "stderr",
          "output_type": "stream",
          "text": [
            "Testing:   6%|▌         | 14/225 [00:02<00:24,  8.51it/s]"
          ]
        },
        {
          "name": "stdout",
          "output_type": "stream",
          "text": [
            "Question:  ['is there a left apical pneumothorax']\n",
            "Answer:  ['yes']\n",
            "Generated_Answer:  no\n",
            "Question:  ['is there slight dilation of the right renal pelvis']\n",
            "Answer:  ['yes']\n",
            "Generated_Answer:  yes\n",
            "Question:  ['is there a mediastinal shift']\n"
          ]
        },
        {
          "name": "stderr",
          "output_type": "stream",
          "text": [
            "\rTesting:   7%|▋         | 16/225 [00:02<00:24,  8.57it/s]"
          ]
        },
        {
          "name": "stdout",
          "output_type": "stream",
          "text": [
            "Answer:  ['no']\n",
            "Generated_Answer:  no\n",
            "Question:  ['is the left lung field more white']\n",
            "Answer:  ['yes']\n",
            "Generated_Answer:  no\n"
          ]
        },
        {
          "name": "stderr",
          "output_type": "stream",
          "text": [
            "\rTesting:   8%|▊         | 17/225 [00:02<00:26,  7.89it/s]"
          ]
        },
        {
          "name": "stdout",
          "output_type": "stream",
          "text": [
            "Question:  ['is the liver normal']\n",
            "Answer:  ['no']\n",
            "Generated_Answer:  no\n",
            "Question:  ['is this a typical liver']\n",
            "Answer:  ['no']\n",
            "Generated_Answer:  yes\n"
          ]
        },
        {
          "name": "stderr",
          "output_type": "stream",
          "text": [
            "Testing:   9%|▉         | 20/225 [00:03<00:27,  7.39it/s]"
          ]
        },
        {
          "name": "stdout",
          "output_type": "stream",
          "text": [
            "Question:  ['what is under the right hemidiaphragm']\n",
            "Answer:  ['free air']\n",
            "Generated_Answer:  p the right the right\n",
            "Question:  ['is this in the posterior anterior plane']\n",
            "Answer:  ['yes']\n",
            "Generated_Answer:  yes\n"
          ]
        },
        {
          "name": "stderr",
          "output_type": "stream",
          "text": [
            "Testing:  10%|▉         | 22/225 [00:03<00:29,  6.78it/s]"
          ]
        },
        {
          "name": "stdout",
          "output_type": "stream",
          "text": [
            "Question:  ['which plane is this image taken']\n",
            "Answer:  ['pa']\n",
            "Generated_Answer:  axial\n",
            "Question:  ['are there multiple or just 1 metastatic focus']\n",
            "Answer:  ['one']\n",
            "Generated_Answer:  pa pa\n"
          ]
        },
        {
          "name": "stderr",
          "output_type": "stream",
          "text": [
            "Testing:  11%|█         | 24/225 [00:03<00:30,  6.52it/s]"
          ]
        },
        {
          "name": "stdout",
          "output_type": "stream",
          "text": [
            "Question:  ['what is abnormal about the pancreas']\n",
            "Answer:  ['enlarged']\n",
            "Generated_Answer:  ct\n",
            "Question:  ['what is seen in the lung apices']\n",
            "Answer:  ['nodular opacities']\n",
            "Generated_Answer:  ct\n"
          ]
        },
        {
          "name": "stderr",
          "output_type": "stream",
          "text": [
            "\rTesting:  11%|█         | 25/225 [00:03<00:30,  6.53it/s]"
          ]
        },
        {
          "name": "stdout",
          "output_type": "stream",
          "text": [
            "Question:  ['are the lungs normal']\n",
            "Answer:  ['no']\n",
            "Generated_Answer:  no\n"
          ]
        },
        {
          "name": "stderr",
          "output_type": "stream",
          "text": [
            "Testing:  12%|█▏        | 27/225 [00:04<00:31,  6.28it/s]"
          ]
        },
        {
          "name": "stdout",
          "output_type": "stream",
          "text": [
            "Question:  ['what lobe is the lesion located in']\n",
            "Answer:  ['right temporal lobe']\n",
            "Generated_Answer:  ct\n",
            "Question:  ['where is the abnormality located']\n",
            "Answer:  ['right temporal lobe']\n",
            "Generated_Answer:  right temporal lobe\n"
          ]
        },
        {
          "name": "stderr",
          "output_type": "stream",
          "text": [
            "Testing:  13%|█▎        | 29/225 [00:04<00:30,  6.37it/s]"
          ]
        },
        {
          "name": "stdout",
          "output_type": "stream",
          "text": [
            "Question:  ['how would you describe the aortopulmonary window']\n",
            "Answer:  ['middle mogul']\n",
            "Generated_Answer:  ct\n",
            "Question:  ['what characteristic finding do you see in the aortopulmonary window']\n",
            "Answer:  ['middle mogul']\n",
            "Generated_Answer:  posterial\n"
          ]
        },
        {
          "name": "stderr",
          "output_type": "stream",
          "text": [
            "Testing:  14%|█▍        | 31/225 [00:04<00:31,  6.13it/s]"
          ]
        },
        {
          "name": "stdout",
          "output_type": "stream",
          "text": [
            "Question:  ['where is the diffuse pleural thickening']\n",
            "Answer:  ['right lung']\n",
            "Generated_Answer:  right\n",
            "Question:  ['is the mass calcified']\n",
            "Answer:  ['yes']\n",
            "Generated_Answer:  yes\n"
          ]
        },
        {
          "name": "stderr",
          "output_type": "stream",
          "text": [
            "\rTesting:  14%|█▍        | 32/225 [00:05<00:34,  5.60it/s]"
          ]
        },
        {
          "name": "stdout",
          "output_type": "stream",
          "text": [
            "Question:  ['does this look like a healthy liver']\n",
            "Answer:  ['yes']\n",
            "Generated_Answer:  no\n"
          ]
        },
        {
          "name": "stderr",
          "output_type": "stream",
          "text": [
            "\rTesting:  15%|█▍        | 33/225 [00:05<00:39,  4.83it/s]"
          ]
        },
        {
          "name": "stdout",
          "output_type": "stream",
          "text": [
            "Question:  ['is this a normal x ray']\n",
            "Answer:  ['no']\n",
            "Generated_Answer:  yes\n"
          ]
        },
        {
          "name": "stderr",
          "output_type": "stream",
          "text": [
            "\rTesting:  15%|█▌        | 34/225 [00:05<00:48,  3.95it/s]"
          ]
        },
        {
          "name": "stdout",
          "output_type": "stream",
          "text": [
            "Question:  ['is the right hemidiaphragm normal']\n",
            "Answer:  ['no']\n",
            "Generated_Answer:  yes\n"
          ]
        },
        {
          "name": "stderr",
          "output_type": "stream",
          "text": [
            "\rTesting:  16%|█▌        | 35/225 [00:06<00:53,  3.55it/s]"
          ]
        },
        {
          "name": "stdout",
          "output_type": "stream",
          "text": [
            "Question:  ['what kind of image is this']\n",
            "Answer:  ['x-ray']\n",
            "Generated_Answer:  ct\n"
          ]
        },
        {
          "name": "stderr",
          "output_type": "stream",
          "text": [
            "\rTesting:  16%|█▌        | 36/225 [00:06<00:50,  3.77it/s]"
          ]
        },
        {
          "name": "stdout",
          "output_type": "stream",
          "text": [
            "Question:  ['is the surrounding phlegmon normal']\n",
            "Answer:  ['no']\n",
            "Generated_Answer:  no\n"
          ]
        },
        {
          "name": "stderr",
          "output_type": "stream",
          "text": [
            "\rTesting:  16%|█▋        | 37/225 [00:06<00:53,  3.52it/s]"
          ]
        },
        {
          "name": "stdout",
          "output_type": "stream",
          "text": [
            "Question:  ['is the fat surrounding the pancreas normal']\n",
            "Answer:  ['no']\n",
            "Generated_Answer:  no\n"
          ]
        },
        {
          "name": "stderr",
          "output_type": "stream",
          "text": [
            "\rTesting:  17%|█▋        | 38/225 [00:07<01:02,  3.01it/s]"
          ]
        },
        {
          "name": "stdout",
          "output_type": "stream",
          "text": [
            "Question:  ['are lung markings present in the entire thoracic cavity']\n",
            "Answer:  ['yes']\n",
            "Generated_Answer:  yes\n"
          ]
        },
        {
          "name": "stderr",
          "output_type": "stream",
          "text": [
            "\rTesting:  17%|█▋        | 39/225 [00:07<00:55,  3.38it/s]"
          ]
        },
        {
          "name": "stdout",
          "output_type": "stream",
          "text": [
            "Question:  ['is there more than one organ system present in the image']\n",
            "Answer:  ['no']\n",
            "Generated_Answer:  yes\n"
          ]
        },
        {
          "name": "stderr",
          "output_type": "stream",
          "text": [
            "\rTesting:  18%|█▊        | 40/225 [00:07<00:58,  3.17it/s]"
          ]
        },
        {
          "name": "stdout",
          "output_type": "stream",
          "text": [
            "Question:  ['which lung is clearer']\n",
            "Answer:  ['left']\n",
            "Generated_Answer:  right\n"
          ]
        },
        {
          "name": "stderr",
          "output_type": "stream",
          "text": [
            "\rTesting:  18%|█▊        | 41/225 [00:07<00:52,  3.51it/s]"
          ]
        },
        {
          "name": "stdout",
          "output_type": "stream",
          "text": [
            "Question:  ['is there evidence of subdiaphragmatic free air on the left']\n",
            "Answer:  ['no']\n",
            "Generated_Answer:  no\n"
          ]
        },
        {
          "name": "stderr",
          "output_type": "stream",
          "text": [
            "\rTesting:  19%|█▊        | 42/225 [00:08<00:50,  3.64it/s]"
          ]
        },
        {
          "name": "stdout",
          "output_type": "stream",
          "text": [
            "Question:  ['is the gallbladder present']\n",
            "Answer:  ['yes']\n",
            "Generated_Answer:  yes\n"
          ]
        },
        {
          "name": "stderr",
          "output_type": "stream",
          "text": [
            "\rTesting:  19%|█▉        | 43/225 [00:08<00:55,  3.30it/s]"
          ]
        },
        {
          "name": "stdout",
          "output_type": "stream",
          "text": [
            "Question:  ['what is the dense mass visualized in the liver']\n",
            "Answer:  ['blood vessel']\n",
            "Generated_Answer:  ct\n"
          ]
        },
        {
          "name": "stderr",
          "output_type": "stream",
          "text": [
            "\rTesting:  20%|█▉        | 44/225 [00:08<00:53,  3.38it/s]"
          ]
        },
        {
          "name": "stdout",
          "output_type": "stream",
          "text": [
            "Question:  ['where is free air trapped subcutaneously in this image']\n",
            "Answer:  ['above the clavicles bilaterally']\n",
            "Generated_Answer:  right kidney\n"
          ]
        },
        {
          "name": "stderr",
          "output_type": "stream",
          "text": [
            "\rTesting:  20%|██        | 45/225 [00:08<00:50,  3.58it/s]"
          ]
        },
        {
          "name": "stdout",
          "output_type": "stream",
          "text": [
            "Question:  ['is there free air in the supraclavicular fossae']\n",
            "Answer:  ['yes']\n",
            "Generated_Answer:  no\n"
          ]
        },
        {
          "name": "stderr",
          "output_type": "stream",
          "text": [
            "\rTesting:  20%|██        | 46/225 [00:09<00:53,  3.34it/s]"
          ]
        },
        {
          "name": "stdout",
          "output_type": "stream",
          "text": [
            "Question:  ['what structure lies directly posterior to the appendix in this image']\n",
            "Answer:  ['psoas muscle']\n",
            "Generated_Answer:  ct\n"
          ]
        },
        {
          "name": "stderr",
          "output_type": "stream",
          "text": [
            "\rTesting:  21%|██        | 47/225 [00:09<00:52,  3.38it/s]"
          ]
        },
        {
          "name": "stdout",
          "output_type": "stream",
          "text": [
            "Question:  ['are the borders of the heart clearly visualized']\n",
            "Answer:  ['yes']\n",
            "Generated_Answer:  no\n"
          ]
        },
        {
          "name": "stderr",
          "output_type": "stream",
          "text": [
            "\rTesting:  21%|██▏       | 48/225 [00:09<00:47,  3.69it/s]"
          ]
        },
        {
          "name": "stdout",
          "output_type": "stream",
          "text": [
            "Question:  ['is this image taken above the diaphragm']\n",
            "Answer:  ['no']\n",
            "Generated_Answer:  yes\n"
          ]
        },
        {
          "name": "stderr",
          "output_type": "stream",
          "text": [
            "\rTesting:  22%|██▏       | 49/225 [00:10<00:56,  3.11it/s]"
          ]
        },
        {
          "name": "stdout",
          "output_type": "stream",
          "text": [
            "Question:  ['is a pneumothorax present in the left apex']\n",
            "Answer:  ['no']\n",
            "Generated_Answer:  yes\n"
          ]
        },
        {
          "name": "stderr",
          "output_type": "stream",
          "text": [
            "\rTesting:  22%|██▏       | 50/225 [00:10<01:02,  2.78it/s]"
          ]
        },
        {
          "name": "stdout",
          "output_type": "stream",
          "text": [
            "Question:  ['where is the lesion located']\n",
            "Answer:  ['anterior mediastinum']\n",
            "Generated_Answer:  right temporal lobe\n"
          ]
        },
        {
          "name": "stderr",
          "output_type": "stream",
          "text": [
            "\rTesting:  23%|██▎       | 51/225 [00:10<00:56,  3.06it/s]"
          ]
        },
        {
          "name": "stdout",
          "output_type": "stream",
          "text": [
            "Question:  ['are the kidneys present in this image']\n",
            "Answer:  ['no']\n",
            "Generated_Answer:  no\n"
          ]
        },
        {
          "name": "stderr",
          "output_type": "stream",
          "text": [
            "\rTesting:  23%|██▎       | 52/225 [00:11<00:53,  3.20it/s]"
          ]
        },
        {
          "name": "stdout",
          "output_type": "stream",
          "text": [
            "Question:  ['is the colon more prominent on the patient right or left side']\n",
            "Answer:  ['left']\n",
            "Generated_Answer:  vreas\n"
          ]
        },
        {
          "name": "stderr",
          "output_type": "stream",
          "text": [
            "\rTesting:  24%|██▎       | 53/225 [00:11<01:01,  2.80it/s]"
          ]
        },
        {
          "name": "stdout",
          "output_type": "stream",
          "text": [
            "Question:  ['where is the colon most prominent from this view']\n",
            "Answer:  ['left']\n",
            "Generated_Answer:  right lung\n"
          ]
        },
        {
          "name": "stderr",
          "output_type": "stream",
          "text": [
            "\rTesting:  24%|██▍       | 54/225 [00:12<01:05,  2.59it/s]"
          ]
        },
        {
          "name": "stdout",
          "output_type": "stream",
          "text": [
            "Question:  ['is the heart size in this image smaller or larger than if the image was taken ap']\n",
            "Answer:  ['smaller']\n",
            "Generated_Answer:  right kidney\n"
          ]
        },
        {
          "name": "stderr",
          "output_type": "stream",
          "text": [
            "Testing:  25%|██▍       | 56/225 [00:12<00:52,  3.25it/s]"
          ]
        },
        {
          "name": "stdout",
          "output_type": "stream",
          "text": [
            "Question:  ['is the liver visible in the image']\n",
            "Answer:  ['no']\n",
            "Generated_Answer:  no\n",
            "Question:  ['is there consolidation in the lungs']\n",
            "Answer:  ['no']\n",
            "Generated_Answer:  no\n"
          ]
        },
        {
          "name": "stderr",
          "output_type": "stream",
          "text": [
            "\rTesting:  25%|██▌       | 57/225 [00:12<00:45,  3.70it/s]"
          ]
        },
        {
          "name": "stdout",
          "output_type": "stream",
          "text": [
            "Question:  ['what type of image is this']\n",
            "Answer:  ['plain film x-ray']\n",
            "Generated_Answer:  ct\n"
          ]
        },
        {
          "name": "stderr",
          "output_type": "stream",
          "text": [
            "\rTesting:  26%|██▌       | 58/225 [00:13<00:45,  3.71it/s]"
          ]
        },
        {
          "name": "stdout",
          "output_type": "stream",
          "text": [
            "Question:  ['are the brain gyri atrophied']\n",
            "Answer:  ['no']\n",
            "Generated_Answer:  yes\n"
          ]
        },
        {
          "name": "stderr",
          "output_type": "stream",
          "text": [
            "\rTesting:  26%|██▌       | 59/225 [00:13<00:42,  3.87it/s]"
          ]
        },
        {
          "name": "stdout",
          "output_type": "stream",
          "text": [
            "Question:  ['is the anatomy of the brain gyri affected']\n",
            "Answer:  ['no']\n",
            "Generated_Answer:  no\n"
          ]
        },
        {
          "name": "stderr",
          "output_type": "stream",
          "text": [
            "\rTesting:  27%|██▋       | 60/225 [00:13<00:40,  4.07it/s]"
          ]
        },
        {
          "name": "stdout",
          "output_type": "stream",
          "text": [
            "Question:  ['is this an ap image']\n",
            "Answer:  ['no']\n",
            "Generated_Answer:  yes\n"
          ]
        },
        {
          "name": "stderr",
          "output_type": "stream",
          "text": [
            "\rTesting:  27%|██▋       | 61/225 [00:13<00:41,  3.96it/s]"
          ]
        },
        {
          "name": "stdout",
          "output_type": "stream",
          "text": [
            "Question:  ['is this a ct image']\n",
            "Answer:  ['no']\n",
            "Generated_Answer:  yes\n"
          ]
        },
        {
          "name": "stderr",
          "output_type": "stream",
          "text": [
            "Testing:  28%|██▊       | 63/225 [00:14<00:36,  4.46it/s]"
          ]
        },
        {
          "name": "stdout",
          "output_type": "stream",
          "text": [
            "Question:  ['what are the bright white structures almost forming an x']\n",
            "Answer:  ['lateral ventricles']\n",
            "Generated_Answer:  ct\n",
            "Question:  ['is this modality safe for pregnant women']\n",
            "Answer:  ['no']\n",
            "Generated_Answer:  yes\n"
          ]
        },
        {
          "name": "stderr",
          "output_type": "stream",
          "text": [
            "Testing:  29%|██▉       | 66/225 [00:14<00:21,  7.39it/s]"
          ]
        },
        {
          "name": "stdout",
          "output_type": "stream",
          "text": [
            "Question:  ['are the kidneys normal']\n",
            "Answer:  ['yes']\n",
            "Generated_Answer:  no\n",
            "Question:  ['do the kidneys appear to be normal']\n",
            "Answer:  ['yes']\n",
            "Generated_Answer:  no\n",
            "Question:  ['are the lateral ventricles visible']\n",
            "Answer:  ['yes']\n",
            "Generated_Answer:  no\n"
          ]
        },
        {
          "name": "stderr",
          "output_type": "stream",
          "text": [
            "\rTesting:  30%|███       | 68/225 [00:14<00:18,  8.58it/s]"
          ]
        },
        {
          "name": "stdout",
          "output_type": "stream",
          "text": [
            "Question:  ['can the lateral ventricles be seen']\n",
            "Answer:  ['yes']\n",
            "Generated_Answer:  yes\n",
            "Question:  ['what hypoattenuated tissue is between the abdominal wall and skin']\n",
            "Answer:  ['fat']\n",
            "Generated_Answer:  ct\n"
          ]
        },
        {
          "name": "stderr",
          "output_type": "stream",
          "text": [
            "Testing:  32%|███▏      | 71/225 [00:14<00:15,  9.67it/s]"
          ]
        },
        {
          "name": "stdout",
          "output_type": "stream",
          "text": [
            "Question:  ['what is the dark structure underneath the skin']\n",
            "Answer:  ['fat']\n",
            "Generated_Answer:  pneuma\n",
            "Question:  ['does this mass likely represent a neoplastic process']\n",
            "Answer:  ['no']\n",
            "Generated_Answer:  yes\n",
            "Question:  ['is there a verterbral fracture']\n",
            "Answer:  ['no']\n",
            "Generated_Answer:  no\n"
          ]
        },
        {
          "name": "stderr",
          "output_type": "stream",
          "text": [
            "\rTesting:  32%|███▏      | 73/225 [00:15<00:15,  9.65it/s]"
          ]
        },
        {
          "name": "stdout",
          "output_type": "stream",
          "text": [
            "Question:  ['where is the tip of the line']\n",
            "Answer:  ['mid left subclavian vein']\n",
            "Generated_Answer:  right upper lobe\n",
            "Question:  ['where is the tip of the port-a-cath catheter located']\n",
            "Answer:  ['mid left subclavian vein']\n",
            "Generated_Answer:  right side\n",
            "Question:  ['is there hylar lymphadenopathy']\n",
            "Answer:  ['yes']\n",
            "Generated_Answer:  no\n"
          ]
        },
        {
          "name": "stderr",
          "output_type": "stream",
          "text": [
            "\rTesting:  33%|███▎      | 75/225 [00:15<00:14, 10.27it/s]"
          ]
        },
        {
          "name": "stdout",
          "output_type": "stream",
          "text": [
            "Question:  ['is there a mass']\n",
            "Answer:  ['yes']\n",
            "Generated_Answer:  no\n",
            "Question:  ['is a mass present in this xray']\n",
            "Answer:  ['yes']\n",
            "Generated_Answer:  no\n"
          ]
        },
        {
          "name": "stderr",
          "output_type": "stream",
          "text": [
            "Testing:  35%|███▌      | 79/225 [00:15<00:13, 10.57it/s]"
          ]
        },
        {
          "name": "stdout",
          "output_type": "stream",
          "text": [
            "Question:  ['what organ system is the pathology']\n",
            "Answer:  ['pulmonary/lymphatic']\n",
            "Generated_Answer:  ct\n",
            "Question:  ['is there brain edema']\n",
            "Answer:  ['yes']\n",
            "Generated_Answer:  no\n",
            "Question:  ['is the brain swollen']\n",
            "Answer:  ['yes']\n",
            "Generated_Answer:  no\n"
          ]
        },
        {
          "name": "stderr",
          "output_type": "stream",
          "text": [
            "\rTesting:  36%|███▌      | 81/225 [00:15<00:15,  9.41it/s]"
          ]
        },
        {
          "name": "stdout",
          "output_type": "stream",
          "text": [
            "Question:  ['what is the location of the cavitary lesion']\n",
            "Answer:  ['right upper lobe']\n",
            "Generated_Answer:  ct\n",
            "Question:  ['are there increased vascular markings']\n",
            "Answer:  ['yes']\n",
            "Generated_Answer:  yes\n",
            "Question:  ['the mass is found in which part of the pancreas']\n",
            "Answer:  ['the pancreatic head']\n",
            "Generated_Answer:  right\n"
          ]
        },
        {
          "name": "stderr",
          "output_type": "stream",
          "text": [
            "Testing:  38%|███▊      | 85/225 [00:16<00:13, 10.41it/s]"
          ]
        },
        {
          "name": "stdout",
          "output_type": "stream",
          "text": [
            "Question:  ['from what structure is the large hypodense mass emanating from']\n",
            "Answer:  ['the base of the cecum']\n",
            "Generated_Answer:  ct\n",
            "Question:  ['what lobe of the brain is the lesion located in']\n",
            "Answer:  ['right frontal lobe']\n",
            "Generated_Answer:  ct\n",
            "Question:  ['is this an mri']\n",
            "Answer:  ['no']\n",
            "Generated_Answer:  yes\n"
          ]
        },
        {
          "name": "stderr",
          "output_type": "stream",
          "text": [
            "\rTesting:  39%|███▊      | 87/225 [00:16<00:13, 10.07it/s]"
          ]
        },
        {
          "name": "stdout",
          "output_type": "stream",
          "text": [
            "Question:  ['does this patient have a pneumothorax']\n",
            "Answer:  ['no']\n",
            "Generated_Answer:  no\n",
            "Question:  ['can the optic nerve be visualized in this mri image']\n",
            "Answer:  ['yes']\n",
            "Generated_Answer:  no\n",
            "Question:  ['does this patient have pneumomediastinum']\n",
            "Answer:  ['no']\n",
            "Generated_Answer:  yes\n"
          ]
        },
        {
          "name": "stderr",
          "output_type": "stream",
          "text": [
            "\rTesting:  40%|███▉      | 89/225 [00:16<00:13, 10.45it/s]"
          ]
        },
        {
          "name": "stdout",
          "output_type": "stream",
          "text": [
            "Question:  ['are these normal kidney findings']\n",
            "Answer:  ['no']\n",
            "Generated_Answer:  yes\n",
            "Question:  ['diaphragm is elevated on which side']\n",
            "Answer:  ['right']\n",
            "Generated_Answer:  yes\n"
          ]
        },
        {
          "name": "stderr",
          "output_type": "stream",
          "text": [
            "Testing:  41%|████      | 92/225 [00:17<00:15,  8.75it/s]"
          ]
        },
        {
          "name": "stdout",
          "output_type": "stream",
          "text": [
            "Question:  ['where does the l renal vein drain into']\n",
            "Answer:  ['ivc']\n",
            "Generated_Answer:  right\n",
            "Question:  ['is the lesion on the left or right side of the brain']\n",
            "Answer:  ['left']\n",
            "Generated_Answer:  ct\n"
          ]
        },
        {
          "name": "stderr",
          "output_type": "stream",
          "text": [
            "Testing:  42%|████▏     | 94/225 [00:17<00:16,  8.02it/s]"
          ]
        },
        {
          "name": "stdout",
          "output_type": "stream",
          "text": [
            "Question:  ['what plane is this']\n",
            "Answer:  ['axial']\n",
            "Generated_Answer:  axial\n",
            "Question:  ['where is there evidence of a pleural effusion']\n",
            "Answer:  ['right side']\n",
            "Generated_Answer:  right\n"
          ]
        },
        {
          "name": "stderr",
          "output_type": "stream",
          "text": [
            "\rTesting:  43%|████▎     | 96/225 [00:17<00:15,  8.39it/s]"
          ]
        },
        {
          "name": "stdout",
          "output_type": "stream",
          "text": [
            "Question:  ['is the trachea midline']\n",
            "Answer:  ['yes']\n",
            "Generated_Answer:  no\n",
            "Question:  ['where is the lesion located']\n",
            "Answer:  ['right lower lateral lung field']\n",
            "Generated_Answer:  right temporal lobe\n"
          ]
        },
        {
          "name": "stderr",
          "output_type": "stream",
          "text": [
            "\rTesting:  44%|████▎     | 98/225 [00:17<00:13,  9.12it/s]"
          ]
        },
        {
          "name": "stdout",
          "output_type": "stream",
          "text": [
            "Question:  ['size of the mass in the right upper quadrant']\n",
            "Answer:  ['3 .4 cm']\n",
            "Generated_Answer:  yes\n",
            "Question:  ['is the patient a female or male']\n",
            "Answer:  ['female']\n",
            "Generated_Answer:  pa\n"
          ]
        },
        {
          "name": "stderr",
          "output_type": "stream",
          "text": [
            "Testing:  45%|████▍     | 101/225 [00:18<00:12,  9.80it/s]"
          ]
        },
        {
          "name": "stdout",
          "output_type": "stream",
          "text": [
            "Question:  ['is the heart enlarged']\n",
            "Answer:  ['no']\n",
            "Generated_Answer:  yes\n",
            "Question:  ['is this image showing the chest']\n",
            "Answer:  ['yes']\n",
            "Generated_Answer:  yes\n",
            "Question:  ['is this a t1 weighted mri']\n",
            "Answer:  ['no']\n",
            "Generated_Answer:  yes\n"
          ]
        },
        {
          "name": "stderr",
          "output_type": "stream",
          "text": [
            "\rTesting:  45%|████▌     | 102/225 [00:18<00:13,  9.35it/s]"
          ]
        },
        {
          "name": "stdout",
          "output_type": "stream",
          "text": [
            "Question:  ['where are the brain lesions located']\n",
            "Answer:  ['right hemisphere']\n",
            "Generated_Answer:  right temporal lobe\n",
            "Question:  ['the tissue in the hyperattenuating ovoid mass on the patient right is similar density wise to what tissue that is normally found']\n",
            "Answer:  ['adipose tissue']\n",
            "Generated_Answer:  right\n"
          ]
        },
        {
          "name": "stderr",
          "output_type": "stream",
          "text": [
            "Testing:  47%|████▋     | 105/225 [00:18<00:12,  9.34it/s]"
          ]
        },
        {
          "name": "stdout",
          "output_type": "stream",
          "text": [
            "Question:  ['is the heart enlarged']\n",
            "Answer:  ['no']\n",
            "Generated_Answer:  yes\n",
            "Question:  ['is the heart abnormally large']\n",
            "Answer:  ['no']\n",
            "Generated_Answer:  yes\n",
            "Question:  ['the condition in which a patient has enlarged ventricles as seen in this image']\n",
            "Answer:  ['hydrocephalus']\n",
            "Generated_Answer:  right\n"
          ]
        },
        {
          "name": "stderr",
          "output_type": "stream",
          "text": [
            "Testing:  48%|████▊     | 108/225 [00:18<00:11,  9.95it/s]"
          ]
        },
        {
          "name": "stdout",
          "output_type": "stream",
          "text": [
            "Question:  ['what is the condition in which the ventricles are enlarged as seen in this image']\n",
            "Answer:  ['hydrocephalus']\n",
            "Generated_Answer:  right kidney\n",
            "Question:  ['how was this image taken']\n",
            "Answer:  ['ct']\n",
            "Generated_Answer:  one\n",
            "Question:  ['what imaging modality is used']\n",
            "Answer:  ['ct']\n",
            "Generated_Answer:  ct\n"
          ]
        },
        {
          "name": "stderr",
          "output_type": "stream",
          "text": [
            "Testing:  49%|████▉     | 111/225 [00:19<00:12,  9.45it/s]"
          ]
        },
        {
          "name": "stdout",
          "output_type": "stream",
          "text": [
            "Question:  ['in which lobe do you see an abnormal mass in the above images']\n",
            "Answer:  ['right upper lobe']\n",
            "Generated_Answer:  right\n",
            "Question:  ['where is the abnormal mass located with respect to the lungs']\n",
            "Answer:  ['right upper lobe']\n",
            "Generated_Answer:  pilateralum\n"
          ]
        },
        {
          "name": "stderr",
          "output_type": "stream",
          "text": [
            "\rTesting:  50%|█████     | 113/225 [00:19<00:11,  9.94it/s]"
          ]
        },
        {
          "name": "stdout",
          "output_type": "stream",
          "text": [
            "Question:  ['what imaging modality was used to take this image']\n",
            "Answer:  ['xray']\n",
            "Generated_Answer:  ct\n",
            "Question:  ['what abnormality is present']\n",
            "Answer:  ['bleeding in the right posteroinferior cerebellum']\n",
            "Generated_Answer:  ct\n",
            "Question:  ['is there free air in the abdomen']\n",
            "Answer:  ['no']\n",
            "Generated_Answer:  no\n"
          ]
        },
        {
          "name": "stderr",
          "output_type": "stream",
          "text": [
            "\rTesting:  51%|█████     | 115/225 [00:19<00:10, 10.63it/s]"
          ]
        },
        {
          "name": "stdout",
          "output_type": "stream",
          "text": [
            "Question:  ['are the ventricles enlarged']\n",
            "Answer:  ['yes']\n",
            "Generated_Answer:  yes\n",
            "Question:  ['how is the patient positioned for this scan']\n",
            "Answer:  ['supine see air-fluid level']\n",
            "Generated_Answer:  ct\n"
          ]
        },
        {
          "name": "stderr",
          "output_type": "stream",
          "text": [
            "Testing:  53%|█████▎    | 119/225 [00:19<00:11,  9.10it/s]"
          ]
        },
        {
          "name": "stdout",
          "output_type": "stream",
          "text": [
            "Question:  ['what is the hypodensity in the liver']\n",
            "Answer:  ['gallbladder']\n",
            "Generated_Answer:  ct\n",
            "Question:  ['is there a hypodense mass in the liver']\n",
            "Answer:  ['yes']\n",
            "Generated_Answer:  yes\n",
            "Question:  ['is this patient male or female']\n",
            "Answer:  ['female']\n",
            "Generated_Answer:  ct\n"
          ]
        },
        {
          "name": "stderr",
          "output_type": "stream",
          "text": [
            "Testing:  54%|█████▍    | 121/225 [00:20<00:13,  8.00it/s]"
          ]
        },
        {
          "name": "stdout",
          "output_type": "stream",
          "text": [
            "Question:  ['is there a pneumothorax present']\n",
            "Answer:  ['no']\n",
            "Generated_Answer:  no\n",
            "Question:  ['what is located immediately inferior to the right hemidiaphragm']\n",
            "Answer:  ['the liver']\n",
            "Generated_Answer:  posterial\n"
          ]
        },
        {
          "name": "stderr",
          "output_type": "stream",
          "text": [
            "\rTesting:  55%|█████▍    | 123/225 [00:20<00:11,  9.10it/s]"
          ]
        },
        {
          "name": "stdout",
          "output_type": "stream",
          "text": [
            "Question:  ['can a mass in the pancreatic head cause a liver injury']\n",
            "Answer:  ['yes']\n",
            "Generated_Answer:  no\n",
            "Question:  ['is there an enhancing lesion in the liver']\n",
            "Answer:  ['no']\n",
            "Generated_Answer:  no\n"
          ]
        },
        {
          "name": "stderr",
          "output_type": "stream",
          "text": [
            "Testing:  56%|█████▌    | 125/225 [00:20<00:12,  8.11it/s]"
          ]
        },
        {
          "name": "stdout",
          "output_type": "stream",
          "text": [
            "Question:  ['what are the black areas at the top of the image']\n",
            "Answer:  ['maxillary sinuses']\n",
            "Generated_Answer:  ct\n",
            "Question:  ['what does the least dense region represent']\n",
            "Answer:  ['maxillary sinuses']\n",
            "Generated_Answer:  ct\n"
          ]
        },
        {
          "name": "stderr",
          "output_type": "stream",
          "text": [
            "Testing:  57%|█████▋    | 128/225 [00:21<00:10,  9.35it/s]"
          ]
        },
        {
          "name": "stdout",
          "output_type": "stream",
          "text": [
            "Question:  ['what is the orientation of the patient']\n",
            "Answer:  ['lying supine with their feet towards the screen']\n",
            "Generated_Answer:  right kidney\n",
            "Question:  ['can a patient with a metal implant get a cxr']\n",
            "Answer:  ['yes']\n",
            "Generated_Answer:  no\n",
            "Question:  ['what side is the lesion on']\n",
            "Answer:  ['right']\n",
            "Generated_Answer:  right\n"
          ]
        },
        {
          "name": "stderr",
          "output_type": "stream",
          "text": [
            "Testing:  58%|█████▊    | 131/225 [00:21<00:09,  9.53it/s]"
          ]
        },
        {
          "name": "stdout",
          "output_type": "stream",
          "text": [
            "Question:  ['what are the hyperdensities on the periphery of the image']\n",
            "Answer:  ['ribs']\n",
            "Generated_Answer:  ct\n",
            "Question:  ['are there skull fractures present']\n",
            "Answer:  ['no']\n",
            "Generated_Answer:  yes\n",
            "Question:  ['is the skull fractured']\n",
            "Answer:  ['no']\n",
            "Generated_Answer:  yes\n"
          ]
        },
        {
          "name": "stderr",
          "output_type": "stream",
          "text": [
            "\rTesting:  59%|█████▉    | 133/225 [00:21<00:09, 10.07it/s]"
          ]
        },
        {
          "name": "stdout",
          "output_type": "stream",
          "text": [
            "Question:  ['is there sign of a skull fracture']\n",
            "Answer:  ['no']\n",
            "Generated_Answer:  no\n",
            "Question:  ['is the skull fractured']\n",
            "Answer:  ['no']\n",
            "Generated_Answer:  yes\n"
          ]
        },
        {
          "name": "stderr",
          "output_type": "stream",
          "text": [
            "Testing:  60%|██████    | 136/225 [00:21<00:09,  9.77it/s]"
          ]
        },
        {
          "name": "stdout",
          "output_type": "stream",
          "text": [
            "Question:  ['does this image show a pneumothorax']\n",
            "Answer:  ['no']\n",
            "Generated_Answer:  yes\n",
            "Question:  ['are the hemidiaphragms flattened']\n",
            "Answer:  ['no']\n",
            "Generated_Answer:  yes\n",
            "Question:  ['is the diaphragm flat on either side']\n",
            "Answer:  ['no']\n",
            "Generated_Answer:  no\n"
          ]
        },
        {
          "name": "stderr",
          "output_type": "stream",
          "text": [
            "Testing:  62%|██████▏   | 139/225 [00:22<00:08, 10.28it/s]"
          ]
        },
        {
          "name": "stdout",
          "output_type": "stream",
          "text": [
            "Question:  ['is there any abnormality in this image']\n",
            "Answer:  ['yes']\n",
            "Generated_Answer:  no\n",
            "Question:  ['are there lesions in this image']\n",
            "Answer:  ['yes']\n",
            "Generated_Answer:  yes\n",
            "Question:  ['is this an mri']\n",
            "Answer:  ['no']\n",
            "Generated_Answer:  yes\n"
          ]
        },
        {
          "name": "stderr",
          "output_type": "stream",
          "text": [
            "\rTesting:  63%|██████▎   | 141/225 [00:22<00:09,  8.64it/s]"
          ]
        },
        {
          "name": "stdout",
          "output_type": "stream",
          "text": [
            "Question:  ['are there clearly defined cardiac borders in this image']\n",
            "Answer:  ['yes']\n",
            "Generated_Answer:  no\n",
            "Question:  ['which plane is this image in']\n",
            "Answer:  ['axial']\n",
            "Generated_Answer:  axial\n"
          ]
        },
        {
          "name": "stderr",
          "output_type": "stream",
          "text": [
            "\rTesting:  63%|██████▎   | 142/225 [00:22<00:10,  7.99it/s]"
          ]
        },
        {
          "name": "stdout",
          "output_type": "stream",
          "text": [
            "Question:  ['what is wrong with the ventricles']\n",
            "Answer:  ['lateral and third ventricular hydrocephalus']\n",
            "Generated_Answer:  ct\n"
          ]
        },
        {
          "name": "stderr",
          "output_type": "stream",
          "text": [
            "\rTesting:  64%|██████▎   | 143/225 [00:22<00:11,  6.88it/s]"
          ]
        },
        {
          "name": "stdout",
          "output_type": "stream",
          "text": [
            "Question:  ['what ventricular abnormalities are seen']\n",
            "Answer:  ['lateral and third ventricular hydrocephalus']\n",
            "Generated_Answer:  ct\n",
            "Question:  ['is there air trapped in the body']\n",
            "Answer:  ['no']\n",
            "Generated_Answer:  no\n"
          ]
        },
        {
          "name": "stderr",
          "output_type": "stream",
          "text": [
            "Testing:  65%|██████▍   | 146/225 [00:23<00:10,  7.34it/s]"
          ]
        },
        {
          "name": "stdout",
          "output_type": "stream",
          "text": [
            "Question:  ['is there free air present']\n",
            "Answer:  ['no']\n",
            "Generated_Answer:  no\n",
            "Question:  ['are there abnormal findings']\n",
            "Answer:  ['yes']\n",
            "Generated_Answer:  no\n"
          ]
        },
        {
          "name": "stderr",
          "output_type": "stream",
          "text": [
            "Testing:  66%|██████▌   | 148/225 [00:23<00:10,  7.03it/s]"
          ]
        },
        {
          "name": "stdout",
          "output_type": "stream",
          "text": [
            "Question:  ['is anything not normal in the image']\n",
            "Answer:  ['yes']\n",
            "Generated_Answer:  no\n",
            "Question:  ['what is the pathology']\n",
            "Answer:  ['diverticulitis']\n",
            "Generated_Answer:  pneumial\n"
          ]
        },
        {
          "name": "stderr",
          "output_type": "stream",
          "text": [
            "Testing:  67%|██████▋   | 150/225 [00:23<00:10,  7.15it/s]"
          ]
        },
        {
          "name": "stdout",
          "output_type": "stream",
          "text": [
            "Question:  ['in what plane was this image taken']\n",
            "Answer:  ['axial']\n",
            "Generated_Answer:  axial\n",
            "Question:  ['is cardiomegaly present']\n",
            "Answer:  ['yes']\n",
            "Generated_Answer:  no\n"
          ]
        },
        {
          "name": "stderr",
          "output_type": "stream",
          "text": [
            "Testing:  68%|██████▊   | 152/225 [00:24<00:10,  7.14it/s]"
          ]
        },
        {
          "name": "stdout",
          "output_type": "stream",
          "text": [
            "Question:  ['is there bowel gas']\n",
            "Answer:  ['yes']\n",
            "Generated_Answer:  no\n",
            "Question:  ['which blood vessels are affected']\n",
            "Answer:  ['left aca and mca']\n",
            "Generated_Answer:  axial\n"
          ]
        },
        {
          "name": "stderr",
          "output_type": "stream",
          "text": [
            "Testing:  68%|██████▊   | 154/225 [00:24<00:10,  6.87it/s]"
          ]
        },
        {
          "name": "stdout",
          "output_type": "stream",
          "text": [
            "Question:  ['what organ is affected by pathology in this image']\n",
            "Answer:  ['brain']\n",
            "Generated_Answer:  ct\n",
            "Question:  ['what structures are involved']\n",
            "Answer:  ['caudate putamen left parietal']\n",
            "Generated_Answer:  ct\n"
          ]
        },
        {
          "name": "stderr",
          "output_type": "stream",
          "text": [
            "Testing:  69%|██████▉   | 156/225 [00:24<00:10,  6.82it/s]"
          ]
        },
        {
          "name": "stdout",
          "output_type": "stream",
          "text": [
            "Question:  ['is there evidence of a pneumoperitoneum']\n",
            "Answer:  ['no']\n",
            "Generated_Answer:  no\n",
            "Question:  ['is there free air underneath the diaphragm']\n",
            "Answer:  ['no']\n",
            "Generated_Answer:  yes\n"
          ]
        },
        {
          "name": "stderr",
          "output_type": "stream",
          "text": [
            "Testing:  70%|███████   | 158/225 [00:24<00:10,  6.56it/s]"
          ]
        },
        {
          "name": "stdout",
          "output_type": "stream",
          "text": [
            "Question:  ['what is the mass most likely']\n",
            "Answer:  ['kidney cyst']\n",
            "Generated_Answer:  ct\n",
            "Question:  ['are the borders of the mass well-defined']\n",
            "Answer:  ['no']\n",
            "Generated_Answer:  no\n"
          ]
        },
        {
          "name": "stderr",
          "output_type": "stream",
          "text": [
            "Testing:  71%|███████   | 160/225 [00:25<00:08,  7.34it/s]"
          ]
        },
        {
          "name": "stdout",
          "output_type": "stream",
          "text": [
            "Question:  ['are the borders of the mass well-defined and is the interior of the mass homogenous']\n",
            "Answer:  ['no']\n",
            "Generated_Answer:  yes\n",
            "Question:  ['is the interior of the mass homogenous']\n",
            "Answer:  ['no']\n",
            "Generated_Answer:  yes\n"
          ]
        },
        {
          "name": "stderr",
          "output_type": "stream",
          "text": [
            "Testing:  72%|███████▏  | 162/225 [00:25<00:08,  7.52it/s]"
          ]
        },
        {
          "name": "stdout",
          "output_type": "stream",
          "text": [
            "Question:  ['is the mass well circumscribed and homogenous']\n",
            "Answer:  ['no']\n",
            "Generated_Answer:  yes\n",
            "Question:  ['what plane was used in this image']\n",
            "Answer:  ['axial']\n",
            "Generated_Answer:  axial\n"
          ]
        },
        {
          "name": "stderr",
          "output_type": "stream",
          "text": [
            "\rTesting:  73%|███████▎  | 164/225 [00:25<00:07,  7.97it/s]"
          ]
        },
        {
          "name": "stdout",
          "output_type": "stream",
          "text": [
            "Question:  ['is there biliary duct dilation']\n",
            "Answer:  ['yes']\n",
            "Generated_Answer:  no\n",
            "Question:  ['which ventricle is the mass located in']\n",
            "Answer:  ['4th ventricle']\n",
            "Generated_Answer:  left\n"
          ]
        },
        {
          "name": "stderr",
          "output_type": "stream",
          "text": [
            "Testing:  74%|███████▍  | 167/225 [00:26<00:06,  8.81it/s]"
          ]
        },
        {
          "name": "stdout",
          "output_type": "stream",
          "text": [
            "Question:  ['is there contrast used']\n",
            "Answer:  ['yes']\n",
            "Generated_Answer:  no\n",
            "Question:  ['is the lesion hyperdense']\n",
            "Answer:  ['no']\n",
            "Generated_Answer:  no\n",
            "Question:  ['is the air under the diaphragm pathologic']\n",
            "Answer:  ['no']\n",
            "Generated_Answer:  yes\n"
          ]
        },
        {
          "name": "stderr",
          "output_type": "stream",
          "text": [
            "Testing:  75%|███████▌  | 169/225 [00:26<00:06,  8.12it/s]"
          ]
        },
        {
          "name": "stdout",
          "output_type": "stream",
          "text": [
            "Question:  ['what modality is used to take this image']\n",
            "Answer:  ['xr']\n",
            "Generated_Answer:  ct\n",
            "Question:  ['is the aorta size abnormal']\n",
            "Answer:  ['no']\n",
            "Generated_Answer:  no\n"
          ]
        },
        {
          "name": "stderr",
          "output_type": "stream",
          "text": [
            "Testing:  76%|███████▌  | 171/225 [00:26<00:06,  7.92it/s]"
          ]
        },
        {
          "name": "stdout",
          "output_type": "stream",
          "text": [
            "Question:  ['is the aorta dilated']\n",
            "Answer:  ['no']\n",
            "Generated_Answer:  no\n",
            "Question:  ['term for the enhancement of the luminal surface seen in the image']\n",
            "Answer:  ['mucosal hyperemia']\n",
            "Generated_Answer:  yes\n"
          ]
        },
        {
          "name": "stderr",
          "output_type": "stream",
          "text": [
            "Testing:  77%|███████▋  | 173/225 [00:26<00:06,  7.55it/s]"
          ]
        },
        {
          "name": "stdout",
          "output_type": "stream",
          "text": [
            "Question:  ['is the abdominal aorta within normal size limits']\n",
            "Answer:  ['yes']\n",
            "Generated_Answer:  yes\n",
            "Question:  ['which kidney has fluid around it']\n",
            "Answer:  ['right']\n",
            "Generated_Answer:  right\n"
          ]
        },
        {
          "name": "stderr",
          "output_type": "stream",
          "text": [
            "\rTesting:  77%|███████▋  | 174/225 [00:27<00:07,  6.94it/s]"
          ]
        },
        {
          "name": "stdout",
          "output_type": "stream",
          "text": [
            "Question:  ['is pneumo intestinalis present']\n",
            "Answer:  ['yes']\n",
            "Generated_Answer:  yes\n"
          ]
        },
        {
          "name": "stderr",
          "output_type": "stream",
          "text": [
            "Testing:  78%|███████▊  | 176/225 [00:27<00:07,  6.65it/s]"
          ]
        },
        {
          "name": "stdout",
          "output_type": "stream",
          "text": [
            "Question:  ['is this image abnormal']\n",
            "Answer:  ['yes']\n",
            "Generated_Answer:  yes\n",
            "Question:  ['are the kidney present']\n",
            "Answer:  ['yes']\n",
            "Generated_Answer:  no\n"
          ]
        },
        {
          "name": "stderr",
          "output_type": "stream",
          "text": [
            "Testing:  79%|███████▉  | 178/225 [00:27<00:07,  6.47it/s]"
          ]
        },
        {
          "name": "stdout",
          "output_type": "stream",
          "text": [
            "Question:  ['is there a chest tube placed']\n",
            "Answer:  ['no']\n",
            "Generated_Answer:  no\n",
            "Question:  ['is there evidence of pneumoperitoneum']\n",
            "Answer:  ['yes']\n",
            "Generated_Answer:  no\n"
          ]
        },
        {
          "name": "stderr",
          "output_type": "stream",
          "text": [
            "Testing:  80%|████████  | 180/225 [00:27<00:06,  7.01it/s]"
          ]
        },
        {
          "name": "stdout",
          "output_type": "stream",
          "text": [
            "Question:  ['are nodules present in both lungs']\n",
            "Answer:  ['yes']\n",
            "Generated_Answer:  no\n",
            "Question:  ['where is the location of the mass']\n",
            "Answer:  ['anterior mediastinum']\n",
            "Generated_Answer:  right upper lobe\n"
          ]
        },
        {
          "name": "stderr",
          "output_type": "stream",
          "text": [
            "Testing:  81%|████████  | 182/225 [00:28<00:05,  7.50it/s]"
          ]
        },
        {
          "name": "stdout",
          "output_type": "stream",
          "text": [
            "Question:  ['is there an air-fluid level']\n",
            "Answer:  ['no']\n",
            "Generated_Answer:  no\n",
            "Question:  ['is there free air in the abdomen']\n",
            "Answer:  ['no']\n",
            "Generated_Answer:  no\n"
          ]
        },
        {
          "name": "stderr",
          "output_type": "stream",
          "text": [
            "Testing:  82%|████████▏ | 185/225 [00:28<00:04,  8.63it/s]"
          ]
        },
        {
          "name": "stdout",
          "output_type": "stream",
          "text": [
            "Question:  ['how large is the mass']\n",
            "Answer:  ['5mm']\n",
            "Generated_Answer:  pa\n",
            "Question:  ['are there ekg leads on this patient']\n",
            "Answer:  ['yes']\n",
            "Generated_Answer:  no\n",
            "Question:  ['is this a normal image']\n",
            "Answer:  ['no']\n",
            "Generated_Answer:  yes\n"
          ]
        },
        {
          "name": "stderr",
          "output_type": "stream",
          "text": [
            "\rTesting:  83%|████████▎ | 187/225 [00:28<00:03, 10.10it/s]"
          ]
        },
        {
          "name": "stdout",
          "output_type": "stream",
          "text": [
            "Question:  ['is this a normal image']\n",
            "Answer:  ['no']\n",
            "Generated_Answer:  yes\n",
            "Question:  ['is this image normal or abnormal']\n",
            "Answer:  ['abnormal']\n",
            "Generated_Answer:  ct\n",
            "Question:  ['where are the signals most intense']\n",
            "Answer:  ['frontal and occipital']\n",
            "Generated_Answer:  right\n"
          ]
        },
        {
          "name": "stderr",
          "output_type": "stream",
          "text": [
            "Testing:  85%|████████▍ | 191/225 [00:29<00:03, 10.60it/s]"
          ]
        },
        {
          "name": "stdout",
          "output_type": "stream",
          "text": [
            "Question:  ['where are the infarcts']\n",
            "Answer:  ['basal ganglia cerebellum cerebral cortex']\n",
            "Generated_Answer:  right\n",
            "Question:  ['is there a shift of midline structures']\n",
            "Answer:  ['no']\n",
            "Generated_Answer:  no\n",
            "Question:  ['is there any adenopathy']\n",
            "Answer:  ['no']\n",
            "Generated_Answer:  no\n"
          ]
        },
        {
          "name": "stderr",
          "output_type": "stream",
          "text": [
            "\rTesting:  86%|████████▌ | 193/225 [00:29<00:02, 11.74it/s]"
          ]
        },
        {
          "name": "stdout",
          "output_type": "stream",
          "text": [
            "Question:  ['are the bronchial airways enlarged']\n",
            "Answer:  ['yes']\n",
            "Generated_Answer:  yes\n",
            "Question:  ['is this a normal image']\n",
            "Answer:  ['no']\n",
            "Generated_Answer:  yes\n",
            "Question:  ['are the hepatic lesions ring enhancing']\n",
            "Answer:  ['no']\n",
            "Generated_Answer:  no\n"
          ]
        },
        {
          "name": "stderr",
          "output_type": "stream",
          "text": [
            "Testing:  88%|████████▊ | 197/225 [00:29<00:02, 11.61it/s]"
          ]
        },
        {
          "name": "stdout",
          "output_type": "stream",
          "text": [
            "Question:  ['what image modality is used']\n",
            "Answer:  ['ct']\n",
            "Generated_Answer:  ct\n",
            "Question:  ['is the right diaphragm visualized']\n",
            "Answer:  ['no']\n",
            "Generated_Answer:  yes\n",
            "Question:  ['is there hilar lymphadenopathy']\n",
            "Answer:  ['no']\n",
            "Generated_Answer:  no\n"
          ]
        },
        {
          "name": "stderr",
          "output_type": "stream",
          "text": [
            "\rTesting:  88%|████████▊ | 199/225 [00:29<00:02, 10.96it/s]"
          ]
        },
        {
          "name": "stdout",
          "output_type": "stream",
          "text": [
            "Question:  ['is the gastric bubble shown on the left or right side of the patient']\n",
            "Answer:  ['right side']\n",
            "Generated_Answer:  pa\n",
            "Question:  ['where is the opacity located']\n",
            "Answer:  ['right of the midline superior to the right hilum']\n",
            "Generated_Answer:  right\n",
            "Question:  ['are the pleural opacities bilateral or unilateral']\n",
            "Answer:  ['bilateral']\n",
            "Generated_Answer:  pa\n"
          ]
        },
        {
          "name": "stderr",
          "output_type": "stream",
          "text": [
            "Testing:  90%|█████████ | 203/225 [00:30<00:01, 11.53it/s]"
          ]
        },
        {
          "name": "stdout",
          "output_type": "stream",
          "text": [
            "Question:  ['is the appendix non-enlarged']\n",
            "Answer:  ['yes']\n",
            "Generated_Answer:  yes\n",
            "Question:  ['is this patient in a supine position']\n",
            "Answer:  ['yes']\n",
            "Generated_Answer:  yes\n",
            "Question:  ['is this an axial view of the brain']\n",
            "Answer:  ['yes']\n",
            "Generated_Answer:  yes\n"
          ]
        },
        {
          "name": "stderr",
          "output_type": "stream",
          "text": [
            "\rTesting:  91%|█████████ | 205/225 [00:30<00:01, 11.35it/s]"
          ]
        },
        {
          "name": "stdout",
          "output_type": "stream",
          "text": [
            "Question:  ['does the liver contain at least one hypodensity']\n",
            "Answer:  ['yes']\n",
            "Generated_Answer:  yes\n",
            "Question:  ['is there a hypodensity located in the liver']\n",
            "Answer:  ['yes']\n",
            "Generated_Answer:  yes\n",
            "Question:  ['was this image taken by x-ray']\n",
            "Answer:  ['no']\n",
            "Generated_Answer:  yes\n"
          ]
        },
        {
          "name": "stderr",
          "output_type": "stream",
          "text": [
            "Testing:  93%|█████████▎| 209/225 [00:30<00:01, 10.89it/s]"
          ]
        },
        {
          "name": "stdout",
          "output_type": "stream",
          "text": [
            "Question:  ['how is the artifact in this image categorized']\n",
            "Answer:  ['motion']\n",
            "Generated_Answer:  ct\n",
            "Question:  ['what type of artifact is shown in this image']\n",
            "Answer:  ['motion']\n",
            "Generated_Answer:  ct\n",
            "Question:  ['is this an axial or saggital view of the brain']\n",
            "Answer:  ['axial']\n",
            "Generated_Answer:  ct\n"
          ]
        },
        {
          "name": "stderr",
          "output_type": "stream",
          "text": [
            "\rTesting:  94%|█████████▍| 211/225 [00:30<00:01, 11.02it/s]"
          ]
        },
        {
          "name": "stdout",
          "output_type": "stream",
          "text": [
            "Question:  ['what cross section of the brain is this image']\n",
            "Answer:  ['axial']\n",
            "Generated_Answer:  ct\n",
            "Question:  ['was this patient given iv contrast']\n",
            "Answer:  ['yes']\n",
            "Generated_Answer:  yes\n",
            "Question:  ['is this a t1 weighted t2 weighted or flair image']\n",
            "Answer:  ['flair']\n",
            "Generated_Answer:  with contrast\n"
          ]
        },
        {
          "name": "stderr",
          "output_type": "stream",
          "text": [
            "\rTesting:  95%|█████████▍| 213/225 [00:30<00:01, 11.50it/s]"
          ]
        },
        {
          "name": "stdout",
          "output_type": "stream",
          "text": [
            "Question:  ['what are the hyperintensities surrounding the aorta']\n",
            "Answer:  ['calcified atherosclerosis']\n",
            "Generated_Answer:  noid\n",
            "Question:  ['is there flattening of the left hemidiaphragm']\n",
            "Answer:  ['yes']\n",
            "Generated_Answer:  no\n"
          ]
        },
        {
          "name": "stderr",
          "output_type": "stream",
          "text": [
            "Testing:  96%|█████████▋| 217/225 [00:31<00:01,  7.38it/s]"
          ]
        },
        {
          "name": "stdout",
          "output_type": "stream",
          "text": [
            "Question:  ['are the small bubbles of air seen normal or abnormal']\n",
            "Answer:  ['abnormal']\n",
            "Generated_Answer:  right\n",
            "Question:  ['the image probably had what incidental finding']\n",
            "Answer:  ['cavum vergae']\n",
            "Generated_Answer:  right\n",
            "Question:  ['what was probably found incidentally on this image']\n",
            "Answer:  ['cavum vergae']\n",
            "Generated_Answer:  ct\n"
          ]
        },
        {
          "name": "stderr",
          "output_type": "stream",
          "text": [
            "\rTesting:  97%|█████████▋| 219/225 [00:31<00:00,  8.57it/s]"
          ]
        },
        {
          "name": "stdout",
          "output_type": "stream",
          "text": [
            "Question:  ['this image is taken in what plane']\n",
            "Answer:  ['axial']\n",
            "Generated_Answer:  axial\n",
            "Question:  ['are the ventricles an abnormal size']\n",
            "Answer:  ['no']\n",
            "Generated_Answer:  yes\n",
            "Question:  ['is the size of the ventricles abnormal']\n",
            "Answer:  ['no']\n",
            "Generated_Answer:  no\n"
          ]
        },
        {
          "name": "stderr",
          "output_type": "stream",
          "text": [
            "Testing:  99%|█████████▉| 223/225 [00:32<00:00,  9.99it/s]"
          ]
        },
        {
          "name": "stdout",
          "output_type": "stream",
          "text": [
            "Question:  ['this image is consistent with what condition']\n",
            "Answer:  ['appendicitis']\n",
            "Generated_Answer:  ct\n",
            "Question:  ['what condition does the patient have']\n",
            "Answer:  ['appendicitis']\n",
            "Generated_Answer:  ct\n",
            "Question:  ['where is there obstruction present']\n",
            "Answer:  ['proximal aspect of the appendix']\n",
            "Generated_Answer:  right\n"
          ]
        },
        {
          "name": "stderr",
          "output_type": "stream",
          "text": [
            "Testing: 100%|██████████| 225/225 [00:32<00:00,  6.94it/s]"
          ]
        },
        {
          "name": "stdout",
          "output_type": "stream",
          "text": [
            "Question:  ['is the gi tract is highlighted by contrast']\n",
            "Answer:  ['yes']\n",
            "Generated_Answer:  yes\n",
            "Question:  ['do you see cardiomegaly']\n",
            "Answer:  ['no']\n",
            "Generated_Answer:  no\n",
            "BLEU 0.267\n",
            "F1 0.267\n",
            "Accuracy 0.311\n",
            "Accuracy YN0.455\n"
          ]
        },
        {
          "name": "stderr",
          "output_type": "stream",
          "text": [
            "\n"
          ]
        }
      ],
      "source": [
        "eval_gpt_open_ended(model, test_loader)"
      ]
    },
    {
      "cell_type": "code",
      "execution_count": null,
      "metadata": {
        "id": "URvlQLa5THRO"
      },
      "outputs": [],
      "source": []
    }
  ],
  "metadata": {
    "accelerator": "GPU",
    "colab": {
      "gpuType": "T4",
      "provenance": []
    },
    "kernelspec": {
      "display_name": "Python 3",
      "name": "python3"
    },
    "language_info": {
      "name": "python"
    },
    "widgets": {
      "application/vnd.jupyter.widget-state+json": {
        "0103219e726349cc8d66ce715d3bcabd": {
          "model_module": "@jupyter-widgets/controls",
          "model_module_version": "1.5.0",
          "model_name": "HTMLModel",
          "state": {
            "_dom_classes": [],
            "_model_module": "@jupyter-widgets/controls",
            "_model_module_version": "1.5.0",
            "_model_name": "HTMLModel",
            "_view_count": null,
            "_view_module": "@jupyter-widgets/controls",
            "_view_module_version": "1.5.0",
            "_view_name": "HTMLView",
            "description": "",
            "description_tooltip": null,
            "layout": "IPY_MODEL_83fafadfc41c481bb6929e10b56a1d6b",
            "placeholder": "​",
            "style": "IPY_MODEL_86e4026532f246828416a7e2f0f4e6f5",
            "value": " 1.01k/1.01k [00:00&lt;00:00, 67.6kB/s]"
          }
        },
        "02e29771481c4e578ff051e460c06061": {
          "model_module": "@jupyter-widgets/controls",
          "model_module_version": "1.5.0",
          "model_name": "HBoxModel",
          "state": {
            "_dom_classes": [],
            "_model_module": "@jupyter-widgets/controls",
            "_model_module_version": "1.5.0",
            "_model_name": "HBoxModel",
            "_view_count": null,
            "_view_module": "@jupyter-widgets/controls",
            "_view_module_version": "1.5.0",
            "_view_name": "HBoxView",
            "box_style": "",
            "children": [
              "IPY_MODEL_1e76c50f892f4e73b30aa9c4ab4bfcb4",
              "IPY_MODEL_d067b672811c40b9a4ab2893f2733bbd",
              "IPY_MODEL_f635d0841597454590ee07d40a881297"
            ],
            "layout": "IPY_MODEL_b407326a0ccb47a589b83a12273cd5f5"
          }
        },
        "038ea5627ffd40a580e25673524f9592": {
          "model_module": "@jupyter-widgets/controls",
          "model_module_version": "1.5.0",
          "model_name": "FloatProgressModel",
          "state": {
            "_dom_classes": [],
            "_model_module": "@jupyter-widgets/controls",
            "_model_module_version": "1.5.0",
            "_model_name": "FloatProgressModel",
            "_view_count": null,
            "_view_module": "@jupyter-widgets/controls",
            "_view_module_version": "1.5.0",
            "_view_name": "ProgressView",
            "bar_style": "success",
            "description": "",
            "description_tooltip": null,
            "layout": "IPY_MODEL_cb5650b0314d4a9e917fed0a15df707d",
            "max": 605222477,
            "min": 0,
            "orientation": "horizontal",
            "style": "IPY_MODEL_523b17ce156e408a9401cfe559ef2a65",
            "value": 605222477
          }
        },
        "04aa1683d6024a0c86c06d87504a9e0f": {
          "model_module": "@jupyter-widgets/base",
          "model_module_version": "1.2.0",
          "model_name": "LayoutModel",
          "state": {
            "_model_module": "@jupyter-widgets/base",
            "_model_module_version": "1.2.0",
            "_model_name": "LayoutModel",
            "_view_count": null,
            "_view_module": "@jupyter-widgets/base",
            "_view_module_version": "1.2.0",
            "_view_name": "LayoutView",
            "align_content": null,
            "align_items": null,
            "align_self": null,
            "border": null,
            "bottom": null,
            "display": null,
            "flex": null,
            "flex_flow": null,
            "grid_area": null,
            "grid_auto_columns": null,
            "grid_auto_flow": null,
            "grid_auto_rows": null,
            "grid_column": null,
            "grid_gap": null,
            "grid_row": null,
            "grid_template_areas": null,
            "grid_template_columns": null,
            "grid_template_rows": null,
            "height": null,
            "justify_content": null,
            "justify_items": null,
            "left": null,
            "margin": null,
            "max_height": null,
            "max_width": null,
            "min_height": null,
            "min_width": null,
            "object_fit": null,
            "object_position": null,
            "order": null,
            "overflow": null,
            "overflow_x": null,
            "overflow_y": null,
            "padding": null,
            "right": null,
            "top": null,
            "visibility": null,
            "width": null
          }
        },
        "056e61264ef14310ab72896cfb46c0be": {
          "model_module": "@jupyter-widgets/controls",
          "model_module_version": "1.5.0",
          "model_name": "DescriptionStyleModel",
          "state": {
            "_model_module": "@jupyter-widgets/controls",
            "_model_module_version": "1.5.0",
            "_model_name": "DescriptionStyleModel",
            "_view_count": null,
            "_view_module": "@jupyter-widgets/base",
            "_view_module_version": "1.2.0",
            "_view_name": "StyleView",
            "description_width": ""
          }
        },
        "08a06a410e244abb8b50d51007093519": {
          "model_module": "@jupyter-widgets/base",
          "model_module_version": "1.2.0",
          "model_name": "LayoutModel",
          "state": {
            "_model_module": "@jupyter-widgets/base",
            "_model_module_version": "1.2.0",
            "_model_name": "LayoutModel",
            "_view_count": null,
            "_view_module": "@jupyter-widgets/base",
            "_view_module_version": "1.2.0",
            "_view_name": "LayoutView",
            "align_content": null,
            "align_items": null,
            "align_self": null,
            "border": null,
            "bottom": null,
            "display": null,
            "flex": null,
            "flex_flow": null,
            "grid_area": null,
            "grid_auto_columns": null,
            "grid_auto_flow": null,
            "grid_auto_rows": null,
            "grid_column": null,
            "grid_gap": null,
            "grid_row": null,
            "grid_template_areas": null,
            "grid_template_columns": null,
            "grid_template_rows": null,
            "height": null,
            "justify_content": null,
            "justify_items": null,
            "left": null,
            "margin": null,
            "max_height": null,
            "max_width": null,
            "min_height": null,
            "min_width": null,
            "object_fit": null,
            "object_position": null,
            "order": null,
            "overflow": null,
            "overflow_x": null,
            "overflow_y": null,
            "padding": null,
            "right": null,
            "top": null,
            "visibility": null,
            "width": null
          }
        },
        "0a678417dae1462cb5083e9834d7f939": {
          "model_module": "@jupyter-widgets/controls",
          "model_module_version": "1.5.0",
          "model_name": "FloatProgressModel",
          "state": {
            "_dom_classes": [],
            "_model_module": "@jupyter-widgets/controls",
            "_model_module_version": "1.5.0",
            "_model_name": "FloatProgressModel",
            "_view_count": null,
            "_view_module": "@jupyter-widgets/controls",
            "_view_module_version": "1.5.0",
            "_view_name": "ProgressView",
            "bar_style": "success",
            "description": "",
            "description_tooltip": null,
            "layout": "IPY_MODEL_3228e227cc004a8b984028094eadaef2",
            "max": 568,
            "min": 0,
            "orientation": "horizontal",
            "style": "IPY_MODEL_46ff1d1a947d4bf982f638f3c85213c3",
            "value": 568
          }
        },
        "0c5ef6a0d6274c518989231d9e53301a": {
          "model_module": "@jupyter-widgets/controls",
          "model_module_version": "1.5.0",
          "model_name": "HTMLModel",
          "state": {
            "_dom_classes": [],
            "_model_module": "@jupyter-widgets/controls",
            "_model_module_version": "1.5.0",
            "_model_name": "HTMLModel",
            "_view_count": null,
            "_view_module": "@jupyter-widgets/controls",
            "_view_module_version": "1.5.0",
            "_view_name": "HTMLView",
            "description": "",
            "description_tooltip": null,
            "layout": "IPY_MODEL_c57ca79471514e27bcd4dc338ab641fc",
            "placeholder": "​",
            "style": "IPY_MODEL_9442a82dece34dbb983e62e7ee2e3b82",
            "value": " 389/389 [00:00&lt;00:00, 23.7kB/s]"
          }
        },
        "0d2c40e7258c4dd18c705c4266656977": {
          "model_module": "@jupyter-widgets/base",
          "model_module_version": "1.2.0",
          "model_name": "LayoutModel",
          "state": {
            "_model_module": "@jupyter-widgets/base",
            "_model_module_version": "1.2.0",
            "_model_name": "LayoutModel",
            "_view_count": null,
            "_view_module": "@jupyter-widgets/base",
            "_view_module_version": "1.2.0",
            "_view_name": "LayoutView",
            "align_content": null,
            "align_items": null,
            "align_self": null,
            "border": null,
            "bottom": null,
            "display": null,
            "flex": null,
            "flex_flow": null,
            "grid_area": null,
            "grid_auto_columns": null,
            "grid_auto_flow": null,
            "grid_auto_rows": null,
            "grid_column": null,
            "grid_gap": null,
            "grid_row": null,
            "grid_template_areas": null,
            "grid_template_columns": null,
            "grid_template_rows": null,
            "height": null,
            "justify_content": null,
            "justify_items": null,
            "left": null,
            "margin": null,
            "max_height": null,
            "max_width": null,
            "min_height": null,
            "min_width": null,
            "object_fit": null,
            "object_position": null,
            "order": null,
            "overflow": null,
            "overflow_x": null,
            "overflow_y": null,
            "padding": null,
            "right": null,
            "top": null,
            "visibility": null,
            "width": null
          }
        },
        "0d4d77a044c449a5a410cdea2fcce95e": {
          "model_module": "@jupyter-widgets/base",
          "model_module_version": "1.2.0",
          "model_name": "LayoutModel",
          "state": {
            "_model_module": "@jupyter-widgets/base",
            "_model_module_version": "1.2.0",
            "_model_name": "LayoutModel",
            "_view_count": null,
            "_view_module": "@jupyter-widgets/base",
            "_view_module_version": "1.2.0",
            "_view_name": "LayoutView",
            "align_content": null,
            "align_items": null,
            "align_self": null,
            "border": null,
            "bottom": null,
            "display": null,
            "flex": null,
            "flex_flow": null,
            "grid_area": null,
            "grid_auto_columns": null,
            "grid_auto_flow": null,
            "grid_auto_rows": null,
            "grid_column": null,
            "grid_gap": null,
            "grid_row": null,
            "grid_template_areas": null,
            "grid_template_columns": null,
            "grid_template_rows": null,
            "height": null,
            "justify_content": null,
            "justify_items": null,
            "left": null,
            "margin": null,
            "max_height": null,
            "max_width": null,
            "min_height": null,
            "min_width": null,
            "object_fit": null,
            "object_position": null,
            "order": null,
            "overflow": null,
            "overflow_x": null,
            "overflow_y": null,
            "padding": null,
            "right": null,
            "top": null,
            "visibility": null,
            "width": null
          }
        },
        "0e5796299e3b44bd98801308371d6cfe": {
          "model_module": "@jupyter-widgets/controls",
          "model_module_version": "1.5.0",
          "model_name": "DescriptionStyleModel",
          "state": {
            "_model_module": "@jupyter-widgets/controls",
            "_model_module_version": "1.5.0",
            "_model_name": "DescriptionStyleModel",
            "_view_count": null,
            "_view_module": "@jupyter-widgets/base",
            "_view_module_version": "1.2.0",
            "_view_name": "StyleView",
            "description_width": ""
          }
        },
        "103aeb0ca3ab4766836a584b4be949f4": {
          "model_module": "@jupyter-widgets/base",
          "model_module_version": "1.2.0",
          "model_name": "LayoutModel",
          "state": {
            "_model_module": "@jupyter-widgets/base",
            "_model_module_version": "1.2.0",
            "_model_name": "LayoutModel",
            "_view_count": null,
            "_view_module": "@jupyter-widgets/base",
            "_view_module_version": "1.2.0",
            "_view_name": "LayoutView",
            "align_content": null,
            "align_items": null,
            "align_self": null,
            "border": null,
            "bottom": null,
            "display": null,
            "flex": null,
            "flex_flow": null,
            "grid_area": null,
            "grid_auto_columns": null,
            "grid_auto_flow": null,
            "grid_auto_rows": null,
            "grid_column": null,
            "grid_gap": null,
            "grid_row": null,
            "grid_template_areas": null,
            "grid_template_columns": null,
            "grid_template_rows": null,
            "height": null,
            "justify_content": null,
            "justify_items": null,
            "left": null,
            "margin": null,
            "max_height": null,
            "max_width": null,
            "min_height": null,
            "min_width": null,
            "object_fit": null,
            "object_position": null,
            "order": null,
            "overflow": null,
            "overflow_x": null,
            "overflow_y": null,
            "padding": null,
            "right": null,
            "top": null,
            "visibility": null,
            "width": null
          }
        },
        "126ecc351b934c71aceb4b4469cac5b4": {
          "model_module": "@jupyter-widgets/controls",
          "model_module_version": "1.5.0",
          "model_name": "HTMLModel",
          "state": {
            "_dom_classes": [],
            "_model_module": "@jupyter-widgets/controls",
            "_model_module_version": "1.5.0",
            "_model_name": "HTMLModel",
            "_view_count": null,
            "_view_module": "@jupyter-widgets/controls",
            "_view_module_version": "1.5.0",
            "_view_name": "HTMLView",
            "description": "",
            "description_tooltip": null,
            "layout": "IPY_MODEL_73a82a058ec64f7ea81e60f950137786",
            "placeholder": "​",
            "style": "IPY_MODEL_dbc3c85ca4264aa5a606c8856569a8a3",
            "value": " 4.42k/4.42k [00:00&lt;00:00, 192kB/s]"
          }
        },
        "139fdda992f64736a7b39119bb08bc21": {
          "model_module": "@jupyter-widgets/controls",
          "model_module_version": "1.5.0",
          "model_name": "DescriptionStyleModel",
          "state": {
            "_model_module": "@jupyter-widgets/controls",
            "_model_module_version": "1.5.0",
            "_model_name": "DescriptionStyleModel",
            "_view_count": null,
            "_view_module": "@jupyter-widgets/base",
            "_view_module_version": "1.2.0",
            "_view_name": "StyleView",
            "description_width": ""
          }
        },
        "14014415b16c43a7bba56ee20122b4df": {
          "model_module": "@jupyter-widgets/base",
          "model_module_version": "1.2.0",
          "model_name": "LayoutModel",
          "state": {
            "_model_module": "@jupyter-widgets/base",
            "_model_module_version": "1.2.0",
            "_model_name": "LayoutModel",
            "_view_count": null,
            "_view_module": "@jupyter-widgets/base",
            "_view_module_version": "1.2.0",
            "_view_name": "LayoutView",
            "align_content": null,
            "align_items": null,
            "align_self": null,
            "border": null,
            "bottom": null,
            "display": null,
            "flex": null,
            "flex_flow": null,
            "grid_area": null,
            "grid_auto_columns": null,
            "grid_auto_flow": null,
            "grid_auto_rows": null,
            "grid_column": null,
            "grid_gap": null,
            "grid_row": null,
            "grid_template_areas": null,
            "grid_template_columns": null,
            "grid_template_rows": null,
            "height": null,
            "justify_content": null,
            "justify_items": null,
            "left": null,
            "margin": null,
            "max_height": null,
            "max_width": null,
            "min_height": null,
            "min_width": null,
            "object_fit": null,
            "object_position": null,
            "order": null,
            "overflow": null,
            "overflow_x": null,
            "overflow_y": null,
            "padding": null,
            "right": null,
            "top": null,
            "visibility": null,
            "width": null
          }
        },
        "164a79f55d1e409b82d26211f29de3ce": {
          "model_module": "@jupyter-widgets/controls",
          "model_module_version": "1.5.0",
          "model_name": "ProgressStyleModel",
          "state": {
            "_model_module": "@jupyter-widgets/controls",
            "_model_module_version": "1.5.0",
            "_model_name": "ProgressStyleModel",
            "_view_count": null,
            "_view_module": "@jupyter-widgets/base",
            "_view_module_version": "1.2.0",
            "_view_name": "StyleView",
            "bar_color": null,
            "description_width": ""
          }
        },
        "174b12dece034dd7bc731c18c30c9465": {
          "model_module": "@jupyter-widgets/base",
          "model_module_version": "1.2.0",
          "model_name": "LayoutModel",
          "state": {
            "_model_module": "@jupyter-widgets/base",
            "_model_module_version": "1.2.0",
            "_model_name": "LayoutModel",
            "_view_count": null,
            "_view_module": "@jupyter-widgets/base",
            "_view_module_version": "1.2.0",
            "_view_name": "LayoutView",
            "align_content": null,
            "align_items": null,
            "align_self": null,
            "border": null,
            "bottom": null,
            "display": null,
            "flex": null,
            "flex_flow": null,
            "grid_area": null,
            "grid_auto_columns": null,
            "grid_auto_flow": null,
            "grid_auto_rows": null,
            "grid_column": null,
            "grid_gap": null,
            "grid_row": null,
            "grid_template_areas": null,
            "grid_template_columns": null,
            "grid_template_rows": null,
            "height": null,
            "justify_content": null,
            "justify_items": null,
            "left": null,
            "margin": null,
            "max_height": null,
            "max_width": null,
            "min_height": null,
            "min_width": null,
            "object_fit": null,
            "object_position": null,
            "order": null,
            "overflow": null,
            "overflow_x": null,
            "overflow_y": null,
            "padding": null,
            "right": null,
            "top": null,
            "visibility": null,
            "width": null
          }
        },
        "18aa09f120814ae58f1e308a84f11dac": {
          "model_module": "@jupyter-widgets/base",
          "model_module_version": "1.2.0",
          "model_name": "LayoutModel",
          "state": {
            "_model_module": "@jupyter-widgets/base",
            "_model_module_version": "1.2.0",
            "_model_name": "LayoutModel",
            "_view_count": null,
            "_view_module": "@jupyter-widgets/base",
            "_view_module_version": "1.2.0",
            "_view_name": "LayoutView",
            "align_content": null,
            "align_items": null,
            "align_self": null,
            "border": null,
            "bottom": null,
            "display": null,
            "flex": null,
            "flex_flow": null,
            "grid_area": null,
            "grid_auto_columns": null,
            "grid_auto_flow": null,
            "grid_auto_rows": null,
            "grid_column": null,
            "grid_gap": null,
            "grid_row": null,
            "grid_template_areas": null,
            "grid_template_columns": null,
            "grid_template_rows": null,
            "height": null,
            "justify_content": null,
            "justify_items": null,
            "left": null,
            "margin": null,
            "max_height": null,
            "max_width": null,
            "min_height": null,
            "min_width": null,
            "object_fit": null,
            "object_position": null,
            "order": null,
            "overflow": null,
            "overflow_x": null,
            "overflow_y": null,
            "padding": null,
            "right": null,
            "top": null,
            "visibility": null,
            "width": null
          }
        },
        "1c846c069885458ebb0825b6b0dd68ca": {
          "model_module": "@jupyter-widgets/base",
          "model_module_version": "1.2.0",
          "model_name": "LayoutModel",
          "state": {
            "_model_module": "@jupyter-widgets/base",
            "_model_module_version": "1.2.0",
            "_model_name": "LayoutModel",
            "_view_count": null,
            "_view_module": "@jupyter-widgets/base",
            "_view_module_version": "1.2.0",
            "_view_name": "LayoutView",
            "align_content": null,
            "align_items": null,
            "align_self": null,
            "border": null,
            "bottom": null,
            "display": null,
            "flex": null,
            "flex_flow": null,
            "grid_area": null,
            "grid_auto_columns": null,
            "grid_auto_flow": null,
            "grid_auto_rows": null,
            "grid_column": null,
            "grid_gap": null,
            "grid_row": null,
            "grid_template_areas": null,
            "grid_template_columns": null,
            "grid_template_rows": null,
            "height": null,
            "justify_content": null,
            "justify_items": null,
            "left": null,
            "margin": null,
            "max_height": null,
            "max_width": null,
            "min_height": null,
            "min_width": null,
            "object_fit": null,
            "object_position": null,
            "order": null,
            "overflow": null,
            "overflow_x": null,
            "overflow_y": null,
            "padding": null,
            "right": null,
            "top": null,
            "visibility": null,
            "width": null
          }
        },
        "1d490f5b90e84c758641770a419f64c9": {
          "model_module": "@jupyter-widgets/controls",
          "model_module_version": "1.5.0",
          "model_name": "DescriptionStyleModel",
          "state": {
            "_model_module": "@jupyter-widgets/controls",
            "_model_module_version": "1.5.0",
            "_model_name": "DescriptionStyleModel",
            "_view_count": null,
            "_view_module": "@jupyter-widgets/base",
            "_view_module_version": "1.2.0",
            "_view_name": "StyleView",
            "description_width": ""
          }
        },
        "1e76c50f892f4e73b30aa9c4ab4bfcb4": {
          "model_module": "@jupyter-widgets/controls",
          "model_module_version": "1.5.0",
          "model_name": "HTMLModel",
          "state": {
            "_dom_classes": [],
            "_model_module": "@jupyter-widgets/controls",
            "_model_module_version": "1.5.0",
            "_model_name": "HTMLModel",
            "_view_count": null,
            "_view_module": "@jupyter-widgets/controls",
            "_view_module_version": "1.5.0",
            "_view_name": "HTMLView",
            "description": "",
            "description_tooltip": null,
            "layout": "IPY_MODEL_67dd36dcc41f46309969aa6008769bce",
            "placeholder": "​",
            "style": "IPY_MODEL_642b29dd72aa4642a48d080b6f9d01a0",
            "value": "Downloading (…)/main/tokenizer.json: 100%"
          }
        },
        "20ce169d391a45ce9a447978f6f57388": {
          "model_module": "@jupyter-widgets/controls",
          "model_module_version": "1.5.0",
          "model_name": "DescriptionStyleModel",
          "state": {
            "_model_module": "@jupyter-widgets/controls",
            "_model_module_version": "1.5.0",
            "_model_name": "DescriptionStyleModel",
            "_view_count": null,
            "_view_module": "@jupyter-widgets/base",
            "_view_module_version": "1.2.0",
            "_view_name": "StyleView",
            "description_width": ""
          }
        },
        "25b2647c0b864334b3b53ba0a90402ff": {
          "model_module": "@jupyter-widgets/base",
          "model_module_version": "1.2.0",
          "model_name": "LayoutModel",
          "state": {
            "_model_module": "@jupyter-widgets/base",
            "_model_module_version": "1.2.0",
            "_model_name": "LayoutModel",
            "_view_count": null,
            "_view_module": "@jupyter-widgets/base",
            "_view_module_version": "1.2.0",
            "_view_name": "LayoutView",
            "align_content": null,
            "align_items": null,
            "align_self": null,
            "border": null,
            "bottom": null,
            "display": null,
            "flex": null,
            "flex_flow": null,
            "grid_area": null,
            "grid_auto_columns": null,
            "grid_auto_flow": null,
            "grid_auto_rows": null,
            "grid_column": null,
            "grid_gap": null,
            "grid_row": null,
            "grid_template_areas": null,
            "grid_template_columns": null,
            "grid_template_rows": null,
            "height": null,
            "justify_content": null,
            "justify_items": null,
            "left": null,
            "margin": null,
            "max_height": null,
            "max_width": null,
            "min_height": null,
            "min_width": null,
            "object_fit": null,
            "object_position": null,
            "order": null,
            "overflow": null,
            "overflow_x": null,
            "overflow_y": null,
            "padding": null,
            "right": null,
            "top": null,
            "visibility": null,
            "width": null
          }
        },
        "298867cc457b4058bef2bd5f20d36753": {
          "model_module": "@jupyter-widgets/controls",
          "model_module_version": "1.5.0",
          "model_name": "HBoxModel",
          "state": {
            "_dom_classes": [],
            "_model_module": "@jupyter-widgets/controls",
            "_model_module_version": "1.5.0",
            "_model_name": "HBoxModel",
            "_view_count": null,
            "_view_module": "@jupyter-widgets/controls",
            "_view_module_version": "1.5.0",
            "_view_name": "HBoxView",
            "box_style": "",
            "children": [
              "IPY_MODEL_ae781aca89204c06b1f149e928f06a78",
              "IPY_MODEL_c80d862e1e8d4cb982abad53f442a4e5",
              "IPY_MODEL_375b24bfb68646e2b3c9c38822ba7964"
            ],
            "layout": "IPY_MODEL_69e6c6394f6e41648e5dbc30133fd27f"
          }
        },
        "2f78d84f9b844b5381b8434555f51e6f": {
          "model_module": "@jupyter-widgets/base",
          "model_module_version": "1.2.0",
          "model_name": "LayoutModel",
          "state": {
            "_model_module": "@jupyter-widgets/base",
            "_model_module_version": "1.2.0",
            "_model_name": "LayoutModel",
            "_view_count": null,
            "_view_module": "@jupyter-widgets/base",
            "_view_module_version": "1.2.0",
            "_view_name": "LayoutView",
            "align_content": null,
            "align_items": null,
            "align_self": null,
            "border": null,
            "bottom": null,
            "display": null,
            "flex": null,
            "flex_flow": null,
            "grid_area": null,
            "grid_auto_columns": null,
            "grid_auto_flow": null,
            "grid_auto_rows": null,
            "grid_column": null,
            "grid_gap": null,
            "grid_row": null,
            "grid_template_areas": null,
            "grid_template_columns": null,
            "grid_template_rows": null,
            "height": null,
            "justify_content": null,
            "justify_items": null,
            "left": null,
            "margin": null,
            "max_height": null,
            "max_width": null,
            "min_height": null,
            "min_width": null,
            "object_fit": null,
            "object_position": null,
            "order": null,
            "overflow": null,
            "overflow_x": null,
            "overflow_y": null,
            "padding": null,
            "right": null,
            "top": null,
            "visibility": null,
            "width": null
          }
        },
        "3228e227cc004a8b984028094eadaef2": {
          "model_module": "@jupyter-widgets/base",
          "model_module_version": "1.2.0",
          "model_name": "LayoutModel",
          "state": {
            "_model_module": "@jupyter-widgets/base",
            "_model_module_version": "1.2.0",
            "_model_name": "LayoutModel",
            "_view_count": null,
            "_view_module": "@jupyter-widgets/base",
            "_view_module_version": "1.2.0",
            "_view_name": "LayoutView",
            "align_content": null,
            "align_items": null,
            "align_self": null,
            "border": null,
            "bottom": null,
            "display": null,
            "flex": null,
            "flex_flow": null,
            "grid_area": null,
            "grid_auto_columns": null,
            "grid_auto_flow": null,
            "grid_auto_rows": null,
            "grid_column": null,
            "grid_gap": null,
            "grid_row": null,
            "grid_template_areas": null,
            "grid_template_columns": null,
            "grid_template_rows": null,
            "height": null,
            "justify_content": null,
            "justify_items": null,
            "left": null,
            "margin": null,
            "max_height": null,
            "max_width": null,
            "min_height": null,
            "min_width": null,
            "object_fit": null,
            "object_position": null,
            "order": null,
            "overflow": null,
            "overflow_x": null,
            "overflow_y": null,
            "padding": null,
            "right": null,
            "top": null,
            "visibility": null,
            "width": null
          }
        },
        "36ca33f9baa845a38510f6a7459fa7a4": {
          "model_module": "@jupyter-widgets/base",
          "model_module_version": "1.2.0",
          "model_name": "LayoutModel",
          "state": {
            "_model_module": "@jupyter-widgets/base",
            "_model_module_version": "1.2.0",
            "_model_name": "LayoutModel",
            "_view_count": null,
            "_view_module": "@jupyter-widgets/base",
            "_view_module_version": "1.2.0",
            "_view_name": "LayoutView",
            "align_content": null,
            "align_items": null,
            "align_self": null,
            "border": null,
            "bottom": null,
            "display": null,
            "flex": null,
            "flex_flow": null,
            "grid_area": null,
            "grid_auto_columns": null,
            "grid_auto_flow": null,
            "grid_auto_rows": null,
            "grid_column": null,
            "grid_gap": null,
            "grid_row": null,
            "grid_template_areas": null,
            "grid_template_columns": null,
            "grid_template_rows": null,
            "height": null,
            "justify_content": null,
            "justify_items": null,
            "left": null,
            "margin": null,
            "max_height": null,
            "max_width": null,
            "min_height": null,
            "min_width": null,
            "object_fit": null,
            "object_position": null,
            "order": null,
            "overflow": null,
            "overflow_x": null,
            "overflow_y": null,
            "padding": null,
            "right": null,
            "top": null,
            "visibility": null,
            "width": null
          }
        },
        "36dd5978bcad48bc9f8564646ac740a5": {
          "model_module": "@jupyter-widgets/controls",
          "model_module_version": "1.5.0",
          "model_name": "ProgressStyleModel",
          "state": {
            "_model_module": "@jupyter-widgets/controls",
            "_model_module_version": "1.5.0",
            "_model_name": "ProgressStyleModel",
            "_view_count": null,
            "_view_module": "@jupyter-widgets/base",
            "_view_module_version": "1.2.0",
            "_view_name": "StyleView",
            "bar_color": null,
            "description_width": ""
          }
        },
        "375b24bfb68646e2b3c9c38822ba7964": {
          "model_module": "@jupyter-widgets/controls",
          "model_module_version": "1.5.0",
          "model_name": "HTMLModel",
          "state": {
            "_dom_classes": [],
            "_model_module": "@jupyter-widgets/controls",
            "_model_module_version": "1.5.0",
            "_model_name": "HTMLModel",
            "_view_count": null,
            "_view_module": "@jupyter-widgets/controls",
            "_view_module_version": "1.5.0",
            "_view_name": "HTMLView",
            "description": "",
            "description_tooltip": null,
            "layout": "IPY_MODEL_36ca33f9baa845a38510f6a7459fa7a4",
            "placeholder": "​",
            "style": "IPY_MODEL_dbfd16463b53482b97cc281b3fe01b9d",
            "value": " 1.04M/1.04M [00:00&lt;00:00, 5.99MB/s]"
          }
        },
        "38b536e46483499e828cfc8728e9562f": {
          "model_module": "@jupyter-widgets/controls",
          "model_module_version": "1.5.0",
          "model_name": "HBoxModel",
          "state": {
            "_dom_classes": [],
            "_model_module": "@jupyter-widgets/controls",
            "_model_module_version": "1.5.0",
            "_model_name": "HBoxModel",
            "_view_count": null,
            "_view_module": "@jupyter-widgets/controls",
            "_view_module_version": "1.5.0",
            "_view_name": "HBoxView",
            "box_style": "",
            "children": [
              "IPY_MODEL_433e46d77a7847fcbf8ca5bcbe55eb8a",
              "IPY_MODEL_e772292ebf7b442696fe1dc7f90d138a",
              "IPY_MODEL_ed3e21e16d2140d38cc909543d59e914"
            ],
            "layout": "IPY_MODEL_de303c2628df4ce7820dd8fd56343d52"
          }
        },
        "38febe23eded446da3a890392704baf3": {
          "model_module": "@jupyter-widgets/controls",
          "model_module_version": "1.5.0",
          "model_name": "FloatProgressModel",
          "state": {
            "_dom_classes": [],
            "_model_module": "@jupyter-widgets/controls",
            "_model_module_version": "1.5.0",
            "_model_name": "FloatProgressModel",
            "_view_count": null,
            "_view_module": "@jupyter-widgets/controls",
            "_view_module_version": "1.5.0",
            "_view_name": "ProgressView",
            "bar_style": "success",
            "description": "",
            "description_tooltip": null,
            "layout": "IPY_MODEL_52eb763e1a9a4233aba5191122d8ee22",
            "max": 1355256,
            "min": 0,
            "orientation": "horizontal",
            "style": "IPY_MODEL_53afb3ade7f64bfa9d68818fa025e47a",
            "value": 1355256
          }
        },
        "3b9430531ba24275a40a64ba134c2cf4": {
          "model_module": "@jupyter-widgets/base",
          "model_module_version": "1.2.0",
          "model_name": "LayoutModel",
          "state": {
            "_model_module": "@jupyter-widgets/base",
            "_model_module_version": "1.2.0",
            "_model_name": "LayoutModel",
            "_view_count": null,
            "_view_module": "@jupyter-widgets/base",
            "_view_module_version": "1.2.0",
            "_view_name": "LayoutView",
            "align_content": null,
            "align_items": null,
            "align_self": null,
            "border": null,
            "bottom": null,
            "display": null,
            "flex": null,
            "flex_flow": null,
            "grid_area": null,
            "grid_auto_columns": null,
            "grid_auto_flow": null,
            "grid_auto_rows": null,
            "grid_column": null,
            "grid_gap": null,
            "grid_row": null,
            "grid_template_areas": null,
            "grid_template_columns": null,
            "grid_template_rows": null,
            "height": null,
            "justify_content": null,
            "justify_items": null,
            "left": null,
            "margin": null,
            "max_height": null,
            "max_width": null,
            "min_height": null,
            "min_width": null,
            "object_fit": null,
            "object_position": null,
            "order": null,
            "overflow": null,
            "overflow_x": null,
            "overflow_y": null,
            "padding": null,
            "right": null,
            "top": null,
            "visibility": null,
            "width": null
          }
        },
        "3baf608f826b4193a00dd99721bdf162": {
          "model_module": "@jupyter-widgets/base",
          "model_module_version": "1.2.0",
          "model_name": "LayoutModel",
          "state": {
            "_model_module": "@jupyter-widgets/base",
            "_model_module_version": "1.2.0",
            "_model_name": "LayoutModel",
            "_view_count": null,
            "_view_module": "@jupyter-widgets/base",
            "_view_module_version": "1.2.0",
            "_view_name": "LayoutView",
            "align_content": null,
            "align_items": null,
            "align_self": null,
            "border": null,
            "bottom": null,
            "display": null,
            "flex": null,
            "flex_flow": null,
            "grid_area": null,
            "grid_auto_columns": null,
            "grid_auto_flow": null,
            "grid_auto_rows": null,
            "grid_column": null,
            "grid_gap": null,
            "grid_row": null,
            "grid_template_areas": null,
            "grid_template_columns": null,
            "grid_template_rows": null,
            "height": null,
            "justify_content": null,
            "justify_items": null,
            "left": null,
            "margin": null,
            "max_height": null,
            "max_width": null,
            "min_height": null,
            "min_width": null,
            "object_fit": null,
            "object_position": null,
            "order": null,
            "overflow": null,
            "overflow_x": null,
            "overflow_y": null,
            "padding": null,
            "right": null,
            "top": null,
            "visibility": null,
            "width": null
          }
        },
        "3e822e47e3a047c2a48ab1ed8ac9134a": {
          "model_module": "@jupyter-widgets/base",
          "model_module_version": "1.2.0",
          "model_name": "LayoutModel",
          "state": {
            "_model_module": "@jupyter-widgets/base",
            "_model_module_version": "1.2.0",
            "_model_name": "LayoutModel",
            "_view_count": null,
            "_view_module": "@jupyter-widgets/base",
            "_view_module_version": "1.2.0",
            "_view_name": "LayoutView",
            "align_content": null,
            "align_items": null,
            "align_self": null,
            "border": null,
            "bottom": null,
            "display": null,
            "flex": null,
            "flex_flow": null,
            "grid_area": null,
            "grid_auto_columns": null,
            "grid_auto_flow": null,
            "grid_auto_rows": null,
            "grid_column": null,
            "grid_gap": null,
            "grid_row": null,
            "grid_template_areas": null,
            "grid_template_columns": null,
            "grid_template_rows": null,
            "height": null,
            "justify_content": null,
            "justify_items": null,
            "left": null,
            "margin": null,
            "max_height": null,
            "max_width": null,
            "min_height": null,
            "min_width": null,
            "object_fit": null,
            "object_position": null,
            "order": null,
            "overflow": null,
            "overflow_x": null,
            "overflow_y": null,
            "padding": null,
            "right": null,
            "top": null,
            "visibility": null,
            "width": null
          }
        },
        "40511f224dbc487ab53944027b4aa9d6": {
          "model_module": "@jupyter-widgets/controls",
          "model_module_version": "1.5.0",
          "model_name": "DescriptionStyleModel",
          "state": {
            "_model_module": "@jupyter-widgets/controls",
            "_model_module_version": "1.5.0",
            "_model_name": "DescriptionStyleModel",
            "_view_count": null,
            "_view_module": "@jupyter-widgets/base",
            "_view_module_version": "1.2.0",
            "_view_name": "StyleView",
            "description_width": ""
          }
        },
        "405a7d79bcc043dc8335ae6d5f5686a0": {
          "model_module": "@jupyter-widgets/controls",
          "model_module_version": "1.5.0",
          "model_name": "HTMLModel",
          "state": {
            "_dom_classes": [],
            "_model_module": "@jupyter-widgets/controls",
            "_model_module_version": "1.5.0",
            "_model_name": "HTMLModel",
            "_view_count": null,
            "_view_module": "@jupyter-widgets/controls",
            "_view_module_version": "1.5.0",
            "_view_name": "HTMLView",
            "description": "",
            "description_tooltip": null,
            "layout": "IPY_MODEL_928442a4e674448d84e441050c9dd998",
            "placeholder": "​",
            "style": "IPY_MODEL_b9a8100c9999427a8d2f8c2838037798",
            "value": " 605M/605M [00:05&lt;00:00, 207MB/s]"
          }
        },
        "40afd08cde124898b425fb3e2216563c": {
          "model_module": "@jupyter-widgets/controls",
          "model_module_version": "1.5.0",
          "model_name": "HTMLModel",
          "state": {
            "_dom_classes": [],
            "_model_module": "@jupyter-widgets/controls",
            "_model_module_version": "1.5.0",
            "_model_name": "HTMLModel",
            "_view_count": null,
            "_view_module": "@jupyter-widgets/controls",
            "_view_module_version": "1.5.0",
            "_view_name": "HTMLView",
            "description": "",
            "description_tooltip": null,
            "layout": "IPY_MODEL_18aa09f120814ae58f1e308a84f11dac",
            "placeholder": "​",
            "style": "IPY_MODEL_6a45b4a3512f46b6a605b5d1659194c1",
            "value": "Downloading (…)/main/tokenizer.json: 100%"
          }
        },
        "425d58a922584999a4a0f1d9d4ff2c33": {
          "model_module": "@jupyter-widgets/controls",
          "model_module_version": "1.5.0",
          "model_name": "FloatProgressModel",
          "state": {
            "_dom_classes": [],
            "_model_module": "@jupyter-widgets/controls",
            "_model_module_version": "1.5.0",
            "_model_name": "FloatProgressModel",
            "_view_count": null,
            "_view_module": "@jupyter-widgets/controls",
            "_view_module_version": "1.5.0",
            "_view_name": "ProgressView",
            "bar_style": "success",
            "description": "",
            "description_tooltip": null,
            "layout": "IPY_MODEL_ff4fe594902b4e8f8bb9f319e7d7227e",
            "max": 4423,
            "min": 0,
            "orientation": "horizontal",
            "style": "IPY_MODEL_aacfff98136e4b93a28f923d74736450",
            "value": 4423
          }
        },
        "42914ae5429c42de84975a8f1ebe6112": {
          "model_module": "@jupyter-widgets/base",
          "model_module_version": "1.2.0",
          "model_name": "LayoutModel",
          "state": {
            "_model_module": "@jupyter-widgets/base",
            "_model_module_version": "1.2.0",
            "_model_name": "LayoutModel",
            "_view_count": null,
            "_view_module": "@jupyter-widgets/base",
            "_view_module_version": "1.2.0",
            "_view_name": "LayoutView",
            "align_content": null,
            "align_items": null,
            "align_self": null,
            "border": null,
            "bottom": null,
            "display": null,
            "flex": null,
            "flex_flow": null,
            "grid_area": null,
            "grid_auto_columns": null,
            "grid_auto_flow": null,
            "grid_auto_rows": null,
            "grid_column": null,
            "grid_gap": null,
            "grid_row": null,
            "grid_template_areas": null,
            "grid_template_columns": null,
            "grid_template_rows": null,
            "height": null,
            "justify_content": null,
            "justify_items": null,
            "left": null,
            "margin": null,
            "max_height": null,
            "max_width": null,
            "min_height": null,
            "min_width": null,
            "object_fit": null,
            "object_position": null,
            "order": null,
            "overflow": null,
            "overflow_x": null,
            "overflow_y": null,
            "padding": null,
            "right": null,
            "top": null,
            "visibility": null,
            "width": null
          }
        },
        "42e9805074544a14afc6f373a6e458bc": {
          "model_module": "@jupyter-widgets/controls",
          "model_module_version": "1.5.0",
          "model_name": "HTMLModel",
          "state": {
            "_dom_classes": [],
            "_model_module": "@jupyter-widgets/controls",
            "_model_module_version": "1.5.0",
            "_model_name": "HTMLModel",
            "_view_count": null,
            "_view_module": "@jupyter-widgets/controls",
            "_view_module_version": "1.5.0",
            "_view_name": "HTMLView",
            "description": "",
            "description_tooltip": null,
            "layout": "IPY_MODEL_4beac69fcc0a444d9ec7e8fda0fafaee",
            "placeholder": "​",
            "style": "IPY_MODEL_139fdda992f64736a7b39119bb08bc21",
            "value": " 665/665 [00:00&lt;00:00, 44.6kB/s]"
          }
        },
        "433e46d77a7847fcbf8ca5bcbe55eb8a": {
          "model_module": "@jupyter-widgets/controls",
          "model_module_version": "1.5.0",
          "model_name": "HTMLModel",
          "state": {
            "_dom_classes": [],
            "_model_module": "@jupyter-widgets/controls",
            "_model_module_version": "1.5.0",
            "_model_name": "HTMLModel",
            "_view_count": null,
            "_view_module": "@jupyter-widgets/controls",
            "_view_module_version": "1.5.0",
            "_view_name": "HTMLView",
            "description": "",
            "description_tooltip": null,
            "layout": "IPY_MODEL_e87d8d1dbdce4d85b5e91a6bc252e5fa",
            "placeholder": "​",
            "style": "IPY_MODEL_40511f224dbc487ab53944027b4aa9d6",
            "value": "Downloading pytorch_model.bin: 100%"
          }
        },
        "44061c8e1ea048f09b59147dba5f4e07": {
          "model_module": "@jupyter-widgets/base",
          "model_module_version": "1.2.0",
          "model_name": "LayoutModel",
          "state": {
            "_model_module": "@jupyter-widgets/base",
            "_model_module_version": "1.2.0",
            "_model_name": "LayoutModel",
            "_view_count": null,
            "_view_module": "@jupyter-widgets/base",
            "_view_module_version": "1.2.0",
            "_view_name": "LayoutView",
            "align_content": null,
            "align_items": null,
            "align_self": null,
            "border": null,
            "bottom": null,
            "display": null,
            "flex": null,
            "flex_flow": null,
            "grid_area": null,
            "grid_auto_columns": null,
            "grid_auto_flow": null,
            "grid_auto_rows": null,
            "grid_column": null,
            "grid_gap": null,
            "grid_row": null,
            "grid_template_areas": null,
            "grid_template_columns": null,
            "grid_template_rows": null,
            "height": null,
            "justify_content": null,
            "justify_items": null,
            "left": null,
            "margin": null,
            "max_height": null,
            "max_width": null,
            "min_height": null,
            "min_width": null,
            "object_fit": null,
            "object_position": null,
            "order": null,
            "overflow": null,
            "overflow_x": null,
            "overflow_y": null,
            "padding": null,
            "right": null,
            "top": null,
            "visibility": null,
            "width": null
          }
        },
        "462ccfeec42b4fc99402c7a7c9990d56": {
          "model_module": "@jupyter-widgets/controls",
          "model_module_version": "1.5.0",
          "model_name": "ProgressStyleModel",
          "state": {
            "_model_module": "@jupyter-widgets/controls",
            "_model_module_version": "1.5.0",
            "_model_name": "ProgressStyleModel",
            "_view_count": null,
            "_view_module": "@jupyter-widgets/base",
            "_view_module_version": "1.2.0",
            "_view_name": "StyleView",
            "bar_color": null,
            "description_width": ""
          }
        },
        "46ff1d1a947d4bf982f638f3c85213c3": {
          "model_module": "@jupyter-widgets/controls",
          "model_module_version": "1.5.0",
          "model_name": "ProgressStyleModel",
          "state": {
            "_model_module": "@jupyter-widgets/controls",
            "_model_module_version": "1.5.0",
            "_model_name": "ProgressStyleModel",
            "_view_count": null,
            "_view_module": "@jupyter-widgets/base",
            "_view_module_version": "1.2.0",
            "_view_name": "StyleView",
            "bar_color": null,
            "description_width": ""
          }
        },
        "4743ec07e7e246ef9024511194d93aec": {
          "model_module": "@jupyter-widgets/controls",
          "model_module_version": "1.5.0",
          "model_name": "DescriptionStyleModel",
          "state": {
            "_model_module": "@jupyter-widgets/controls",
            "_model_module_version": "1.5.0",
            "_model_name": "DescriptionStyleModel",
            "_view_count": null,
            "_view_module": "@jupyter-widgets/base",
            "_view_module_version": "1.2.0",
            "_view_name": "StyleView",
            "description_width": ""
          }
        },
        "47803fc5536a44b0b6562f630f6b6ec4": {
          "model_module": "@jupyter-widgets/base",
          "model_module_version": "1.2.0",
          "model_name": "LayoutModel",
          "state": {
            "_model_module": "@jupyter-widgets/base",
            "_model_module_version": "1.2.0",
            "_model_name": "LayoutModel",
            "_view_count": null,
            "_view_module": "@jupyter-widgets/base",
            "_view_module_version": "1.2.0",
            "_view_name": "LayoutView",
            "align_content": null,
            "align_items": null,
            "align_self": null,
            "border": null,
            "bottom": null,
            "display": null,
            "flex": null,
            "flex_flow": null,
            "grid_area": null,
            "grid_auto_columns": null,
            "grid_auto_flow": null,
            "grid_auto_rows": null,
            "grid_column": null,
            "grid_gap": null,
            "grid_row": null,
            "grid_template_areas": null,
            "grid_template_columns": null,
            "grid_template_rows": null,
            "height": null,
            "justify_content": null,
            "justify_items": null,
            "left": null,
            "margin": null,
            "max_height": null,
            "max_width": null,
            "min_height": null,
            "min_width": null,
            "object_fit": null,
            "object_position": null,
            "order": null,
            "overflow": null,
            "overflow_x": null,
            "overflow_y": null,
            "padding": null,
            "right": null,
            "top": null,
            "visibility": null,
            "width": null
          }
        },
        "47ec53d096404cd2b9adbe899ca74f1d": {
          "model_module": "@jupyter-widgets/base",
          "model_module_version": "1.2.0",
          "model_name": "LayoutModel",
          "state": {
            "_model_module": "@jupyter-widgets/base",
            "_model_module_version": "1.2.0",
            "_model_name": "LayoutModel",
            "_view_count": null,
            "_view_module": "@jupyter-widgets/base",
            "_view_module_version": "1.2.0",
            "_view_name": "LayoutView",
            "align_content": null,
            "align_items": null,
            "align_self": null,
            "border": null,
            "bottom": null,
            "display": null,
            "flex": null,
            "flex_flow": null,
            "grid_area": null,
            "grid_auto_columns": null,
            "grid_auto_flow": null,
            "grid_auto_rows": null,
            "grid_column": null,
            "grid_gap": null,
            "grid_row": null,
            "grid_template_areas": null,
            "grid_template_columns": null,
            "grid_template_rows": null,
            "height": null,
            "justify_content": null,
            "justify_items": null,
            "left": null,
            "margin": null,
            "max_height": null,
            "max_width": null,
            "min_height": null,
            "min_width": null,
            "object_fit": null,
            "object_position": null,
            "order": null,
            "overflow": null,
            "overflow_x": null,
            "overflow_y": null,
            "padding": null,
            "right": null,
            "top": null,
            "visibility": null,
            "width": null
          }
        },
        "4b6b69c600584cacad640b3fe8c64535": {
          "model_module": "@jupyter-widgets/base",
          "model_module_version": "1.2.0",
          "model_name": "LayoutModel",
          "state": {
            "_model_module": "@jupyter-widgets/base",
            "_model_module_version": "1.2.0",
            "_model_name": "LayoutModel",
            "_view_count": null,
            "_view_module": "@jupyter-widgets/base",
            "_view_module_version": "1.2.0",
            "_view_name": "LayoutView",
            "align_content": null,
            "align_items": null,
            "align_self": null,
            "border": null,
            "bottom": null,
            "display": null,
            "flex": null,
            "flex_flow": null,
            "grid_area": null,
            "grid_auto_columns": null,
            "grid_auto_flow": null,
            "grid_auto_rows": null,
            "grid_column": null,
            "grid_gap": null,
            "grid_row": null,
            "grid_template_areas": null,
            "grid_template_columns": null,
            "grid_template_rows": null,
            "height": null,
            "justify_content": null,
            "justify_items": null,
            "left": null,
            "margin": null,
            "max_height": null,
            "max_width": null,
            "min_height": null,
            "min_width": null,
            "object_fit": null,
            "object_position": null,
            "order": null,
            "overflow": null,
            "overflow_x": null,
            "overflow_y": null,
            "padding": null,
            "right": null,
            "top": null,
            "visibility": null,
            "width": null
          }
        },
        "4beac69fcc0a444d9ec7e8fda0fafaee": {
          "model_module": "@jupyter-widgets/base",
          "model_module_version": "1.2.0",
          "model_name": "LayoutModel",
          "state": {
            "_model_module": "@jupyter-widgets/base",
            "_model_module_version": "1.2.0",
            "_model_name": "LayoutModel",
            "_view_count": null,
            "_view_module": "@jupyter-widgets/base",
            "_view_module_version": "1.2.0",
            "_view_name": "LayoutView",
            "align_content": null,
            "align_items": null,
            "align_self": null,
            "border": null,
            "bottom": null,
            "display": null,
            "flex": null,
            "flex_flow": null,
            "grid_area": null,
            "grid_auto_columns": null,
            "grid_auto_flow": null,
            "grid_auto_rows": null,
            "grid_column": null,
            "grid_gap": null,
            "grid_row": null,
            "grid_template_areas": null,
            "grid_template_columns": null,
            "grid_template_rows": null,
            "height": null,
            "justify_content": null,
            "justify_items": null,
            "left": null,
            "margin": null,
            "max_height": null,
            "max_width": null,
            "min_height": null,
            "min_width": null,
            "object_fit": null,
            "object_position": null,
            "order": null,
            "overflow": null,
            "overflow_x": null,
            "overflow_y": null,
            "padding": null,
            "right": null,
            "top": null,
            "visibility": null,
            "width": null
          }
        },
        "4c2aec2e96ac42f68100d456626044e4": {
          "model_module": "@jupyter-widgets/controls",
          "model_module_version": "1.5.0",
          "model_name": "HBoxModel",
          "state": {
            "_dom_classes": [],
            "_model_module": "@jupyter-widgets/controls",
            "_model_module_version": "1.5.0",
            "_model_name": "HBoxModel",
            "_view_count": null,
            "_view_module": "@jupyter-widgets/controls",
            "_view_module_version": "1.5.0",
            "_view_name": "HBoxView",
            "box_style": "",
            "children": [
              "IPY_MODEL_fb849286895b465891a022d705996da1",
              "IPY_MODEL_d154d4ea71be48f6a09a9c4fb6db3126",
              "IPY_MODEL_0c5ef6a0d6274c518989231d9e53301a"
            ],
            "layout": "IPY_MODEL_66b6f696ddfd435da4816786ab5b3b29"
          }
        },
        "523b17ce156e408a9401cfe559ef2a65": {
          "model_module": "@jupyter-widgets/controls",
          "model_module_version": "1.5.0",
          "model_name": "ProgressStyleModel",
          "state": {
            "_model_module": "@jupyter-widgets/controls",
            "_model_module_version": "1.5.0",
            "_model_name": "ProgressStyleModel",
            "_view_count": null,
            "_view_module": "@jupyter-widgets/base",
            "_view_module_version": "1.2.0",
            "_view_name": "StyleView",
            "bar_color": null,
            "description_width": ""
          }
        },
        "52eb763e1a9a4233aba5191122d8ee22": {
          "model_module": "@jupyter-widgets/base",
          "model_module_version": "1.2.0",
          "model_name": "LayoutModel",
          "state": {
            "_model_module": "@jupyter-widgets/base",
            "_model_module_version": "1.2.0",
            "_model_name": "LayoutModel",
            "_view_count": null,
            "_view_module": "@jupyter-widgets/base",
            "_view_module_version": "1.2.0",
            "_view_name": "LayoutView",
            "align_content": null,
            "align_items": null,
            "align_self": null,
            "border": null,
            "bottom": null,
            "display": null,
            "flex": null,
            "flex_flow": null,
            "grid_area": null,
            "grid_auto_columns": null,
            "grid_auto_flow": null,
            "grid_auto_rows": null,
            "grid_column": null,
            "grid_gap": null,
            "grid_row": null,
            "grid_template_areas": null,
            "grid_template_columns": null,
            "grid_template_rows": null,
            "height": null,
            "justify_content": null,
            "justify_items": null,
            "left": null,
            "margin": null,
            "max_height": null,
            "max_width": null,
            "min_height": null,
            "min_width": null,
            "object_fit": null,
            "object_position": null,
            "order": null,
            "overflow": null,
            "overflow_x": null,
            "overflow_y": null,
            "padding": null,
            "right": null,
            "top": null,
            "visibility": null,
            "width": null
          }
        },
        "53afb3ade7f64bfa9d68818fa025e47a": {
          "model_module": "@jupyter-widgets/controls",
          "model_module_version": "1.5.0",
          "model_name": "ProgressStyleModel",
          "state": {
            "_model_module": "@jupyter-widgets/controls",
            "_model_module_version": "1.5.0",
            "_model_name": "ProgressStyleModel",
            "_view_count": null,
            "_view_module": "@jupyter-widgets/base",
            "_view_module_version": "1.2.0",
            "_view_name": "StyleView",
            "bar_color": null,
            "description_width": ""
          }
        },
        "53cd55f37bc64449a2ae0b50bcf647d3": {
          "model_module": "@jupyter-widgets/controls",
          "model_module_version": "1.5.0",
          "model_name": "DescriptionStyleModel",
          "state": {
            "_model_module": "@jupyter-widgets/controls",
            "_model_module_version": "1.5.0",
            "_model_name": "DescriptionStyleModel",
            "_view_count": null,
            "_view_module": "@jupyter-widgets/base",
            "_view_module_version": "1.2.0",
            "_view_name": "StyleView",
            "description_width": ""
          }
        },
        "574fef77f01248c0a2a0bca678942d71": {
          "model_module": "@jupyter-widgets/controls",
          "model_module_version": "1.5.0",
          "model_name": "FloatProgressModel",
          "state": {
            "_dom_classes": [],
            "_model_module": "@jupyter-widgets/controls",
            "_model_module_version": "1.5.0",
            "_model_name": "FloatProgressModel",
            "_view_count": null,
            "_view_module": "@jupyter-widgets/controls",
            "_view_module_version": "1.5.0",
            "_view_name": "ProgressView",
            "bar_style": "success",
            "description": "",
            "description_tooltip": null,
            "layout": "IPY_MODEL_47803fc5536a44b0b6562f630f6b6ec4",
            "max": 456318,
            "min": 0,
            "orientation": "horizontal",
            "style": "IPY_MODEL_462ccfeec42b4fc99402c7a7c9990d56",
            "value": 456318
          }
        },
        "580f129c4672441a92716c10e63d5591": {
          "model_module": "@jupyter-widgets/base",
          "model_module_version": "1.2.0",
          "model_name": "LayoutModel",
          "state": {
            "_model_module": "@jupyter-widgets/base",
            "_model_module_version": "1.2.0",
            "_model_name": "LayoutModel",
            "_view_count": null,
            "_view_module": "@jupyter-widgets/base",
            "_view_module_version": "1.2.0",
            "_view_name": "LayoutView",
            "align_content": null,
            "align_items": null,
            "align_self": null,
            "border": null,
            "bottom": null,
            "display": null,
            "flex": null,
            "flex_flow": null,
            "grid_area": null,
            "grid_auto_columns": null,
            "grid_auto_flow": null,
            "grid_auto_rows": null,
            "grid_column": null,
            "grid_gap": null,
            "grid_row": null,
            "grid_template_areas": null,
            "grid_template_columns": null,
            "grid_template_rows": null,
            "height": null,
            "justify_content": null,
            "justify_items": null,
            "left": null,
            "margin": null,
            "max_height": null,
            "max_width": null,
            "min_height": null,
            "min_width": null,
            "object_fit": null,
            "object_position": null,
            "order": null,
            "overflow": null,
            "overflow_x": null,
            "overflow_y": null,
            "padding": null,
            "right": null,
            "top": null,
            "visibility": null,
            "width": null
          }
        },
        "585513e310ce4e4e952d96993de2c3c0": {
          "model_module": "@jupyter-widgets/controls",
          "model_module_version": "1.5.0",
          "model_name": "FloatProgressModel",
          "state": {
            "_dom_classes": [],
            "_model_module": "@jupyter-widgets/controls",
            "_model_module_version": "1.5.0",
            "_model_name": "FloatProgressModel",
            "_view_count": null,
            "_view_module": "@jupyter-widgets/controls",
            "_view_module_version": "1.5.0",
            "_view_name": "ProgressView",
            "bar_style": "success",
            "description": "",
            "description_tooltip": null,
            "layout": "IPY_MODEL_3baf608f826b4193a00dd99721bdf162",
            "max": 1010,
            "min": 0,
            "orientation": "horizontal",
            "style": "IPY_MODEL_5e530b46d36a4f80905158942e65b44f",
            "value": 1010
          }
        },
        "59d790f893a748b297e36fa90601b231": {
          "model_module": "@jupyter-widgets/controls",
          "model_module_version": "1.5.0",
          "model_name": "ProgressStyleModel",
          "state": {
            "_model_module": "@jupyter-widgets/controls",
            "_model_module_version": "1.5.0",
            "_model_name": "ProgressStyleModel",
            "_view_count": null,
            "_view_module": "@jupyter-widgets/base",
            "_view_module_version": "1.2.0",
            "_view_name": "StyleView",
            "bar_color": null,
            "description_width": ""
          }
        },
        "5de9cd33157346ac9b1d5618ef48de32": {
          "model_module": "@jupyter-widgets/controls",
          "model_module_version": "1.5.0",
          "model_name": "HTMLModel",
          "state": {
            "_dom_classes": [],
            "_model_module": "@jupyter-widgets/controls",
            "_model_module_version": "1.5.0",
            "_model_name": "HTMLModel",
            "_view_count": null,
            "_view_module": "@jupyter-widgets/controls",
            "_view_module_version": "1.5.0",
            "_view_name": "HTMLView",
            "description": "",
            "description_tooltip": null,
            "layout": "IPY_MODEL_7ff21534cc324283b8a5d19569c883a0",
            "placeholder": "​",
            "style": "IPY_MODEL_c916545d17654b96ac8d72f166cf879f",
            "value": " 456k/456k [00:00&lt;00:00, 1.83MB/s]"
          }
        },
        "5e530b46d36a4f80905158942e65b44f": {
          "model_module": "@jupyter-widgets/controls",
          "model_module_version": "1.5.0",
          "model_name": "ProgressStyleModel",
          "state": {
            "_model_module": "@jupyter-widgets/controls",
            "_model_module_version": "1.5.0",
            "_model_name": "ProgressStyleModel",
            "_view_count": null,
            "_view_module": "@jupyter-widgets/base",
            "_view_module_version": "1.2.0",
            "_view_name": "StyleView",
            "bar_color": null,
            "description_width": ""
          }
        },
        "5f6862a2e3eb4cc8939a6a04dcb289f4": {
          "model_module": "@jupyter-widgets/controls",
          "model_module_version": "1.5.0",
          "model_name": "FloatProgressModel",
          "state": {
            "_dom_classes": [],
            "_model_module": "@jupyter-widgets/controls",
            "_model_module_version": "1.5.0",
            "_model_name": "FloatProgressModel",
            "_view_count": null,
            "_view_module": "@jupyter-widgets/controls",
            "_view_module_version": "1.5.0",
            "_view_name": "ProgressView",
            "bar_style": "success",
            "description": "",
            "description_tooltip": null,
            "layout": "IPY_MODEL_d28538d7242c4003a2e30b71c36fd6c3",
            "max": 524657,
            "min": 0,
            "orientation": "horizontal",
            "style": "IPY_MODEL_59d790f893a748b297e36fa90601b231",
            "value": 524657
          }
        },
        "6340aa3186f344c9bfc77557ae08fd23": {
          "model_module": "@jupyter-widgets/controls",
          "model_module_version": "1.5.0",
          "model_name": "HTMLModel",
          "state": {
            "_dom_classes": [],
            "_model_module": "@jupyter-widgets/controls",
            "_model_module_version": "1.5.0",
            "_model_name": "HTMLModel",
            "_view_count": null,
            "_view_module": "@jupyter-widgets/controls",
            "_view_module_version": "1.5.0",
            "_view_name": "HTMLView",
            "description": "",
            "description_tooltip": null,
            "layout": "IPY_MODEL_660a2d9a526f4ed687e39710b30390d9",
            "placeholder": "​",
            "style": "IPY_MODEL_b0bcd9024230492f9105aea0eba8ad5c",
            "value": "Downloading (…)olve/main/merges.txt: 100%"
          }
        },
        "63fc4c8694ff4d47a67b9989e2c4f8da": {
          "model_module": "@jupyter-widgets/base",
          "model_module_version": "1.2.0",
          "model_name": "LayoutModel",
          "state": {
            "_model_module": "@jupyter-widgets/base",
            "_model_module_version": "1.2.0",
            "_model_name": "LayoutModel",
            "_view_count": null,
            "_view_module": "@jupyter-widgets/base",
            "_view_module_version": "1.2.0",
            "_view_name": "LayoutView",
            "align_content": null,
            "align_items": null,
            "align_self": null,
            "border": null,
            "bottom": null,
            "display": null,
            "flex": null,
            "flex_flow": null,
            "grid_area": null,
            "grid_auto_columns": null,
            "grid_auto_flow": null,
            "grid_auto_rows": null,
            "grid_column": null,
            "grid_gap": null,
            "grid_row": null,
            "grid_template_areas": null,
            "grid_template_columns": null,
            "grid_template_rows": null,
            "height": null,
            "justify_content": null,
            "justify_items": null,
            "left": null,
            "margin": null,
            "max_height": null,
            "max_width": null,
            "min_height": null,
            "min_width": null,
            "object_fit": null,
            "object_position": null,
            "order": null,
            "overflow": null,
            "overflow_x": null,
            "overflow_y": null,
            "padding": null,
            "right": null,
            "top": null,
            "visibility": null,
            "width": null
          }
        },
        "642b29dd72aa4642a48d080b6f9d01a0": {
          "model_module": "@jupyter-widgets/controls",
          "model_module_version": "1.5.0",
          "model_name": "DescriptionStyleModel",
          "state": {
            "_model_module": "@jupyter-widgets/controls",
            "_model_module_version": "1.5.0",
            "_model_name": "DescriptionStyleModel",
            "_view_count": null,
            "_view_module": "@jupyter-widgets/base",
            "_view_module_version": "1.2.0",
            "_view_name": "StyleView",
            "description_width": ""
          }
        },
        "65fea6979a3a457a8b98afee62aab04d": {
          "model_module": "@jupyter-widgets/controls",
          "model_module_version": "1.5.0",
          "model_name": "DescriptionStyleModel",
          "state": {
            "_model_module": "@jupyter-widgets/controls",
            "_model_module_version": "1.5.0",
            "_model_name": "DescriptionStyleModel",
            "_view_count": null,
            "_view_module": "@jupyter-widgets/base",
            "_view_module_version": "1.2.0",
            "_view_name": "StyleView",
            "description_width": ""
          }
        },
        "660a2d9a526f4ed687e39710b30390d9": {
          "model_module": "@jupyter-widgets/base",
          "model_module_version": "1.2.0",
          "model_name": "LayoutModel",
          "state": {
            "_model_module": "@jupyter-widgets/base",
            "_model_module_version": "1.2.0",
            "_model_name": "LayoutModel",
            "_view_count": null,
            "_view_module": "@jupyter-widgets/base",
            "_view_module_version": "1.2.0",
            "_view_name": "LayoutView",
            "align_content": null,
            "align_items": null,
            "align_self": null,
            "border": null,
            "bottom": null,
            "display": null,
            "flex": null,
            "flex_flow": null,
            "grid_area": null,
            "grid_auto_columns": null,
            "grid_auto_flow": null,
            "grid_auto_rows": null,
            "grid_column": null,
            "grid_gap": null,
            "grid_row": null,
            "grid_template_areas": null,
            "grid_template_columns": null,
            "grid_template_rows": null,
            "height": null,
            "justify_content": null,
            "justify_items": null,
            "left": null,
            "margin": null,
            "max_height": null,
            "max_width": null,
            "min_height": null,
            "min_width": null,
            "object_fit": null,
            "object_position": null,
            "order": null,
            "overflow": null,
            "overflow_x": null,
            "overflow_y": null,
            "padding": null,
            "right": null,
            "top": null,
            "visibility": null,
            "width": null
          }
        },
        "66b6f696ddfd435da4816786ab5b3b29": {
          "model_module": "@jupyter-widgets/base",
          "model_module_version": "1.2.0",
          "model_name": "LayoutModel",
          "state": {
            "_model_module": "@jupyter-widgets/base",
            "_model_module_version": "1.2.0",
            "_model_name": "LayoutModel",
            "_view_count": null,
            "_view_module": "@jupyter-widgets/base",
            "_view_module_version": "1.2.0",
            "_view_name": "LayoutView",
            "align_content": null,
            "align_items": null,
            "align_self": null,
            "border": null,
            "bottom": null,
            "display": null,
            "flex": null,
            "flex_flow": null,
            "grid_area": null,
            "grid_auto_columns": null,
            "grid_auto_flow": null,
            "grid_auto_rows": null,
            "grid_column": null,
            "grid_gap": null,
            "grid_row": null,
            "grid_template_areas": null,
            "grid_template_columns": null,
            "grid_template_rows": null,
            "height": null,
            "justify_content": null,
            "justify_items": null,
            "left": null,
            "margin": null,
            "max_height": null,
            "max_width": null,
            "min_height": null,
            "min_width": null,
            "object_fit": null,
            "object_position": null,
            "order": null,
            "overflow": null,
            "overflow_x": null,
            "overflow_y": null,
            "padding": null,
            "right": null,
            "top": null,
            "visibility": null,
            "width": null
          }
        },
        "67dd36dcc41f46309969aa6008769bce": {
          "model_module": "@jupyter-widgets/base",
          "model_module_version": "1.2.0",
          "model_name": "LayoutModel",
          "state": {
            "_model_module": "@jupyter-widgets/base",
            "_model_module_version": "1.2.0",
            "_model_name": "LayoutModel",
            "_view_count": null,
            "_view_module": "@jupyter-widgets/base",
            "_view_module_version": "1.2.0",
            "_view_name": "LayoutView",
            "align_content": null,
            "align_items": null,
            "align_self": null,
            "border": null,
            "bottom": null,
            "display": null,
            "flex": null,
            "flex_flow": null,
            "grid_area": null,
            "grid_auto_columns": null,
            "grid_auto_flow": null,
            "grid_auto_rows": null,
            "grid_column": null,
            "grid_gap": null,
            "grid_row": null,
            "grid_template_areas": null,
            "grid_template_columns": null,
            "grid_template_rows": null,
            "height": null,
            "justify_content": null,
            "justify_items": null,
            "left": null,
            "margin": null,
            "max_height": null,
            "max_width": null,
            "min_height": null,
            "min_width": null,
            "object_fit": null,
            "object_position": null,
            "order": null,
            "overflow": null,
            "overflow_x": null,
            "overflow_y": null,
            "padding": null,
            "right": null,
            "top": null,
            "visibility": null,
            "width": null
          }
        },
        "69e6c6394f6e41648e5dbc30133fd27f": {
          "model_module": "@jupyter-widgets/base",
          "model_module_version": "1.2.0",
          "model_name": "LayoutModel",
          "state": {
            "_model_module": "@jupyter-widgets/base",
            "_model_module_version": "1.2.0",
            "_model_name": "LayoutModel",
            "_view_count": null,
            "_view_module": "@jupyter-widgets/base",
            "_view_module_version": "1.2.0",
            "_view_name": "LayoutView",
            "align_content": null,
            "align_items": null,
            "align_self": null,
            "border": null,
            "bottom": null,
            "display": null,
            "flex": null,
            "flex_flow": null,
            "grid_area": null,
            "grid_auto_columns": null,
            "grid_auto_flow": null,
            "grid_auto_rows": null,
            "grid_column": null,
            "grid_gap": null,
            "grid_row": null,
            "grid_template_areas": null,
            "grid_template_columns": null,
            "grid_template_rows": null,
            "height": null,
            "justify_content": null,
            "justify_items": null,
            "left": null,
            "margin": null,
            "max_height": null,
            "max_width": null,
            "min_height": null,
            "min_width": null,
            "object_fit": null,
            "object_position": null,
            "order": null,
            "overflow": null,
            "overflow_x": null,
            "overflow_y": null,
            "padding": null,
            "right": null,
            "top": null,
            "visibility": null,
            "width": null
          }
        },
        "6a45b4a3512f46b6a605b5d1659194c1": {
          "model_module": "@jupyter-widgets/controls",
          "model_module_version": "1.5.0",
          "model_name": "DescriptionStyleModel",
          "state": {
            "_model_module": "@jupyter-widgets/controls",
            "_model_module_version": "1.5.0",
            "_model_name": "DescriptionStyleModel",
            "_view_count": null,
            "_view_module": "@jupyter-widgets/base",
            "_view_module_version": "1.2.0",
            "_view_name": "StyleView",
            "description_width": ""
          }
        },
        "6ce187faaf514192b231610f13a45a40": {
          "model_module": "@jupyter-widgets/controls",
          "model_module_version": "1.5.0",
          "model_name": "HBoxModel",
          "state": {
            "_dom_classes": [],
            "_model_module": "@jupyter-widgets/controls",
            "_model_module_version": "1.5.0",
            "_model_name": "HBoxModel",
            "_view_count": null,
            "_view_module": "@jupyter-widgets/controls",
            "_view_module_version": "1.5.0",
            "_view_name": "HBoxView",
            "box_style": "",
            "children": [
              "IPY_MODEL_8b7e1a70f085486f898735195ff11fed",
              "IPY_MODEL_84b39d67ff57400990b8cfd22ce7c42c",
              "IPY_MODEL_93b0b16687aa4a208eb6d0797cca72f6"
            ],
            "layout": "IPY_MODEL_7503d0a5ea484de6b4be71bfec7023ee"
          }
        },
        "6e51cb00790e4f1195885e11fe8e87dc": {
          "model_module": "@jupyter-widgets/base",
          "model_module_version": "1.2.0",
          "model_name": "LayoutModel",
          "state": {
            "_model_module": "@jupyter-widgets/base",
            "_model_module_version": "1.2.0",
            "_model_name": "LayoutModel",
            "_view_count": null,
            "_view_module": "@jupyter-widgets/base",
            "_view_module_version": "1.2.0",
            "_view_name": "LayoutView",
            "align_content": null,
            "align_items": null,
            "align_self": null,
            "border": null,
            "bottom": null,
            "display": null,
            "flex": null,
            "flex_flow": null,
            "grid_area": null,
            "grid_auto_columns": null,
            "grid_auto_flow": null,
            "grid_auto_rows": null,
            "grid_column": null,
            "grid_gap": null,
            "grid_row": null,
            "grid_template_areas": null,
            "grid_template_columns": null,
            "grid_template_rows": null,
            "height": null,
            "justify_content": null,
            "justify_items": null,
            "left": null,
            "margin": null,
            "max_height": null,
            "max_width": null,
            "min_height": null,
            "min_width": null,
            "object_fit": null,
            "object_position": null,
            "order": null,
            "overflow": null,
            "overflow_x": null,
            "overflow_y": null,
            "padding": null,
            "right": null,
            "top": null,
            "visibility": null,
            "width": null
          }
        },
        "6fd95a58059f468789768999d902f54d": {
          "model_module": "@jupyter-widgets/controls",
          "model_module_version": "1.5.0",
          "model_name": "HTMLModel",
          "state": {
            "_dom_classes": [],
            "_model_module": "@jupyter-widgets/controls",
            "_model_module_version": "1.5.0",
            "_model_name": "HTMLModel",
            "_view_count": null,
            "_view_module": "@jupyter-widgets/controls",
            "_view_module_version": "1.5.0",
            "_view_name": "HTMLView",
            "description": "",
            "description_tooltip": null,
            "layout": "IPY_MODEL_b92404ea84a441deb501fa402ad8edb5",
            "placeholder": "​",
            "style": "IPY_MODEL_7c7a38beb18c415c926d7e3cb857bf51",
            "value": "Downloading (…)lve/main/config.json: 100%"
          }
        },
        "72c8594b44dc4e46be95743f4317c5e9": {
          "model_module": "@jupyter-widgets/controls",
          "model_module_version": "1.5.0",
          "model_name": "DescriptionStyleModel",
          "state": {
            "_model_module": "@jupyter-widgets/controls",
            "_model_module_version": "1.5.0",
            "_model_name": "DescriptionStyleModel",
            "_view_count": null,
            "_view_module": "@jupyter-widgets/base",
            "_view_module_version": "1.2.0",
            "_view_name": "StyleView",
            "description_width": ""
          }
        },
        "73a82a058ec64f7ea81e60f950137786": {
          "model_module": "@jupyter-widgets/base",
          "model_module_version": "1.2.0",
          "model_name": "LayoutModel",
          "state": {
            "_model_module": "@jupyter-widgets/base",
            "_model_module_version": "1.2.0",
            "_model_name": "LayoutModel",
            "_view_count": null,
            "_view_module": "@jupyter-widgets/base",
            "_view_module_version": "1.2.0",
            "_view_name": "LayoutView",
            "align_content": null,
            "align_items": null,
            "align_self": null,
            "border": null,
            "bottom": null,
            "display": null,
            "flex": null,
            "flex_flow": null,
            "grid_area": null,
            "grid_auto_columns": null,
            "grid_auto_flow": null,
            "grid_auto_rows": null,
            "grid_column": null,
            "grid_gap": null,
            "grid_row": null,
            "grid_template_areas": null,
            "grid_template_columns": null,
            "grid_template_rows": null,
            "height": null,
            "justify_content": null,
            "justify_items": null,
            "left": null,
            "margin": null,
            "max_height": null,
            "max_width": null,
            "min_height": null,
            "min_width": null,
            "object_fit": null,
            "object_position": null,
            "order": null,
            "overflow": null,
            "overflow_x": null,
            "overflow_y": null,
            "padding": null,
            "right": null,
            "top": null,
            "visibility": null,
            "width": null
          }
        },
        "74214bc03d4a43b0a531a858a5c75010": {
          "model_module": "@jupyter-widgets/base",
          "model_module_version": "1.2.0",
          "model_name": "LayoutModel",
          "state": {
            "_model_module": "@jupyter-widgets/base",
            "_model_module_version": "1.2.0",
            "_model_name": "LayoutModel",
            "_view_count": null,
            "_view_module": "@jupyter-widgets/base",
            "_view_module_version": "1.2.0",
            "_view_name": "LayoutView",
            "align_content": null,
            "align_items": null,
            "align_self": null,
            "border": null,
            "bottom": null,
            "display": null,
            "flex": null,
            "flex_flow": null,
            "grid_area": null,
            "grid_auto_columns": null,
            "grid_auto_flow": null,
            "grid_auto_rows": null,
            "grid_column": null,
            "grid_gap": null,
            "grid_row": null,
            "grid_template_areas": null,
            "grid_template_columns": null,
            "grid_template_rows": null,
            "height": null,
            "justify_content": null,
            "justify_items": null,
            "left": null,
            "margin": null,
            "max_height": null,
            "max_width": null,
            "min_height": null,
            "min_width": null,
            "object_fit": null,
            "object_position": null,
            "order": null,
            "overflow": null,
            "overflow_x": null,
            "overflow_y": null,
            "padding": null,
            "right": null,
            "top": null,
            "visibility": null,
            "width": null
          }
        },
        "7503d0a5ea484de6b4be71bfec7023ee": {
          "model_module": "@jupyter-widgets/base",
          "model_module_version": "1.2.0",
          "model_name": "LayoutModel",
          "state": {
            "_model_module": "@jupyter-widgets/base",
            "_model_module_version": "1.2.0",
            "_model_name": "LayoutModel",
            "_view_count": null,
            "_view_module": "@jupyter-widgets/base",
            "_view_module_version": "1.2.0",
            "_view_name": "LayoutView",
            "align_content": null,
            "align_items": null,
            "align_self": null,
            "border": null,
            "bottom": null,
            "display": null,
            "flex": null,
            "flex_flow": null,
            "grid_area": null,
            "grid_auto_columns": null,
            "grid_auto_flow": null,
            "grid_auto_rows": null,
            "grid_column": null,
            "grid_gap": null,
            "grid_row": null,
            "grid_template_areas": null,
            "grid_template_columns": null,
            "grid_template_rows": null,
            "height": null,
            "justify_content": null,
            "justify_items": null,
            "left": null,
            "margin": null,
            "max_height": null,
            "max_width": null,
            "min_height": null,
            "min_width": null,
            "object_fit": null,
            "object_position": null,
            "order": null,
            "overflow": null,
            "overflow_x": null,
            "overflow_y": null,
            "padding": null,
            "right": null,
            "top": null,
            "visibility": null,
            "width": null
          }
        },
        "78a009d3e465440381bfbdedeb397ae2": {
          "model_module": "@jupyter-widgets/controls",
          "model_module_version": "1.5.0",
          "model_name": "HBoxModel",
          "state": {
            "_dom_classes": [],
            "_model_module": "@jupyter-widgets/controls",
            "_model_module_version": "1.5.0",
            "_model_name": "HBoxModel",
            "_view_count": null,
            "_view_module": "@jupyter-widgets/controls",
            "_view_module_version": "1.5.0",
            "_view_name": "HBoxView",
            "box_style": "",
            "children": [
              "IPY_MODEL_803d4ee46d1442b2ad1e5d89e749796a",
              "IPY_MODEL_038ea5627ffd40a580e25673524f9592",
              "IPY_MODEL_405a7d79bcc043dc8335ae6d5f5686a0"
            ],
            "layout": "IPY_MODEL_c20168443c2048ed9e2eedb3937b5048"
          }
        },
        "7c7a38beb18c415c926d7e3cb857bf51": {
          "model_module": "@jupyter-widgets/controls",
          "model_module_version": "1.5.0",
          "model_name": "DescriptionStyleModel",
          "state": {
            "_model_module": "@jupyter-widgets/controls",
            "_model_module_version": "1.5.0",
            "_model_name": "DescriptionStyleModel",
            "_view_count": null,
            "_view_module": "@jupyter-widgets/base",
            "_view_module_version": "1.2.0",
            "_view_name": "StyleView",
            "description_width": ""
          }
        },
        "7dfaf8a940c7441f96078752b65dfe2b": {
          "model_module": "@jupyter-widgets/base",
          "model_module_version": "1.2.0",
          "model_name": "LayoutModel",
          "state": {
            "_model_module": "@jupyter-widgets/base",
            "_model_module_version": "1.2.0",
            "_model_name": "LayoutModel",
            "_view_count": null,
            "_view_module": "@jupyter-widgets/base",
            "_view_module_version": "1.2.0",
            "_view_name": "LayoutView",
            "align_content": null,
            "align_items": null,
            "align_self": null,
            "border": null,
            "bottom": null,
            "display": null,
            "flex": null,
            "flex_flow": null,
            "grid_area": null,
            "grid_auto_columns": null,
            "grid_auto_flow": null,
            "grid_auto_rows": null,
            "grid_column": null,
            "grid_gap": null,
            "grid_row": null,
            "grid_template_areas": null,
            "grid_template_columns": null,
            "grid_template_rows": null,
            "height": null,
            "justify_content": null,
            "justify_items": null,
            "left": null,
            "margin": null,
            "max_height": null,
            "max_width": null,
            "min_height": null,
            "min_width": null,
            "object_fit": null,
            "object_position": null,
            "order": null,
            "overflow": null,
            "overflow_x": null,
            "overflow_y": null,
            "padding": null,
            "right": null,
            "top": null,
            "visibility": null,
            "width": null
          }
        },
        "7ff21534cc324283b8a5d19569c883a0": {
          "model_module": "@jupyter-widgets/base",
          "model_module_version": "1.2.0",
          "model_name": "LayoutModel",
          "state": {
            "_model_module": "@jupyter-widgets/base",
            "_model_module_version": "1.2.0",
            "_model_name": "LayoutModel",
            "_view_count": null,
            "_view_module": "@jupyter-widgets/base",
            "_view_module_version": "1.2.0",
            "_view_name": "LayoutView",
            "align_content": null,
            "align_items": null,
            "align_self": null,
            "border": null,
            "bottom": null,
            "display": null,
            "flex": null,
            "flex_flow": null,
            "grid_area": null,
            "grid_auto_columns": null,
            "grid_auto_flow": null,
            "grid_auto_rows": null,
            "grid_column": null,
            "grid_gap": null,
            "grid_row": null,
            "grid_template_areas": null,
            "grid_template_columns": null,
            "grid_template_rows": null,
            "height": null,
            "justify_content": null,
            "justify_items": null,
            "left": null,
            "margin": null,
            "max_height": null,
            "max_width": null,
            "min_height": null,
            "min_width": null,
            "object_fit": null,
            "object_position": null,
            "order": null,
            "overflow": null,
            "overflow_x": null,
            "overflow_y": null,
            "padding": null,
            "right": null,
            "top": null,
            "visibility": null,
            "width": null
          }
        },
        "803d4ee46d1442b2ad1e5d89e749796a": {
          "model_module": "@jupyter-widgets/controls",
          "model_module_version": "1.5.0",
          "model_name": "HTMLModel",
          "state": {
            "_dom_classes": [],
            "_model_module": "@jupyter-widgets/controls",
            "_model_module_version": "1.5.0",
            "_model_name": "HTMLModel",
            "_view_count": null,
            "_view_module": "@jupyter-widgets/controls",
            "_view_module_version": "1.5.0",
            "_view_name": "HTMLView",
            "description": "",
            "description_tooltip": null,
            "layout": "IPY_MODEL_e67050790ddf48519793de7612a4ea3a",
            "placeholder": "​",
            "style": "IPY_MODEL_20ce169d391a45ce9a447978f6f57388",
            "value": "Downloading pytorch_model.bin: 100%"
          }
        },
        "8235a1cacd184dd5a3bc9bb11ec432f9": {
          "model_module": "@jupyter-widgets/base",
          "model_module_version": "1.2.0",
          "model_name": "LayoutModel",
          "state": {
            "_model_module": "@jupyter-widgets/base",
            "_model_module_version": "1.2.0",
            "_model_name": "LayoutModel",
            "_view_count": null,
            "_view_module": "@jupyter-widgets/base",
            "_view_module_version": "1.2.0",
            "_view_name": "LayoutView",
            "align_content": null,
            "align_items": null,
            "align_self": null,
            "border": null,
            "bottom": null,
            "display": null,
            "flex": null,
            "flex_flow": null,
            "grid_area": null,
            "grid_auto_columns": null,
            "grid_auto_flow": null,
            "grid_auto_rows": null,
            "grid_column": null,
            "grid_gap": null,
            "grid_row": null,
            "grid_template_areas": null,
            "grid_template_columns": null,
            "grid_template_rows": null,
            "height": null,
            "justify_content": null,
            "justify_items": null,
            "left": null,
            "margin": null,
            "max_height": null,
            "max_width": null,
            "min_height": null,
            "min_width": null,
            "object_fit": null,
            "object_position": null,
            "order": null,
            "overflow": null,
            "overflow_x": null,
            "overflow_y": null,
            "padding": null,
            "right": null,
            "top": null,
            "visibility": null,
            "width": null
          }
        },
        "83fafadfc41c481bb6929e10b56a1d6b": {
          "model_module": "@jupyter-widgets/base",
          "model_module_version": "1.2.0",
          "model_name": "LayoutModel",
          "state": {
            "_model_module": "@jupyter-widgets/base",
            "_model_module_version": "1.2.0",
            "_model_name": "LayoutModel",
            "_view_count": null,
            "_view_module": "@jupyter-widgets/base",
            "_view_module_version": "1.2.0",
            "_view_name": "LayoutView",
            "align_content": null,
            "align_items": null,
            "align_self": null,
            "border": null,
            "bottom": null,
            "display": null,
            "flex": null,
            "flex_flow": null,
            "grid_area": null,
            "grid_auto_columns": null,
            "grid_auto_flow": null,
            "grid_auto_rows": null,
            "grid_column": null,
            "grid_gap": null,
            "grid_row": null,
            "grid_template_areas": null,
            "grid_template_columns": null,
            "grid_template_rows": null,
            "height": null,
            "justify_content": null,
            "justify_items": null,
            "left": null,
            "margin": null,
            "max_height": null,
            "max_width": null,
            "min_height": null,
            "min_width": null,
            "object_fit": null,
            "object_position": null,
            "order": null,
            "overflow": null,
            "overflow_x": null,
            "overflow_y": null,
            "padding": null,
            "right": null,
            "top": null,
            "visibility": null,
            "width": null
          }
        },
        "84b39d67ff57400990b8cfd22ce7c42c": {
          "model_module": "@jupyter-widgets/controls",
          "model_module_version": "1.5.0",
          "model_name": "FloatProgressModel",
          "state": {
            "_dom_classes": [],
            "_model_module": "@jupyter-widgets/controls",
            "_model_module_version": "1.5.0",
            "_model_name": "FloatProgressModel",
            "_view_count": null,
            "_view_module": "@jupyter-widgets/controls",
            "_view_module_version": "1.5.0",
            "_view_name": "ProgressView",
            "bar_style": "success",
            "description": "",
            "description_tooltip": null,
            "layout": "IPY_MODEL_6e51cb00790e4f1195885e11fe8e87dc",
            "max": 316,
            "min": 0,
            "orientation": "horizontal",
            "style": "IPY_MODEL_fd64cce7159a4e58ae1b448b7c999584",
            "value": 316
          }
        },
        "86b533becd9348f8ac7f5e3b6362b0af": {
          "model_module": "@jupyter-widgets/controls",
          "model_module_version": "1.5.0",
          "model_name": "DescriptionStyleModel",
          "state": {
            "_model_module": "@jupyter-widgets/controls",
            "_model_module_version": "1.5.0",
            "_model_name": "DescriptionStyleModel",
            "_view_count": null,
            "_view_module": "@jupyter-widgets/base",
            "_view_module_version": "1.2.0",
            "_view_name": "StyleView",
            "description_width": ""
          }
        },
        "86e4026532f246828416a7e2f0f4e6f5": {
          "model_module": "@jupyter-widgets/controls",
          "model_module_version": "1.5.0",
          "model_name": "DescriptionStyleModel",
          "state": {
            "_model_module": "@jupyter-widgets/controls",
            "_model_module_version": "1.5.0",
            "_model_name": "DescriptionStyleModel",
            "_view_count": null,
            "_view_module": "@jupyter-widgets/base",
            "_view_module_version": "1.2.0",
            "_view_name": "StyleView",
            "description_width": ""
          }
        },
        "88294d5e90a3422095eabf15e09e48ab": {
          "model_module": "@jupyter-widgets/controls",
          "model_module_version": "1.5.0",
          "model_name": "ProgressStyleModel",
          "state": {
            "_model_module": "@jupyter-widgets/controls",
            "_model_module_version": "1.5.0",
            "_model_name": "ProgressStyleModel",
            "_view_count": null,
            "_view_module": "@jupyter-widgets/base",
            "_view_module_version": "1.2.0",
            "_view_name": "StyleView",
            "bar_color": null,
            "description_width": ""
          }
        },
        "8b7e1a70f085486f898735195ff11fed": {
          "model_module": "@jupyter-widgets/controls",
          "model_module_version": "1.5.0",
          "model_name": "HTMLModel",
          "state": {
            "_dom_classes": [],
            "_model_module": "@jupyter-widgets/controls",
            "_model_module_version": "1.5.0",
            "_model_name": "HTMLModel",
            "_view_count": null,
            "_view_module": "@jupyter-widgets/controls",
            "_view_module_version": "1.5.0",
            "_view_name": "HTMLView",
            "description": "",
            "description_tooltip": null,
            "layout": "IPY_MODEL_b30d09ceead64d9aa72fc1f4b1afd810",
            "placeholder": "​",
            "style": "IPY_MODEL_ab82bdde0120494bb808b477030fa71a",
            "value": "Downloading (…)rocessor_config.json: 100%"
          }
        },
        "8dd5dbcdb663439bbdb3e1f012fe9c32": {
          "model_module": "@jupyter-widgets/controls",
          "model_module_version": "1.5.0",
          "model_name": "HBoxModel",
          "state": {
            "_dom_classes": [],
            "_model_module": "@jupyter-widgets/controls",
            "_model_module_version": "1.5.0",
            "_model_name": "HBoxModel",
            "_view_count": null,
            "_view_module": "@jupyter-widgets/controls",
            "_view_module_version": "1.5.0",
            "_view_name": "HBoxView",
            "box_style": "",
            "children": [
              "IPY_MODEL_6fd95a58059f468789768999d902f54d",
              "IPY_MODEL_425d58a922584999a4a0f1d9d4ff2c33",
              "IPY_MODEL_126ecc351b934c71aceb4b4469cac5b4"
            ],
            "layout": "IPY_MODEL_0d2c40e7258c4dd18c705c4266656977"
          }
        },
        "8efbf0cf12754bdb945197acbf9384f4": {
          "model_module": "@jupyter-widgets/controls",
          "model_module_version": "1.5.0",
          "model_name": "HTMLModel",
          "state": {
            "_dom_classes": [],
            "_model_module": "@jupyter-widgets/controls",
            "_model_module_version": "1.5.0",
            "_model_name": "HTMLModel",
            "_view_count": null,
            "_view_module": "@jupyter-widgets/controls",
            "_view_module_version": "1.5.0",
            "_view_name": "HTMLView",
            "description": "",
            "description_tooltip": null,
            "layout": "IPY_MODEL_47ec53d096404cd2b9adbe899ca74f1d",
            "placeholder": "​",
            "style": "IPY_MODEL_0e5796299e3b44bd98801308371d6cfe",
            "value": " 525k/525k [00:00&lt;00:00, 3.16MB/s]"
          }
        },
        "92301ebd6ceb4aebbb957bce01d6c465": {
          "model_module": "@jupyter-widgets/base",
          "model_module_version": "1.2.0",
          "model_name": "LayoutModel",
          "state": {
            "_model_module": "@jupyter-widgets/base",
            "_model_module_version": "1.2.0",
            "_model_name": "LayoutModel",
            "_view_count": null,
            "_view_module": "@jupyter-widgets/base",
            "_view_module_version": "1.2.0",
            "_view_name": "LayoutView",
            "align_content": null,
            "align_items": null,
            "align_self": null,
            "border": null,
            "bottom": null,
            "display": null,
            "flex": null,
            "flex_flow": null,
            "grid_area": null,
            "grid_auto_columns": null,
            "grid_auto_flow": null,
            "grid_auto_rows": null,
            "grid_column": null,
            "grid_gap": null,
            "grid_row": null,
            "grid_template_areas": null,
            "grid_template_columns": null,
            "grid_template_rows": null,
            "height": null,
            "justify_content": null,
            "justify_items": null,
            "left": null,
            "margin": null,
            "max_height": null,
            "max_width": null,
            "min_height": null,
            "min_width": null,
            "object_fit": null,
            "object_position": null,
            "order": null,
            "overflow": null,
            "overflow_x": null,
            "overflow_y": null,
            "padding": null,
            "right": null,
            "top": null,
            "visibility": null,
            "width": null
          }
        },
        "928442a4e674448d84e441050c9dd998": {
          "model_module": "@jupyter-widgets/base",
          "model_module_version": "1.2.0",
          "model_name": "LayoutModel",
          "state": {
            "_model_module": "@jupyter-widgets/base",
            "_model_module_version": "1.2.0",
            "_model_name": "LayoutModel",
            "_view_count": null,
            "_view_module": "@jupyter-widgets/base",
            "_view_module_version": "1.2.0",
            "_view_name": "LayoutView",
            "align_content": null,
            "align_items": null,
            "align_self": null,
            "border": null,
            "bottom": null,
            "display": null,
            "flex": null,
            "flex_flow": null,
            "grid_area": null,
            "grid_auto_columns": null,
            "grid_auto_flow": null,
            "grid_auto_rows": null,
            "grid_column": null,
            "grid_gap": null,
            "grid_row": null,
            "grid_template_areas": null,
            "grid_template_columns": null,
            "grid_template_rows": null,
            "height": null,
            "justify_content": null,
            "justify_items": null,
            "left": null,
            "margin": null,
            "max_height": null,
            "max_width": null,
            "min_height": null,
            "min_width": null,
            "object_fit": null,
            "object_position": null,
            "order": null,
            "overflow": null,
            "overflow_x": null,
            "overflow_y": null,
            "padding": null,
            "right": null,
            "top": null,
            "visibility": null,
            "width": null
          }
        },
        "93b0b16687aa4a208eb6d0797cca72f6": {
          "model_module": "@jupyter-widgets/controls",
          "model_module_version": "1.5.0",
          "model_name": "HTMLModel",
          "state": {
            "_dom_classes": [],
            "_model_module": "@jupyter-widgets/controls",
            "_model_module_version": "1.5.0",
            "_model_name": "HTMLModel",
            "_view_count": null,
            "_view_module": "@jupyter-widgets/controls",
            "_view_module_version": "1.5.0",
            "_view_name": "HTMLView",
            "description": "",
            "description_tooltip": null,
            "layout": "IPY_MODEL_2f78d84f9b844b5381b8434555f51e6f",
            "placeholder": "​",
            "style": "IPY_MODEL_1d490f5b90e84c758641770a419f64c9",
            "value": " 316/316 [00:00&lt;00:00, 18.6kB/s]"
          }
        },
        "9442a82dece34dbb983e62e7ee2e3b82": {
          "model_module": "@jupyter-widgets/controls",
          "model_module_version": "1.5.0",
          "model_name": "DescriptionStyleModel",
          "state": {
            "_model_module": "@jupyter-widgets/controls",
            "_model_module_version": "1.5.0",
            "_model_name": "DescriptionStyleModel",
            "_view_count": null,
            "_view_module": "@jupyter-widgets/base",
            "_view_module_version": "1.2.0",
            "_view_name": "StyleView",
            "description_width": ""
          }
        },
        "95caaf34484a4b21949cdd01b56f6859": {
          "model_module": "@jupyter-widgets/controls",
          "model_module_version": "1.5.0",
          "model_name": "ProgressStyleModel",
          "state": {
            "_model_module": "@jupyter-widgets/controls",
            "_model_module_version": "1.5.0",
            "_model_name": "ProgressStyleModel",
            "_view_count": null,
            "_view_module": "@jupyter-widgets/base",
            "_view_module_version": "1.2.0",
            "_view_name": "StyleView",
            "bar_color": null,
            "description_width": ""
          }
        },
        "97f8416126b5491cae52205049acbb48": {
          "model_module": "@jupyter-widgets/controls",
          "model_module_version": "1.5.0",
          "model_name": "HTMLModel",
          "state": {
            "_dom_classes": [],
            "_model_module": "@jupyter-widgets/controls",
            "_model_module_version": "1.5.0",
            "_model_name": "HTMLModel",
            "_view_count": null,
            "_view_module": "@jupyter-widgets/controls",
            "_view_module_version": "1.5.0",
            "_view_name": "HTMLView",
            "description": "",
            "description_tooltip": null,
            "layout": "IPY_MODEL_63fc4c8694ff4d47a67b9989e2c4f8da",
            "placeholder": "​",
            "style": "IPY_MODEL_53cd55f37bc64449a2ae0b50bcf647d3",
            "value": "Downloading (…)okenizer_config.json: 100%"
          }
        },
        "9c7c8d18c1924330bd0ea2c199c36591": {
          "model_module": "@jupyter-widgets/controls",
          "model_module_version": "1.5.0",
          "model_name": "ProgressStyleModel",
          "state": {
            "_model_module": "@jupyter-widgets/controls",
            "_model_module_version": "1.5.0",
            "_model_name": "ProgressStyleModel",
            "_view_count": null,
            "_view_module": "@jupyter-widgets/base",
            "_view_module_version": "1.2.0",
            "_view_name": "StyleView",
            "bar_color": null,
            "description_width": ""
          }
        },
        "9e72ff537f26453fb6b50f5ac81eef4f": {
          "model_module": "@jupyter-widgets/controls",
          "model_module_version": "1.5.0",
          "model_name": "HTMLModel",
          "state": {
            "_dom_classes": [],
            "_model_module": "@jupyter-widgets/controls",
            "_model_module_version": "1.5.0",
            "_model_name": "HTMLModel",
            "_view_count": null,
            "_view_module": "@jupyter-widgets/controls",
            "_view_module_version": "1.5.0",
            "_view_name": "HTMLView",
            "description": "",
            "description_tooltip": null,
            "layout": "IPY_MODEL_08a06a410e244abb8b50d51007093519",
            "placeholder": "​",
            "style": "IPY_MODEL_a41f4fef66f6477aa98db3c5be3dbc4a",
            "value": "Downloading (…)olve/main/merges.txt: 100%"
          }
        },
        "a25a599c18b84de78ff9eb286d9c5b95": {
          "model_module": "@jupyter-widgets/base",
          "model_module_version": "1.2.0",
          "model_name": "LayoutModel",
          "state": {
            "_model_module": "@jupyter-widgets/base",
            "_model_module_version": "1.2.0",
            "_model_name": "LayoutModel",
            "_view_count": null,
            "_view_module": "@jupyter-widgets/base",
            "_view_module_version": "1.2.0",
            "_view_name": "LayoutView",
            "align_content": null,
            "align_items": null,
            "align_self": null,
            "border": null,
            "bottom": null,
            "display": null,
            "flex": null,
            "flex_flow": null,
            "grid_area": null,
            "grid_auto_columns": null,
            "grid_auto_flow": null,
            "grid_auto_rows": null,
            "grid_column": null,
            "grid_gap": null,
            "grid_row": null,
            "grid_template_areas": null,
            "grid_template_columns": null,
            "grid_template_rows": null,
            "height": null,
            "justify_content": null,
            "justify_items": null,
            "left": null,
            "margin": null,
            "max_height": null,
            "max_width": null,
            "min_height": null,
            "min_width": null,
            "object_fit": null,
            "object_position": null,
            "order": null,
            "overflow": null,
            "overflow_x": null,
            "overflow_y": null,
            "padding": null,
            "right": null,
            "top": null,
            "visibility": null,
            "width": null
          }
        },
        "a41f4fef66f6477aa98db3c5be3dbc4a": {
          "model_module": "@jupyter-widgets/controls",
          "model_module_version": "1.5.0",
          "model_name": "DescriptionStyleModel",
          "state": {
            "_model_module": "@jupyter-widgets/controls",
            "_model_module_version": "1.5.0",
            "_model_name": "DescriptionStyleModel",
            "_view_count": null,
            "_view_module": "@jupyter-widgets/base",
            "_view_module_version": "1.2.0",
            "_view_name": "StyleView",
            "description_width": ""
          }
        },
        "aa34abbe8733423397a65d4045efe4b3": {
          "model_module": "@jupyter-widgets/controls",
          "model_module_version": "1.5.0",
          "model_name": "HBoxModel",
          "state": {
            "_dom_classes": [],
            "_model_module": "@jupyter-widgets/controls",
            "_model_module_version": "1.5.0",
            "_model_name": "HBoxModel",
            "_view_count": null,
            "_view_module": "@jupyter-widgets/controls",
            "_view_module_version": "1.5.0",
            "_view_name": "HBoxView",
            "box_style": "",
            "children": [
              "IPY_MODEL_9e72ff537f26453fb6b50f5ac81eef4f",
              "IPY_MODEL_5f6862a2e3eb4cc8939a6a04dcb289f4",
              "IPY_MODEL_8efbf0cf12754bdb945197acbf9384f4"
            ],
            "layout": "IPY_MODEL_44061c8e1ea048f09b59147dba5f4e07"
          }
        },
        "aacfff98136e4b93a28f923d74736450": {
          "model_module": "@jupyter-widgets/controls",
          "model_module_version": "1.5.0",
          "model_name": "ProgressStyleModel",
          "state": {
            "_model_module": "@jupyter-widgets/controls",
            "_model_module_version": "1.5.0",
            "_model_name": "ProgressStyleModel",
            "_view_count": null,
            "_view_module": "@jupyter-widgets/base",
            "_view_module_version": "1.2.0",
            "_view_name": "StyleView",
            "bar_color": null,
            "description_width": ""
          }
        },
        "ab82bdde0120494bb808b477030fa71a": {
          "model_module": "@jupyter-widgets/controls",
          "model_module_version": "1.5.0",
          "model_name": "DescriptionStyleModel",
          "state": {
            "_model_module": "@jupyter-widgets/controls",
            "_model_module_version": "1.5.0",
            "_model_name": "DescriptionStyleModel",
            "_view_count": null,
            "_view_module": "@jupyter-widgets/base",
            "_view_module_version": "1.2.0",
            "_view_name": "StyleView",
            "description_width": ""
          }
        },
        "ae781aca89204c06b1f149e928f06a78": {
          "model_module": "@jupyter-widgets/controls",
          "model_module_version": "1.5.0",
          "model_name": "HTMLModel",
          "state": {
            "_dom_classes": [],
            "_model_module": "@jupyter-widgets/controls",
            "_model_module_version": "1.5.0",
            "_model_name": "HTMLModel",
            "_view_count": null,
            "_view_module": "@jupyter-widgets/controls",
            "_view_module_version": "1.5.0",
            "_view_name": "HTMLView",
            "description": "",
            "description_tooltip": null,
            "layout": "IPY_MODEL_74214bc03d4a43b0a531a858a5c75010",
            "placeholder": "​",
            "style": "IPY_MODEL_4743ec07e7e246ef9024511194d93aec",
            "value": "Downloading (…)olve/main/vocab.json: 100%"
          }
        },
        "b0bcd9024230492f9105aea0eba8ad5c": {
          "model_module": "@jupyter-widgets/controls",
          "model_module_version": "1.5.0",
          "model_name": "DescriptionStyleModel",
          "state": {
            "_model_module": "@jupyter-widgets/controls",
            "_model_module_version": "1.5.0",
            "_model_name": "DescriptionStyleModel",
            "_view_count": null,
            "_view_module": "@jupyter-widgets/base",
            "_view_module_version": "1.2.0",
            "_view_name": "StyleView",
            "description_width": ""
          }
        },
        "b0eca420515b41b88ba385eb35ceaa27": {
          "model_module": "@jupyter-widgets/controls",
          "model_module_version": "1.5.0",
          "model_name": "HTMLModel",
          "state": {
            "_dom_classes": [],
            "_model_module": "@jupyter-widgets/controls",
            "_model_module_version": "1.5.0",
            "_model_name": "HTMLModel",
            "_view_count": null,
            "_view_module": "@jupyter-widgets/controls",
            "_view_module_version": "1.5.0",
            "_view_name": "HTMLView",
            "description": "",
            "description_tooltip": null,
            "layout": "IPY_MODEL_4b6b69c600584cacad640b3fe8c64535",
            "placeholder": "​",
            "style": "IPY_MODEL_ea1724f88d6a49f3bae4efbe46176526",
            "value": " 568/568 [00:00&lt;00:00, 34.6kB/s]"
          }
        },
        "b30d09ceead64d9aa72fc1f4b1afd810": {
          "model_module": "@jupyter-widgets/base",
          "model_module_version": "1.2.0",
          "model_name": "LayoutModel",
          "state": {
            "_model_module": "@jupyter-widgets/base",
            "_model_module_version": "1.2.0",
            "_model_name": "LayoutModel",
            "_view_count": null,
            "_view_module": "@jupyter-widgets/base",
            "_view_module_version": "1.2.0",
            "_view_name": "LayoutView",
            "align_content": null,
            "align_items": null,
            "align_self": null,
            "border": null,
            "bottom": null,
            "display": null,
            "flex": null,
            "flex_flow": null,
            "grid_area": null,
            "grid_auto_columns": null,
            "grid_auto_flow": null,
            "grid_auto_rows": null,
            "grid_column": null,
            "grid_gap": null,
            "grid_row": null,
            "grid_template_areas": null,
            "grid_template_columns": null,
            "grid_template_rows": null,
            "height": null,
            "justify_content": null,
            "justify_items": null,
            "left": null,
            "margin": null,
            "max_height": null,
            "max_width": null,
            "min_height": null,
            "min_width": null,
            "object_fit": null,
            "object_position": null,
            "order": null,
            "overflow": null,
            "overflow_x": null,
            "overflow_y": null,
            "padding": null,
            "right": null,
            "top": null,
            "visibility": null,
            "width": null
          }
        },
        "b407326a0ccb47a589b83a12273cd5f5": {
          "model_module": "@jupyter-widgets/base",
          "model_module_version": "1.2.0",
          "model_name": "LayoutModel",
          "state": {
            "_model_module": "@jupyter-widgets/base",
            "_model_module_version": "1.2.0",
            "_model_name": "LayoutModel",
            "_view_count": null,
            "_view_module": "@jupyter-widgets/base",
            "_view_module_version": "1.2.0",
            "_view_name": "LayoutView",
            "align_content": null,
            "align_items": null,
            "align_self": null,
            "border": null,
            "bottom": null,
            "display": null,
            "flex": null,
            "flex_flow": null,
            "grid_area": null,
            "grid_auto_columns": null,
            "grid_auto_flow": null,
            "grid_auto_rows": null,
            "grid_column": null,
            "grid_gap": null,
            "grid_row": null,
            "grid_template_areas": null,
            "grid_template_columns": null,
            "grid_template_rows": null,
            "height": null,
            "justify_content": null,
            "justify_items": null,
            "left": null,
            "margin": null,
            "max_height": null,
            "max_width": null,
            "min_height": null,
            "min_width": null,
            "object_fit": null,
            "object_position": null,
            "order": null,
            "overflow": null,
            "overflow_x": null,
            "overflow_y": null,
            "padding": null,
            "right": null,
            "top": null,
            "visibility": null,
            "width": null
          }
        },
        "b92404ea84a441deb501fa402ad8edb5": {
          "model_module": "@jupyter-widgets/base",
          "model_module_version": "1.2.0",
          "model_name": "LayoutModel",
          "state": {
            "_model_module": "@jupyter-widgets/base",
            "_model_module_version": "1.2.0",
            "_model_name": "LayoutModel",
            "_view_count": null,
            "_view_module": "@jupyter-widgets/base",
            "_view_module_version": "1.2.0",
            "_view_name": "LayoutView",
            "align_content": null,
            "align_items": null,
            "align_self": null,
            "border": null,
            "bottom": null,
            "display": null,
            "flex": null,
            "flex_flow": null,
            "grid_area": null,
            "grid_auto_columns": null,
            "grid_auto_flow": null,
            "grid_auto_rows": null,
            "grid_column": null,
            "grid_gap": null,
            "grid_row": null,
            "grid_template_areas": null,
            "grid_template_columns": null,
            "grid_template_rows": null,
            "height": null,
            "justify_content": null,
            "justify_items": null,
            "left": null,
            "margin": null,
            "max_height": null,
            "max_width": null,
            "min_height": null,
            "min_width": null,
            "object_fit": null,
            "object_position": null,
            "order": null,
            "overflow": null,
            "overflow_x": null,
            "overflow_y": null,
            "padding": null,
            "right": null,
            "top": null,
            "visibility": null,
            "width": null
          }
        },
        "b9a8100c9999427a8d2f8c2838037798": {
          "model_module": "@jupyter-widgets/controls",
          "model_module_version": "1.5.0",
          "model_name": "DescriptionStyleModel",
          "state": {
            "_model_module": "@jupyter-widgets/controls",
            "_model_module_version": "1.5.0",
            "_model_name": "DescriptionStyleModel",
            "_view_count": null,
            "_view_module": "@jupyter-widgets/base",
            "_view_module_version": "1.2.0",
            "_view_name": "StyleView",
            "description_width": ""
          }
        },
        "bab0fc0038874735a82230e5eff3d862": {
          "model_module": "@jupyter-widgets/controls",
          "model_module_version": "1.5.0",
          "model_name": "HTMLModel",
          "state": {
            "_dom_classes": [],
            "_model_module": "@jupyter-widgets/controls",
            "_model_module_version": "1.5.0",
            "_model_name": "HTMLModel",
            "_view_count": null,
            "_view_module": "@jupyter-widgets/controls",
            "_view_module_version": "1.5.0",
            "_view_name": "HTMLView",
            "description": "",
            "description_tooltip": null,
            "layout": "IPY_MODEL_f11712190fdb4b93bb1a4b7f50c937c7",
            "placeholder": "​",
            "style": "IPY_MODEL_fde2c12ced404e40bb0a7d075046a0b1",
            "value": "Downloading (…)lve/main/config.json: 100%"
          }
        },
        "be2513f7f22745e285bb4eb643561f62": {
          "model_module": "@jupyter-widgets/controls",
          "model_module_version": "1.5.0",
          "model_name": "DescriptionStyleModel",
          "state": {
            "_model_module": "@jupyter-widgets/controls",
            "_model_module_version": "1.5.0",
            "_model_name": "DescriptionStyleModel",
            "_view_count": null,
            "_view_module": "@jupyter-widgets/base",
            "_view_module_version": "1.2.0",
            "_view_name": "StyleView",
            "description_width": ""
          }
        },
        "c20168443c2048ed9e2eedb3937b5048": {
          "model_module": "@jupyter-widgets/base",
          "model_module_version": "1.2.0",
          "model_name": "LayoutModel",
          "state": {
            "_model_module": "@jupyter-widgets/base",
            "_model_module_version": "1.2.0",
            "_model_name": "LayoutModel",
            "_view_count": null,
            "_view_module": "@jupyter-widgets/base",
            "_view_module_version": "1.2.0",
            "_view_name": "LayoutView",
            "align_content": null,
            "align_items": null,
            "align_self": null,
            "border": null,
            "bottom": null,
            "display": null,
            "flex": null,
            "flex_flow": null,
            "grid_area": null,
            "grid_auto_columns": null,
            "grid_auto_flow": null,
            "grid_auto_rows": null,
            "grid_column": null,
            "grid_gap": null,
            "grid_row": null,
            "grid_template_areas": null,
            "grid_template_columns": null,
            "grid_template_rows": null,
            "height": null,
            "justify_content": null,
            "justify_items": null,
            "left": null,
            "margin": null,
            "max_height": null,
            "max_width": null,
            "min_height": null,
            "min_width": null,
            "object_fit": null,
            "object_position": null,
            "order": null,
            "overflow": null,
            "overflow_x": null,
            "overflow_y": null,
            "padding": null,
            "right": null,
            "top": null,
            "visibility": null,
            "width": null
          }
        },
        "c57ca79471514e27bcd4dc338ab641fc": {
          "model_module": "@jupyter-widgets/base",
          "model_module_version": "1.2.0",
          "model_name": "LayoutModel",
          "state": {
            "_model_module": "@jupyter-widgets/base",
            "_model_module_version": "1.2.0",
            "_model_name": "LayoutModel",
            "_view_count": null,
            "_view_module": "@jupyter-widgets/base",
            "_view_module_version": "1.2.0",
            "_view_name": "LayoutView",
            "align_content": null,
            "align_items": null,
            "align_self": null,
            "border": null,
            "bottom": null,
            "display": null,
            "flex": null,
            "flex_flow": null,
            "grid_area": null,
            "grid_auto_columns": null,
            "grid_auto_flow": null,
            "grid_auto_rows": null,
            "grid_column": null,
            "grid_gap": null,
            "grid_row": null,
            "grid_template_areas": null,
            "grid_template_columns": null,
            "grid_template_rows": null,
            "height": null,
            "justify_content": null,
            "justify_items": null,
            "left": null,
            "margin": null,
            "max_height": null,
            "max_width": null,
            "min_height": null,
            "min_width": null,
            "object_fit": null,
            "object_position": null,
            "order": null,
            "overflow": null,
            "overflow_x": null,
            "overflow_y": null,
            "padding": null,
            "right": null,
            "top": null,
            "visibility": null,
            "width": null
          }
        },
        "c80d862e1e8d4cb982abad53f442a4e5": {
          "model_module": "@jupyter-widgets/controls",
          "model_module_version": "1.5.0",
          "model_name": "FloatProgressModel",
          "state": {
            "_dom_classes": [],
            "_model_module": "@jupyter-widgets/controls",
            "_model_module_version": "1.5.0",
            "_model_name": "FloatProgressModel",
            "_view_count": null,
            "_view_module": "@jupyter-widgets/controls",
            "_view_module_version": "1.5.0",
            "_view_name": "ProgressView",
            "bar_style": "success",
            "description": "",
            "description_tooltip": null,
            "layout": "IPY_MODEL_25b2647c0b864334b3b53ba0a90402ff",
            "max": 1042301,
            "min": 0,
            "orientation": "horizontal",
            "style": "IPY_MODEL_88294d5e90a3422095eabf15e09e48ab",
            "value": 1042301
          }
        },
        "c916545d17654b96ac8d72f166cf879f": {
          "model_module": "@jupyter-widgets/controls",
          "model_module_version": "1.5.0",
          "model_name": "DescriptionStyleModel",
          "state": {
            "_model_module": "@jupyter-widgets/controls",
            "_model_module_version": "1.5.0",
            "_model_name": "DescriptionStyleModel",
            "_view_count": null,
            "_view_module": "@jupyter-widgets/base",
            "_view_module_version": "1.2.0",
            "_view_name": "StyleView",
            "description_width": ""
          }
        },
        "cb5650b0314d4a9e917fed0a15df707d": {
          "model_module": "@jupyter-widgets/base",
          "model_module_version": "1.2.0",
          "model_name": "LayoutModel",
          "state": {
            "_model_module": "@jupyter-widgets/base",
            "_model_module_version": "1.2.0",
            "_model_name": "LayoutModel",
            "_view_count": null,
            "_view_module": "@jupyter-widgets/base",
            "_view_module_version": "1.2.0",
            "_view_name": "LayoutView",
            "align_content": null,
            "align_items": null,
            "align_self": null,
            "border": null,
            "bottom": null,
            "display": null,
            "flex": null,
            "flex_flow": null,
            "grid_area": null,
            "grid_auto_columns": null,
            "grid_auto_flow": null,
            "grid_auto_rows": null,
            "grid_column": null,
            "grid_gap": null,
            "grid_row": null,
            "grid_template_areas": null,
            "grid_template_columns": null,
            "grid_template_rows": null,
            "height": null,
            "justify_content": null,
            "justify_items": null,
            "left": null,
            "margin": null,
            "max_height": null,
            "max_width": null,
            "min_height": null,
            "min_width": null,
            "object_fit": null,
            "object_position": null,
            "order": null,
            "overflow": null,
            "overflow_x": null,
            "overflow_y": null,
            "padding": null,
            "right": null,
            "top": null,
            "visibility": null,
            "width": null
          }
        },
        "cf09b28bc55b4ed094995b885466cbf6": {
          "model_module": "@jupyter-widgets/controls",
          "model_module_version": "1.5.0",
          "model_name": "HTMLModel",
          "state": {
            "_dom_classes": [],
            "_model_module": "@jupyter-widgets/controls",
            "_model_module_version": "1.5.0",
            "_model_name": "HTMLModel",
            "_view_count": null,
            "_view_module": "@jupyter-widgets/controls",
            "_view_module_version": "1.5.0",
            "_view_name": "HTMLView",
            "description": "",
            "description_tooltip": null,
            "layout": "IPY_MODEL_8235a1cacd184dd5a3bc9bb11ec432f9",
            "placeholder": "​",
            "style": "IPY_MODEL_056e61264ef14310ab72896cfb46c0be",
            "value": "Downloading (…)lve/main/config.json: 100%"
          }
        },
        "d067b672811c40b9a4ab2893f2733bbd": {
          "model_module": "@jupyter-widgets/controls",
          "model_module_version": "1.5.0",
          "model_name": "FloatProgressModel",
          "state": {
            "_dom_classes": [],
            "_model_module": "@jupyter-widgets/controls",
            "_model_module_version": "1.5.0",
            "_model_name": "FloatProgressModel",
            "_view_count": null,
            "_view_module": "@jupyter-widgets/controls",
            "_view_module_version": "1.5.0",
            "_view_name": "ProgressView",
            "bar_style": "success",
            "description": "",
            "description_tooltip": null,
            "layout": "IPY_MODEL_42914ae5429c42de84975a8f1ebe6112",
            "max": 2224041,
            "min": 0,
            "orientation": "horizontal",
            "style": "IPY_MODEL_9c7c8d18c1924330bd0ea2c199c36591",
            "value": 2224041
          }
        },
        "d154d4ea71be48f6a09a9c4fb6db3126": {
          "model_module": "@jupyter-widgets/controls",
          "model_module_version": "1.5.0",
          "model_name": "FloatProgressModel",
          "state": {
            "_dom_classes": [],
            "_model_module": "@jupyter-widgets/controls",
            "_model_module_version": "1.5.0",
            "_model_name": "FloatProgressModel",
            "_view_count": null,
            "_view_module": "@jupyter-widgets/controls",
            "_view_module_version": "1.5.0",
            "_view_name": "ProgressView",
            "bar_style": "success",
            "description": "",
            "description_tooltip": null,
            "layout": "IPY_MODEL_174b12dece034dd7bc731c18c30c9465",
            "max": 389,
            "min": 0,
            "orientation": "horizontal",
            "style": "IPY_MODEL_164a79f55d1e409b82d26211f29de3ce",
            "value": 389
          }
        },
        "d28538d7242c4003a2e30b71c36fd6c3": {
          "model_module": "@jupyter-widgets/base",
          "model_module_version": "1.2.0",
          "model_name": "LayoutModel",
          "state": {
            "_model_module": "@jupyter-widgets/base",
            "_model_module_version": "1.2.0",
            "_model_name": "LayoutModel",
            "_view_count": null,
            "_view_module": "@jupyter-widgets/base",
            "_view_module_version": "1.2.0",
            "_view_name": "LayoutView",
            "align_content": null,
            "align_items": null,
            "align_self": null,
            "border": null,
            "bottom": null,
            "display": null,
            "flex": null,
            "flex_flow": null,
            "grid_area": null,
            "grid_auto_columns": null,
            "grid_auto_flow": null,
            "grid_auto_rows": null,
            "grid_column": null,
            "grid_gap": null,
            "grid_row": null,
            "grid_template_areas": null,
            "grid_template_columns": null,
            "grid_template_rows": null,
            "height": null,
            "justify_content": null,
            "justify_items": null,
            "left": null,
            "margin": null,
            "max_height": null,
            "max_width": null,
            "min_height": null,
            "min_width": null,
            "object_fit": null,
            "object_position": null,
            "order": null,
            "overflow": null,
            "overflow_x": null,
            "overflow_y": null,
            "padding": null,
            "right": null,
            "top": null,
            "visibility": null,
            "width": null
          }
        },
        "dbc3c85ca4264aa5a606c8856569a8a3": {
          "model_module": "@jupyter-widgets/controls",
          "model_module_version": "1.5.0",
          "model_name": "DescriptionStyleModel",
          "state": {
            "_model_module": "@jupyter-widgets/controls",
            "_model_module_version": "1.5.0",
            "_model_name": "DescriptionStyleModel",
            "_view_count": null,
            "_view_module": "@jupyter-widgets/base",
            "_view_module_version": "1.2.0",
            "_view_name": "StyleView",
            "description_width": ""
          }
        },
        "dbfd16463b53482b97cc281b3fe01b9d": {
          "model_module": "@jupyter-widgets/controls",
          "model_module_version": "1.5.0",
          "model_name": "DescriptionStyleModel",
          "state": {
            "_model_module": "@jupyter-widgets/controls",
            "_model_module_version": "1.5.0",
            "_model_name": "DescriptionStyleModel",
            "_view_count": null,
            "_view_module": "@jupyter-widgets/base",
            "_view_module_version": "1.2.0",
            "_view_name": "StyleView",
            "description_width": ""
          }
        },
        "de303c2628df4ce7820dd8fd56343d52": {
          "model_module": "@jupyter-widgets/base",
          "model_module_version": "1.2.0",
          "model_name": "LayoutModel",
          "state": {
            "_model_module": "@jupyter-widgets/base",
            "_model_module_version": "1.2.0",
            "_model_name": "LayoutModel",
            "_view_count": null,
            "_view_module": "@jupyter-widgets/base",
            "_view_module_version": "1.2.0",
            "_view_name": "LayoutView",
            "align_content": null,
            "align_items": null,
            "align_self": null,
            "border": null,
            "bottom": null,
            "display": null,
            "flex": null,
            "flex_flow": null,
            "grid_area": null,
            "grid_auto_columns": null,
            "grid_auto_flow": null,
            "grid_auto_rows": null,
            "grid_column": null,
            "grid_gap": null,
            "grid_row": null,
            "grid_template_areas": null,
            "grid_template_columns": null,
            "grid_template_rows": null,
            "height": null,
            "justify_content": null,
            "justify_items": null,
            "left": null,
            "margin": null,
            "max_height": null,
            "max_width": null,
            "min_height": null,
            "min_width": null,
            "object_fit": null,
            "object_position": null,
            "order": null,
            "overflow": null,
            "overflow_x": null,
            "overflow_y": null,
            "padding": null,
            "right": null,
            "top": null,
            "visibility": null,
            "width": null
          }
        },
        "df7fe2d03a1b46f18295af8e7ca2b1ff": {
          "model_module": "@jupyter-widgets/controls",
          "model_module_version": "1.5.0",
          "model_name": "HTMLModel",
          "state": {
            "_dom_classes": [],
            "_model_module": "@jupyter-widgets/controls",
            "_model_module_version": "1.5.0",
            "_model_name": "HTMLModel",
            "_view_count": null,
            "_view_module": "@jupyter-widgets/controls",
            "_view_module_version": "1.5.0",
            "_view_name": "HTMLView",
            "description": "",
            "description_tooltip": null,
            "layout": "IPY_MODEL_7dfaf8a940c7441f96078752b65dfe2b",
            "placeholder": "​",
            "style": "IPY_MODEL_be2513f7f22745e285bb4eb643561f62",
            "value": " 1.36M/1.36M [00:00&lt;00:00, 4.15MB/s]"
          }
        },
        "e1fd19862749419284cea68ee0ff0fab": {
          "model_module": "@jupyter-widgets/controls",
          "model_module_version": "1.5.0",
          "model_name": "HBoxModel",
          "state": {
            "_dom_classes": [],
            "_model_module": "@jupyter-widgets/controls",
            "_model_module_version": "1.5.0",
            "_model_name": "HBoxModel",
            "_view_count": null,
            "_view_module": "@jupyter-widgets/controls",
            "_view_module_version": "1.5.0",
            "_view_name": "HBoxView",
            "box_style": "",
            "children": [
              "IPY_MODEL_97f8416126b5491cae52205049acbb48",
              "IPY_MODEL_0a678417dae1462cb5083e9834d7f939",
              "IPY_MODEL_b0eca420515b41b88ba385eb35ceaa27"
            ],
            "layout": "IPY_MODEL_3e822e47e3a047c2a48ab1ed8ac9134a"
          }
        },
        "e67050790ddf48519793de7612a4ea3a": {
          "model_module": "@jupyter-widgets/base",
          "model_module_version": "1.2.0",
          "model_name": "LayoutModel",
          "state": {
            "_model_module": "@jupyter-widgets/base",
            "_model_module_version": "1.2.0",
            "_model_name": "LayoutModel",
            "_view_count": null,
            "_view_module": "@jupyter-widgets/base",
            "_view_module_version": "1.2.0",
            "_view_name": "LayoutView",
            "align_content": null,
            "align_items": null,
            "align_self": null,
            "border": null,
            "bottom": null,
            "display": null,
            "flex": null,
            "flex_flow": null,
            "grid_area": null,
            "grid_auto_columns": null,
            "grid_auto_flow": null,
            "grid_auto_rows": null,
            "grid_column": null,
            "grid_gap": null,
            "grid_row": null,
            "grid_template_areas": null,
            "grid_template_columns": null,
            "grid_template_rows": null,
            "height": null,
            "justify_content": null,
            "justify_items": null,
            "left": null,
            "margin": null,
            "max_height": null,
            "max_width": null,
            "min_height": null,
            "min_width": null,
            "object_fit": null,
            "object_position": null,
            "order": null,
            "overflow": null,
            "overflow_x": null,
            "overflow_y": null,
            "padding": null,
            "right": null,
            "top": null,
            "visibility": null,
            "width": null
          }
        },
        "e772292ebf7b442696fe1dc7f90d138a": {
          "model_module": "@jupyter-widgets/controls",
          "model_module_version": "1.5.0",
          "model_name": "FloatProgressModel",
          "state": {
            "_dom_classes": [],
            "_model_module": "@jupyter-widgets/controls",
            "_model_module_version": "1.5.0",
            "_model_name": "FloatProgressModel",
            "_view_count": null,
            "_view_module": "@jupyter-widgets/controls",
            "_view_module_version": "1.5.0",
            "_view_name": "ProgressView",
            "bar_style": "success",
            "description": "",
            "description_tooltip": null,
            "layout": "IPY_MODEL_103aeb0ca3ab4766836a584b4be949f4",
            "max": 333967901,
            "min": 0,
            "orientation": "horizontal",
            "style": "IPY_MODEL_95caaf34484a4b21949cdd01b56f6859",
            "value": 333967901
          }
        },
        "e87d8d1dbdce4d85b5e91a6bc252e5fa": {
          "model_module": "@jupyter-widgets/base",
          "model_module_version": "1.2.0",
          "model_name": "LayoutModel",
          "state": {
            "_model_module": "@jupyter-widgets/base",
            "_model_module_version": "1.2.0",
            "_model_name": "LayoutModel",
            "_view_count": null,
            "_view_module": "@jupyter-widgets/base",
            "_view_module_version": "1.2.0",
            "_view_name": "LayoutView",
            "align_content": null,
            "align_items": null,
            "align_self": null,
            "border": null,
            "bottom": null,
            "display": null,
            "flex": null,
            "flex_flow": null,
            "grid_area": null,
            "grid_auto_columns": null,
            "grid_auto_flow": null,
            "grid_auto_rows": null,
            "grid_column": null,
            "grid_gap": null,
            "grid_row": null,
            "grid_template_areas": null,
            "grid_template_columns": null,
            "grid_template_rows": null,
            "height": null,
            "justify_content": null,
            "justify_items": null,
            "left": null,
            "margin": null,
            "max_height": null,
            "max_width": null,
            "min_height": null,
            "min_width": null,
            "object_fit": null,
            "object_position": null,
            "order": null,
            "overflow": null,
            "overflow_x": null,
            "overflow_y": null,
            "padding": null,
            "right": null,
            "top": null,
            "visibility": null,
            "width": null
          }
        },
        "e8d9e91f952d47f79fbbd17d30d6d845": {
          "model_module": "@jupyter-widgets/controls",
          "model_module_version": "1.5.0",
          "model_name": "FloatProgressModel",
          "state": {
            "_dom_classes": [],
            "_model_module": "@jupyter-widgets/controls",
            "_model_module_version": "1.5.0",
            "_model_name": "FloatProgressModel",
            "_view_count": null,
            "_view_module": "@jupyter-widgets/controls",
            "_view_module_version": "1.5.0",
            "_view_name": "ProgressView",
            "bar_style": "success",
            "description": "",
            "description_tooltip": null,
            "layout": "IPY_MODEL_14014415b16c43a7bba56ee20122b4df",
            "max": 665,
            "min": 0,
            "orientation": "horizontal",
            "style": "IPY_MODEL_36dd5978bcad48bc9f8564646ac740a5",
            "value": 665
          }
        },
        "ea1724f88d6a49f3bae4efbe46176526": {
          "model_module": "@jupyter-widgets/controls",
          "model_module_version": "1.5.0",
          "model_name": "DescriptionStyleModel",
          "state": {
            "_model_module": "@jupyter-widgets/controls",
            "_model_module_version": "1.5.0",
            "_model_name": "DescriptionStyleModel",
            "_view_count": null,
            "_view_module": "@jupyter-widgets/base",
            "_view_module_version": "1.2.0",
            "_view_name": "StyleView",
            "description_width": ""
          }
        },
        "eca8654e4dd9409694c8d6f746bcbeb3": {
          "model_module": "@jupyter-widgets/controls",
          "model_module_version": "1.5.0",
          "model_name": "HBoxModel",
          "state": {
            "_dom_classes": [],
            "_model_module": "@jupyter-widgets/controls",
            "_model_module_version": "1.5.0",
            "_model_name": "HBoxModel",
            "_view_count": null,
            "_view_module": "@jupyter-widgets/controls",
            "_view_module_version": "1.5.0",
            "_view_name": "HBoxView",
            "box_style": "",
            "children": [
              "IPY_MODEL_cf09b28bc55b4ed094995b885466cbf6",
              "IPY_MODEL_e8d9e91f952d47f79fbbd17d30d6d845",
              "IPY_MODEL_42e9805074544a14afc6f373a6e458bc"
            ],
            "layout": "IPY_MODEL_1c846c069885458ebb0825b6b0dd68ca"
          }
        },
        "ed3e21e16d2140d38cc909543d59e914": {
          "model_module": "@jupyter-widgets/controls",
          "model_module_version": "1.5.0",
          "model_name": "HTMLModel",
          "state": {
            "_dom_classes": [],
            "_model_module": "@jupyter-widgets/controls",
            "_model_module_version": "1.5.0",
            "_model_name": "HTMLModel",
            "_view_count": null,
            "_view_module": "@jupyter-widgets/controls",
            "_view_module_version": "1.5.0",
            "_view_name": "HTMLView",
            "description": "",
            "description_tooltip": null,
            "layout": "IPY_MODEL_580f129c4672441a92716c10e63d5591",
            "placeholder": "​",
            "style": "IPY_MODEL_65fea6979a3a457a8b98afee62aab04d",
            "value": " 334M/334M [00:01&lt;00:00, 307MB/s]"
          }
        },
        "f0785e3a0dff4700a32e1f087e91abc9": {
          "model_module": "@jupyter-widgets/controls",
          "model_module_version": "1.5.0",
          "model_name": "HBoxModel",
          "state": {
            "_dom_classes": [],
            "_model_module": "@jupyter-widgets/controls",
            "_model_module_version": "1.5.0",
            "_model_name": "HBoxModel",
            "_view_count": null,
            "_view_module": "@jupyter-widgets/controls",
            "_view_module_version": "1.5.0",
            "_view_name": "HBoxView",
            "box_style": "",
            "children": [
              "IPY_MODEL_6340aa3186f344c9bfc77557ae08fd23",
              "IPY_MODEL_574fef77f01248c0a2a0bca678942d71",
              "IPY_MODEL_5de9cd33157346ac9b1d5618ef48de32"
            ],
            "layout": "IPY_MODEL_04aa1683d6024a0c86c06d87504a9e0f"
          }
        },
        "f11712190fdb4b93bb1a4b7f50c937c7": {
          "model_module": "@jupyter-widgets/base",
          "model_module_version": "1.2.0",
          "model_name": "LayoutModel",
          "state": {
            "_model_module": "@jupyter-widgets/base",
            "_model_module_version": "1.2.0",
            "_model_name": "LayoutModel",
            "_view_count": null,
            "_view_module": "@jupyter-widgets/base",
            "_view_module_version": "1.2.0",
            "_view_name": "LayoutView",
            "align_content": null,
            "align_items": null,
            "align_self": null,
            "border": null,
            "bottom": null,
            "display": null,
            "flex": null,
            "flex_flow": null,
            "grid_area": null,
            "grid_auto_columns": null,
            "grid_auto_flow": null,
            "grid_auto_rows": null,
            "grid_column": null,
            "grid_gap": null,
            "grid_row": null,
            "grid_template_areas": null,
            "grid_template_columns": null,
            "grid_template_rows": null,
            "height": null,
            "justify_content": null,
            "justify_items": null,
            "left": null,
            "margin": null,
            "max_height": null,
            "max_width": null,
            "min_height": null,
            "min_width": null,
            "object_fit": null,
            "object_position": null,
            "order": null,
            "overflow": null,
            "overflow_x": null,
            "overflow_y": null,
            "padding": null,
            "right": null,
            "top": null,
            "visibility": null,
            "width": null
          }
        },
        "f635d0841597454590ee07d40a881297": {
          "model_module": "@jupyter-widgets/controls",
          "model_module_version": "1.5.0",
          "model_name": "HTMLModel",
          "state": {
            "_dom_classes": [],
            "_model_module": "@jupyter-widgets/controls",
            "_model_module_version": "1.5.0",
            "_model_name": "HTMLModel",
            "_view_count": null,
            "_view_module": "@jupyter-widgets/controls",
            "_view_module_version": "1.5.0",
            "_view_name": "HTMLView",
            "description": "",
            "description_tooltip": null,
            "layout": "IPY_MODEL_a25a599c18b84de78ff9eb286d9c5b95",
            "placeholder": "​",
            "style": "IPY_MODEL_86b533becd9348f8ac7f5e3b6362b0af",
            "value": " 2.22M/2.22M [00:00&lt;00:00, 13.6MB/s]"
          }
        },
        "f9e2d9def92e4f3da0d366fb10a97c8e": {
          "model_module": "@jupyter-widgets/controls",
          "model_module_version": "1.5.0",
          "model_name": "HBoxModel",
          "state": {
            "_dom_classes": [],
            "_model_module": "@jupyter-widgets/controls",
            "_model_module_version": "1.5.0",
            "_model_name": "HBoxModel",
            "_view_count": null,
            "_view_module": "@jupyter-widgets/controls",
            "_view_module_version": "1.5.0",
            "_view_name": "HBoxView",
            "box_style": "",
            "children": [
              "IPY_MODEL_bab0fc0038874735a82230e5eff3d862",
              "IPY_MODEL_585513e310ce4e4e952d96993de2c3c0",
              "IPY_MODEL_0103219e726349cc8d66ce715d3bcabd"
            ],
            "layout": "IPY_MODEL_92301ebd6ceb4aebbb957bce01d6c465"
          }
        },
        "fb849286895b465891a022d705996da1": {
          "model_module": "@jupyter-widgets/controls",
          "model_module_version": "1.5.0",
          "model_name": "HTMLModel",
          "state": {
            "_dom_classes": [],
            "_model_module": "@jupyter-widgets/controls",
            "_model_module_version": "1.5.0",
            "_model_name": "HTMLModel",
            "_view_count": null,
            "_view_module": "@jupyter-widgets/controls",
            "_view_module_version": "1.5.0",
            "_view_name": "HTMLView",
            "description": "",
            "description_tooltip": null,
            "layout": "IPY_MODEL_0d4d77a044c449a5a410cdea2fcce95e",
            "placeholder": "​",
            "style": "IPY_MODEL_72c8594b44dc4e46be95743f4317c5e9",
            "value": "Downloading (…)cial_tokens_map.json: 100%"
          }
        },
        "fd64cce7159a4e58ae1b448b7c999584": {
          "model_module": "@jupyter-widgets/controls",
          "model_module_version": "1.5.0",
          "model_name": "ProgressStyleModel",
          "state": {
            "_model_module": "@jupyter-widgets/controls",
            "_model_module_version": "1.5.0",
            "_model_name": "ProgressStyleModel",
            "_view_count": null,
            "_view_module": "@jupyter-widgets/base",
            "_view_module_version": "1.2.0",
            "_view_name": "StyleView",
            "bar_color": null,
            "description_width": ""
          }
        },
        "fde2c12ced404e40bb0a7d075046a0b1": {
          "model_module": "@jupyter-widgets/controls",
          "model_module_version": "1.5.0",
          "model_name": "DescriptionStyleModel",
          "state": {
            "_model_module": "@jupyter-widgets/controls",
            "_model_module_version": "1.5.0",
            "_model_name": "DescriptionStyleModel",
            "_view_count": null,
            "_view_module": "@jupyter-widgets/base",
            "_view_module_version": "1.2.0",
            "_view_name": "StyleView",
            "description_width": ""
          }
        },
        "fe74693abfed45d7a91877630776882a": {
          "model_module": "@jupyter-widgets/controls",
          "model_module_version": "1.5.0",
          "model_name": "HBoxModel",
          "state": {
            "_dom_classes": [],
            "_model_module": "@jupyter-widgets/controls",
            "_model_module_version": "1.5.0",
            "_model_name": "HBoxModel",
            "_view_count": null,
            "_view_module": "@jupyter-widgets/controls",
            "_view_module_version": "1.5.0",
            "_view_name": "HBoxView",
            "box_style": "",
            "children": [
              "IPY_MODEL_40afd08cde124898b425fb3e2216563c",
              "IPY_MODEL_38febe23eded446da3a890392704baf3",
              "IPY_MODEL_df7fe2d03a1b46f18295af8e7ca2b1ff"
            ],
            "layout": "IPY_MODEL_3b9430531ba24275a40a64ba134c2cf4"
          }
        },
        "ff4fe594902b4e8f8bb9f319e7d7227e": {
          "model_module": "@jupyter-widgets/base",
          "model_module_version": "1.2.0",
          "model_name": "LayoutModel",
          "state": {
            "_model_module": "@jupyter-widgets/base",
            "_model_module_version": "1.2.0",
            "_model_name": "LayoutModel",
            "_view_count": null,
            "_view_module": "@jupyter-widgets/base",
            "_view_module_version": "1.2.0",
            "_view_name": "LayoutView",
            "align_content": null,
            "align_items": null,
            "align_self": null,
            "border": null,
            "bottom": null,
            "display": null,
            "flex": null,
            "flex_flow": null,
            "grid_area": null,
            "grid_auto_columns": null,
            "grid_auto_flow": null,
            "grid_auto_rows": null,
            "grid_column": null,
            "grid_gap": null,
            "grid_row": null,
            "grid_template_areas": null,
            "grid_template_columns": null,
            "grid_template_rows": null,
            "height": null,
            "justify_content": null,
            "justify_items": null,
            "left": null,
            "margin": null,
            "max_height": null,
            "max_width": null,
            "min_height": null,
            "min_width": null,
            "object_fit": null,
            "object_position": null,
            "order": null,
            "overflow": null,
            "overflow_x": null,
            "overflow_y": null,
            "padding": null,
            "right": null,
            "top": null,
            "visibility": null,
            "width": null
          }
        }
      }
    }
  },
  "nbformat": 4,
  "nbformat_minor": 0
}
